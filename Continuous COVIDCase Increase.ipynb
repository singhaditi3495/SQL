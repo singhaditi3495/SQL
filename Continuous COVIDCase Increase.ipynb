{
 "cells": [
  {
   "cell_type": "markdown",
   "metadata": {
    "application/vnd.databricks.v1+cell": {
     "cellMetadata": {},
     "inputWidgets": {},
     "nuid": "fd59e6b1-0a2b-495e-9155-d4bd13aea8ce",
     "showTitle": false,
     "tableResultSettingsMap": {},
     "title": ""
    }
   },
   "source": [
    "**Find Cities where COVID cases are increasing continuously.**"
   ]
  },
  {
   "cell_type": "code",
   "execution_count": 0,
   "metadata": {
    "application/vnd.databricks.v1+cell": {
     "cellMetadata": {
      "byteLimit": 2048000,
      "rowLimit": 10000
     },
     "inputWidgets": {},
     "nuid": "cc8b1d11-a8b2-4ea2-bd32-282ab74d9474",
     "showTitle": false,
     "tableResultSettingsMap": {},
     "title": ""
    }
   },
   "outputs": [
    {
     "output_type": "display_data",
     "data": {
      "text/html": [
       "<style scoped>\n",
       "  .table-result-container {\n",
       "    max-height: 300px;\n",
       "    overflow: auto;\n",
       "  }\n",
       "  table, th, td {\n",
       "    border: 1px solid black;\n",
       "    border-collapse: collapse;\n",
       "  }\n",
       "  th, td {\n",
       "    padding: 5px;\n",
       "  }\n",
       "  th {\n",
       "    text-align: left;\n",
       "  }\n",
       "</style><div class='table-result-container'><table class='table-result'><thead style='background-color: white'><tr><th>num_affected_rows</th><th>num_inserted_rows</th></tr></thead><tbody><tr><td>1</td><td>1</td></tr></tbody></table></div>"
      ]
     },
     "metadata": {
      "application/vnd.databricks.v1+output": {
       "addedWidgets": {},
       "aggData": [],
       "aggError": "",
       "aggOverflow": false,
       "aggSchema": [],
       "aggSeriesLimitReached": false,
       "aggType": "",
       "arguments": {},
       "columnCustomDisplayInfos": {},
       "data": [
        [
         1,
         1
        ]
       ],
       "datasetInfos": [
        {
         "name": "_sqldf",
         "schema": {
          "fields": [
           {
            "metadata": {},
            "name": "num_affected_rows",
            "nullable": true,
            "type": "long"
           },
           {
            "metadata": {},
            "name": "num_inserted_rows",
            "nullable": true,
            "type": "long"
           }
          ],
          "type": "struct"
         },
         "tableIdentifier": null,
         "typeStr": "pyspark.sql.connect.dataframe.DataFrame"
        }
       ],
       "dbfsResultPath": null,
       "isJsonSchema": true,
       "metadata": {
        "createTempViewForImplicitDf": true,
        "dataframeName": "_sqldf",
        "executionCount": 1
       },
       "overflow": false,
       "plotOptions": {
        "customPlotOptions": {},
        "displayType": "table",
        "pivotAggregation": null,
        "pivotColumns": null,
        "xColumns": null,
        "yColumns": null
       },
       "removedWidgets": [],
       "schema": [
        {
         "metadata": "{}",
         "name": "num_affected_rows",
         "type": "\"long\""
        },
        {
         "metadata": "{}",
         "name": "num_inserted_rows",
         "type": "\"long\""
        }
       ],
       "type": "table"
      }
     },
     "output_type": "display_data"
    }
   ],
   "source": [
    "create table covid(city varchar(50),days date,cases int);\n",
    "delete from covid;\n",
    "insert into covid values('DELHI','2022-01-01',100);\n",
    "insert into covid values('DELHI','2022-01-02',200);\n",
    "insert into covid values('DELHI','2022-01-03',300);\n",
    "\n",
    "insert into covid values('MUMBAI','2022-01-01',100);\n",
    "insert into covid values('MUMBAI','2022-01-02',100);\n",
    "insert into covid values('MUMBAI','2022-01-03',300);\n",
    "\n",
    "insert into covid values('CHENNAI','2022-01-01',100);\n",
    "insert into covid values('CHENNAI','2022-01-02',200);\n",
    "insert into covid values('CHENNAI','2022-01-03',150);\n",
    "\n",
    "insert into covid values('BANGALORE','2022-01-01',100);\n",
    "insert into covid values('BANGALORE','2022-01-02',300);\n",
    "insert into covid values('BANGALORE','2022-01-03',200);\n",
    "insert into covid values('BANGALORE','2022-01-04',400);\n"
   ]
  },
  {
   "cell_type": "code",
   "execution_count": 0,
   "metadata": {
    "application/vnd.databricks.v1+cell": {
     "cellMetadata": {
      "byteLimit": 2048000,
      "rowLimit": 10000
     },
     "inputWidgets": {},
     "nuid": "b1070f81-9784-454c-a45a-14791ead86f9",
     "showTitle": false,
     "tableResultSettingsMap": {},
     "title": ""
    }
   },
   "outputs": [
    {
     "output_type": "display_data",
     "data": {
      "text/html": [
       "<style scoped>\n",
       "  .table-result-container {\n",
       "    max-height: 300px;\n",
       "    overflow: auto;\n",
       "  }\n",
       "  table, th, td {\n",
       "    border: 1px solid black;\n",
       "    border-collapse: collapse;\n",
       "  }\n",
       "  th, td {\n",
       "    padding: 5px;\n",
       "  }\n",
       "  th {\n",
       "    text-align: left;\n",
       "  }\n",
       "</style><div class='table-result-container'><table class='table-result'><thead style='background-color: white'><tr><th>city</th><th>days</th><th>cases</th></tr></thead><tbody><tr><td>BANGALORE</td><td>2022-01-04</td><td>400</td></tr><tr><td>BANGALORE</td><td>2022-01-01</td><td>100</td></tr><tr><td>BANGALORE</td><td>2022-01-02</td><td>300</td></tr><tr><td>BANGALORE</td><td>2022-01-03</td><td>200</td></tr><tr><td>CHENNAI</td><td>2022-01-02</td><td>200</td></tr><tr><td>CHENNAI</td><td>2022-01-01</td><td>100</td></tr><tr><td>CHENNAI</td><td>2022-01-03</td><td>150</td></tr><tr><td>MUMBAI</td><td>2022-01-02</td><td>100</td></tr><tr><td>MUMBAI</td><td>2022-01-01</td><td>100</td></tr><tr><td>MUMBAI</td><td>2022-01-03</td><td>300</td></tr><tr><td>DELHI</td><td>2022-01-02</td><td>200</td></tr><tr><td>DELHI</td><td>2022-01-01</td><td>100</td></tr><tr><td>DELHI</td><td>2022-01-03</td><td>300</td></tr></tbody></table></div>"
      ]
     },
     "metadata": {
      "application/vnd.databricks.v1+output": {
       "addedWidgets": {},
       "aggData": [],
       "aggError": "",
       "aggOverflow": false,
       "aggSchema": [],
       "aggSeriesLimitReached": false,
       "aggType": "",
       "arguments": {},
       "columnCustomDisplayInfos": {},
       "data": [
        [
         "BANGALORE",
         "2022-01-04",
         400
        ],
        [
         "BANGALORE",
         "2022-01-01",
         100
        ],
        [
         "BANGALORE",
         "2022-01-02",
         300
        ],
        [
         "BANGALORE",
         "2022-01-03",
         200
        ],
        [
         "CHENNAI",
         "2022-01-02",
         200
        ],
        [
         "CHENNAI",
         "2022-01-01",
         100
        ],
        [
         "CHENNAI",
         "2022-01-03",
         150
        ],
        [
         "MUMBAI",
         "2022-01-02",
         100
        ],
        [
         "MUMBAI",
         "2022-01-01",
         100
        ],
        [
         "MUMBAI",
         "2022-01-03",
         300
        ],
        [
         "DELHI",
         "2022-01-02",
         200
        ],
        [
         "DELHI",
         "2022-01-01",
         100
        ],
        [
         "DELHI",
         "2022-01-03",
         300
        ]
       ],
       "datasetInfos": [
        {
         "name": "_sqldf",
         "schema": {
          "fields": [
           {
            "metadata": {
             "__CHAR_VARCHAR_TYPE_STRING": "varchar(50)"
            },
            "name": "city",
            "nullable": true,
            "type": "string"
           },
           {
            "metadata": {},
            "name": "days",
            "nullable": true,
            "type": "date"
           },
           {
            "metadata": {},
            "name": "cases",
            "nullable": true,
            "type": "integer"
           }
          ],
          "type": "struct"
         },
         "tableIdentifier": null,
         "typeStr": "pyspark.sql.connect.dataframe.DataFrame"
        }
       ],
       "dbfsResultPath": null,
       "isJsonSchema": true,
       "metadata": {
        "createTempViewForImplicitDf": true,
        "dataframeName": "_sqldf",
        "executionCount": 3
       },
       "overflow": false,
       "plotOptions": {
        "customPlotOptions": {},
        "displayType": "table",
        "pivotAggregation": null,
        "pivotColumns": null,
        "xColumns": null,
        "yColumns": null
       },
       "removedWidgets": [],
       "schema": [
        {
         "metadata": "{\"__CHAR_VARCHAR_TYPE_STRING\": \"varchar(50)\"}",
         "name": "city",
         "type": "\"string\""
        },
        {
         "metadata": "{}",
         "name": "days",
         "type": "\"date\""
        },
        {
         "metadata": "{}",
         "name": "cases",
         "type": "\"integer\""
        }
       ],
       "type": "table"
      }
     },
     "output_type": "display_data"
    }
   ],
   "source": [
    "select * from covid"
   ]
  },
  {
   "cell_type": "code",
   "execution_count": 0,
   "metadata": {
    "application/vnd.databricks.v1+cell": {
     "cellMetadata": {
      "byteLimit": 2048000,
      "rowLimit": 10000
     },
     "inputWidgets": {},
     "nuid": "ab21ae9d-3e6e-49f7-9de8-3f66258ac141",
     "showTitle": false,
     "tableResultSettingsMap": {},
     "title": ""
    }
   },
   "outputs": [
    {
     "output_type": "display_data",
     "data": {
      "text/html": [
       "<style scoped>\n",
       "  .table-result-container {\n",
       "    max-height: 300px;\n",
       "    overflow: auto;\n",
       "  }\n",
       "  table, th, td {\n",
       "    border: 1px solid black;\n",
       "    border-collapse: collapse;\n",
       "  }\n",
       "  th, td {\n",
       "    padding: 5px;\n",
       "  }\n",
       "  th {\n",
       "    text-align: left;\n",
       "  }\n",
       "</style><div class='table-result-container'><table class='table-result'><thead style='background-color: white'><tr><th>city</th><th>days</th><th>cases</th><th>rank_cases</th><th>rank_days</th></tr></thead><tbody><tr><td>BANGALORE</td><td>2022-01-01</td><td>100</td><td>1</td><td>1</td></tr><tr><td>BANGALORE</td><td>2022-01-03</td><td>200</td><td>2</td><td>3</td></tr><tr><td>BANGALORE</td><td>2022-01-02</td><td>300</td><td>3</td><td>2</td></tr><tr><td>BANGALORE</td><td>2022-01-04</td><td>400</td><td>4</td><td>4</td></tr><tr><td>CHENNAI</td><td>2022-01-01</td><td>100</td><td>1</td><td>1</td></tr><tr><td>CHENNAI</td><td>2022-01-03</td><td>150</td><td>2</td><td>3</td></tr><tr><td>CHENNAI</td><td>2022-01-02</td><td>200</td><td>3</td><td>2</td></tr><tr><td>DELHI</td><td>2022-01-01</td><td>100</td><td>1</td><td>1</td></tr><tr><td>DELHI</td><td>2022-01-02</td><td>200</td><td>2</td><td>2</td></tr><tr><td>DELHI</td><td>2022-01-03</td><td>300</td><td>3</td><td>3</td></tr><tr><td>MUMBAI</td><td>2022-01-01</td><td>100</td><td>1</td><td>1</td></tr><tr><td>MUMBAI</td><td>2022-01-02</td><td>100</td><td>1</td><td>2</td></tr><tr><td>MUMBAI</td><td>2022-01-03</td><td>300</td><td>3</td><td>3</td></tr></tbody></table></div>"
      ]
     },
     "metadata": {
      "application/vnd.databricks.v1+output": {
       "addedWidgets": {},
       "aggData": [],
       "aggError": "",
       "aggOverflow": false,
       "aggSchema": [],
       "aggSeriesLimitReached": false,
       "aggType": "",
       "arguments": {},
       "columnCustomDisplayInfos": {},
       "data": [
        [
         "BANGALORE",
         "2022-01-01",
         100,
         1,
         1
        ],
        [
         "BANGALORE",
         "2022-01-03",
         200,
         2,
         3
        ],
        [
         "BANGALORE",
         "2022-01-02",
         300,
         3,
         2
        ],
        [
         "BANGALORE",
         "2022-01-04",
         400,
         4,
         4
        ],
        [
         "CHENNAI",
         "2022-01-01",
         100,
         1,
         1
        ],
        [
         "CHENNAI",
         "2022-01-03",
         150,
         2,
         3
        ],
        [
         "CHENNAI",
         "2022-01-02",
         200,
         3,
         2
        ],
        [
         "DELHI",
         "2022-01-01",
         100,
         1,
         1
        ],
        [
         "DELHI",
         "2022-01-02",
         200,
         2,
         2
        ],
        [
         "DELHI",
         "2022-01-03",
         300,
         3,
         3
        ],
        [
         "MUMBAI",
         "2022-01-01",
         100,
         1,
         1
        ],
        [
         "MUMBAI",
         "2022-01-02",
         100,
         1,
         2
        ],
        [
         "MUMBAI",
         "2022-01-03",
         300,
         3,
         3
        ]
       ],
       "datasetInfos": [
        {
         "name": "_sqldf",
         "schema": {
          "fields": [
           {
            "metadata": {
             "__CHAR_VARCHAR_TYPE_STRING": "varchar(50)"
            },
            "name": "city",
            "nullable": true,
            "type": "string"
           },
           {
            "metadata": {},
            "name": "days",
            "nullable": true,
            "type": "date"
           },
           {
            "metadata": {},
            "name": "cases",
            "nullable": true,
            "type": "integer"
           },
           {
            "metadata": {},
            "name": "rank_cases",
            "nullable": false,
            "type": "integer"
           },
           {
            "metadata": {},
            "name": "rank_days",
            "nullable": false,
            "type": "integer"
           }
          ],
          "type": "struct"
         },
         "tableIdentifier": null,
         "typeStr": "pyspark.sql.connect.dataframe.DataFrame"
        }
       ],
       "dbfsResultPath": null,
       "isJsonSchema": true,
       "metadata": {
        "createTempViewForImplicitDf": true,
        "dataframeName": "_sqldf",
        "executionCount": 8
       },
       "overflow": false,
       "plotOptions": {
        "customPlotOptions": {},
        "displayType": "table",
        "pivotAggregation": null,
        "pivotColumns": null,
        "xColumns": null,
        "yColumns": null
       },
       "removedWidgets": [],
       "schema": [
        {
         "metadata": "{\"__CHAR_VARCHAR_TYPE_STRING\": \"varchar(50)\"}",
         "name": "city",
         "type": "\"string\""
        },
        {
         "metadata": "{}",
         "name": "days",
         "type": "\"date\""
        },
        {
         "metadata": "{}",
         "name": "cases",
         "type": "\"integer\""
        },
        {
         "metadata": "{}",
         "name": "rank_cases",
         "type": "\"integer\""
        },
        {
         "metadata": "{}",
         "name": "rank_days",
         "type": "\"integer\""
        }
       ],
       "type": "table"
      }
     },
     "output_type": "display_data"
    }
   ],
   "source": [
    "\n",
    "select\n",
    "*,\n",
    "rank() over(partition by city order by cases ) as rank_cases,\n",
    "rank() over(partition by city order by days) as rank_days\n",
    "from covid"
   ]
  },
  {
   "cell_type": "code",
   "execution_count": 0,
   "metadata": {
    "application/vnd.databricks.v1+cell": {
     "cellMetadata": {
      "byteLimit": 2048000,
      "rowLimit": 10000
     },
     "inputWidgets": {},
     "nuid": "18de6b85-570d-47d7-9011-932941b76735",
     "showTitle": false,
     "tableResultSettingsMap": {},
     "title": ""
    }
   },
   "outputs": [
    {
     "output_type": "display_data",
     "data": {
      "text/html": [
       "<style scoped>\n",
       "  .table-result-container {\n",
       "    max-height: 300px;\n",
       "    overflow: auto;\n",
       "  }\n",
       "  table, th, td {\n",
       "    border: 1px solid black;\n",
       "    border-collapse: collapse;\n",
       "  }\n",
       "  th, td {\n",
       "    padding: 5px;\n",
       "  }\n",
       "  th {\n",
       "    text-align: left;\n",
       "  }\n",
       "</style><div class='table-result-container'><table class='table-result'><thead style='background-color: white'><tr><th>city</th><th>days</th><th>cases</th><th>rank_cases</th><th>rank_days</th><th>diff</th></tr></thead><tbody><tr><td>BANGALORE</td><td>2022-01-01</td><td>100</td><td>1</td><td>1</td><td>0</td></tr><tr><td>BANGALORE</td><td>2022-01-03</td><td>200</td><td>2</td><td>3</td><td>-1</td></tr><tr><td>BANGALORE</td><td>2022-01-02</td><td>300</td><td>3</td><td>2</td><td>1</td></tr><tr><td>BANGALORE</td><td>2022-01-04</td><td>400</td><td>4</td><td>4</td><td>0</td></tr><tr><td>CHENNAI</td><td>2022-01-01</td><td>100</td><td>1</td><td>1</td><td>0</td></tr><tr><td>CHENNAI</td><td>2022-01-03</td><td>150</td><td>2</td><td>3</td><td>-1</td></tr><tr><td>CHENNAI</td><td>2022-01-02</td><td>200</td><td>3</td><td>2</td><td>1</td></tr><tr><td>DELHI</td><td>2022-01-01</td><td>100</td><td>1</td><td>1</td><td>0</td></tr><tr><td>DELHI</td><td>2022-01-02</td><td>200</td><td>2</td><td>2</td><td>0</td></tr><tr><td>DELHI</td><td>2022-01-03</td><td>300</td><td>3</td><td>3</td><td>0</td></tr><tr><td>MUMBAI</td><td>2022-01-01</td><td>100</td><td>1</td><td>1</td><td>0</td></tr><tr><td>MUMBAI</td><td>2022-01-02</td><td>100</td><td>1</td><td>2</td><td>-1</td></tr><tr><td>MUMBAI</td><td>2022-01-03</td><td>300</td><td>3</td><td>3</td><td>0</td></tr></tbody></table></div>"
      ]
     },
     "metadata": {
      "application/vnd.databricks.v1+output": {
       "addedWidgets": {},
       "aggData": [],
       "aggError": "",
       "aggOverflow": false,
       "aggSchema": [],
       "aggSeriesLimitReached": false,
       "aggType": "",
       "arguments": {},
       "columnCustomDisplayInfos": {},
       "data": [
        [
         "BANGALORE",
         "2022-01-01",
         100,
         1,
         1,
         0
        ],
        [
         "BANGALORE",
         "2022-01-03",
         200,
         2,
         3,
         -1
        ],
        [
         "BANGALORE",
         "2022-01-02",
         300,
         3,
         2,
         1
        ],
        [
         "BANGALORE",
         "2022-01-04",
         400,
         4,
         4,
         0
        ],
        [
         "CHENNAI",
         "2022-01-01",
         100,
         1,
         1,
         0
        ],
        [
         "CHENNAI",
         "2022-01-03",
         150,
         2,
         3,
         -1
        ],
        [
         "CHENNAI",
         "2022-01-02",
         200,
         3,
         2,
         1
        ],
        [
         "DELHI",
         "2022-01-01",
         100,
         1,
         1,
         0
        ],
        [
         "DELHI",
         "2022-01-02",
         200,
         2,
         2,
         0
        ],
        [
         "DELHI",
         "2022-01-03",
         300,
         3,
         3,
         0
        ],
        [
         "MUMBAI",
         "2022-01-01",
         100,
         1,
         1,
         0
        ],
        [
         "MUMBAI",
         "2022-01-02",
         100,
         1,
         2,
         -1
        ],
        [
         "MUMBAI",
         "2022-01-03",
         300,
         3,
         3,
         0
        ]
       ],
       "datasetInfos": [
        {
         "name": "_sqldf",
         "schema": {
          "fields": [
           {
            "metadata": {
             "__CHAR_VARCHAR_TYPE_STRING": "varchar(50)"
            },
            "name": "city",
            "nullable": true,
            "type": "string"
           },
           {
            "metadata": {},
            "name": "days",
            "nullable": true,
            "type": "date"
           },
           {
            "metadata": {},
            "name": "cases",
            "nullable": true,
            "type": "integer"
           },
           {
            "metadata": {},
            "name": "rank_cases",
            "nullable": false,
            "type": "integer"
           },
           {
            "metadata": {},
            "name": "rank_days",
            "nullable": false,
            "type": "integer"
           },
           {
            "metadata": {},
            "name": "diff",
            "nullable": false,
            "type": "integer"
           }
          ],
          "type": "struct"
         },
         "tableIdentifier": null,
         "typeStr": "pyspark.sql.connect.dataframe.DataFrame"
        }
       ],
       "dbfsResultPath": null,
       "isJsonSchema": true,
       "metadata": {
        "createTempViewForImplicitDf": true,
        "dataframeName": "_sqldf",
        "executionCount": 18
       },
       "overflow": false,
       "plotOptions": {
        "customPlotOptions": {},
        "displayType": "table",
        "pivotAggregation": null,
        "pivotColumns": null,
        "xColumns": null,
        "yColumns": null
       },
       "removedWidgets": [],
       "schema": [
        {
         "metadata": "{\"__CHAR_VARCHAR_TYPE_STRING\": \"varchar(50)\"}",
         "name": "city",
         "type": "\"string\""
        },
        {
         "metadata": "{}",
         "name": "days",
         "type": "\"date\""
        },
        {
         "metadata": "{}",
         "name": "cases",
         "type": "\"integer\""
        },
        {
         "metadata": "{}",
         "name": "rank_cases",
         "type": "\"integer\""
        },
        {
         "metadata": "{}",
         "name": "rank_days",
         "type": "\"integer\""
        },
        {
         "metadata": "{}",
         "name": "diff",
         "type": "\"integer\""
        }
       ],
       "type": "table"
      }
     },
     "output_type": "display_data"
    }
   ],
   "source": [
    "with cte_diff as (\n",
    "select\n",
    "*,\n",
    "rank() over(partition by city order by cases ) as rank_cases,\n",
    "rank() over(partition by city order by days) as rank_days,\n",
    "rank() over(partition by city order by cases ) - rank() over(partition by city order by days ) as diff\n",
    "from covid ) \n",
    "\n",
    "select * from cte_diff ;"
   ]
  },
  {
   "cell_type": "code",
   "execution_count": 0,
   "metadata": {
    "application/vnd.databricks.v1+cell": {
     "cellMetadata": {
      "byteLimit": 2048000,
      "rowLimit": 10000
     },
     "inputWidgets": {},
     "nuid": "48f3c08c-794e-42b7-b8f0-8ea31320877c",
     "showTitle": false,
     "tableResultSettingsMap": {},
     "title": ""
    }
   },
   "outputs": [
    {
     "output_type": "display_data",
     "data": {
      "text/html": [
       "<style scoped>\n",
       "  .table-result-container {\n",
       "    max-height: 300px;\n",
       "    overflow: auto;\n",
       "  }\n",
       "  table, th, td {\n",
       "    border: 1px solid black;\n",
       "    border-collapse: collapse;\n",
       "  }\n",
       "  th, td {\n",
       "    padding: 5px;\n",
       "  }\n",
       "  th {\n",
       "    text-align: left;\n",
       "  }\n",
       "</style><div class='table-result-container'><table class='table-result'><thead style='background-color: white'><tr><th>city</th></tr></thead><tbody><tr><td>DELHI</td></tr></tbody></table></div>"
      ]
     },
     "metadata": {
      "application/vnd.databricks.v1+output": {
       "addedWidgets": {},
       "aggData": [],
       "aggError": "",
       "aggOverflow": false,
       "aggSchema": [],
       "aggSeriesLimitReached": false,
       "aggType": "",
       "arguments": {},
       "columnCustomDisplayInfos": {},
       "data": [
        [
         "DELHI"
        ]
       ],
       "datasetInfos": [
        {
         "name": "_sqldf",
         "schema": {
          "fields": [
           {
            "metadata": {
             "__CHAR_VARCHAR_TYPE_STRING": "varchar(50)"
            },
            "name": "city",
            "nullable": true,
            "type": "string"
           }
          ],
          "type": "struct"
         },
         "tableIdentifier": null,
         "typeStr": "pyspark.sql.connect.dataframe.DataFrame"
        }
       ],
       "dbfsResultPath": null,
       "isJsonSchema": true,
       "metadata": {
        "createTempViewForImplicitDf": true,
        "dataframeName": "_sqldf",
        "executionCount": 33
       },
       "overflow": false,
       "plotOptions": {
        "customPlotOptions": {},
        "displayType": "table",
        "pivotAggregation": null,
        "pivotColumns": null,
        "xColumns": null,
        "yColumns": null
       },
       "removedWidgets": [],
       "schema": [
        {
         "metadata": "{\"__CHAR_VARCHAR_TYPE_STRING\": \"varchar(50)\"}",
         "name": "city",
         "type": "\"string\""
        }
       ],
       "type": "table"
      }
     },
     "output_type": "display_data"
    }
   ],
   "source": [
    "with cte_diff as (\n",
    "select\n",
    "*,\n",
    "rank() over(partition by city order by cases ) as rank_cases,\n",
    "rank() over(partition by city order by days) as rank_days,\n",
    "rank() over(partition by city order by cases ) - rank() over(partition by city order by days ) as diff\n",
    "from covid ) \n",
    "\n",
    "select city from cte_diff group by city having count(distinct diff) = 1 and max(diff)=0;"
   ]
  },
  {
   "cell_type": "code",
   "execution_count": 0,
   "metadata": {
    "application/vnd.databricks.v1+cell": {
     "cellMetadata": {},
     "inputWidgets": {},
     "nuid": "c7bfa5ed-3ea6-4658-af5a-865fafc2f493",
     "showTitle": false,
     "tableResultSettingsMap": {},
     "title": ""
    }
   },
   "outputs": [],
   "source": []
  },
  {
   "cell_type": "code",
   "execution_count": 0,
   "metadata": {
    "application/vnd.databricks.v1+cell": {
     "cellMetadata": {},
     "inputWidgets": {},
     "nuid": "06f67c51-8ce9-43c3-a5c1-1ab605cd1717",
     "showTitle": false,
     "tableResultSettingsMap": {},
     "title": ""
    }
   },
   "outputs": [],
   "source": []
  },
  {
   "cell_type": "code",
   "execution_count": 0,
   "metadata": {
    "application/vnd.databricks.v1+cell": {
     "cellMetadata": {},
     "inputWidgets": {},
     "nuid": "dfccfc73-01df-453c-bb5d-7ba7a31d5779",
     "showTitle": false,
     "tableResultSettingsMap": {},
     "title": ""
    }
   },
   "outputs": [],
   "source": []
  },
  {
   "cell_type": "code",
   "execution_count": 0,
   "metadata": {
    "application/vnd.databricks.v1+cell": {
     "cellMetadata": {},
     "inputWidgets": {},
     "nuid": "96811a38-638f-4897-b549-68f6bd566519",
     "showTitle": false,
     "tableResultSettingsMap": {},
     "title": ""
    }
   },
   "outputs": [],
   "source": []
  },
  {
   "cell_type": "code",
   "execution_count": 0,
   "metadata": {
    "application/vnd.databricks.v1+cell": {
     "cellMetadata": {},
     "inputWidgets": {},
     "nuid": "5ea18cd5-09f9-4569-a0a0-77b35c97241f",
     "showTitle": false,
     "tableResultSettingsMap": {},
     "title": ""
    }
   },
   "outputs": [],
   "source": []
  },
  {
   "cell_type": "code",
   "execution_count": 0,
   "metadata": {
    "application/vnd.databricks.v1+cell": {
     "cellMetadata": {},
     "inputWidgets": {},
     "nuid": "e4647de8-b5fc-4957-9c1a-63f1d00c23a4",
     "showTitle": false,
     "tableResultSettingsMap": {},
     "title": ""
    }
   },
   "outputs": [],
   "source": []
  }
 ],
 "metadata": {
  "application/vnd.databricks.v1+notebook": {
   "computePreferences": {
    "hardware": {
     "accelerator": null,
     "gpuPoolId": null,
     "memory": null
    }
   },
   "dashboards": [],
   "environmentMetadata": {
    "base_environment": "",
    "environment_version": "4"
   },
   "inputWidgetPreferences": null,
   "language": "sql",
   "notebookMetadata": {},
   "notebookName": "Continuous COVIDCase Increase",
   "widgets": {}
  },
  "language_info": {
   "name": "sql"
  }
 },
 "nbformat": 4,
 "nbformat_minor": 0
}