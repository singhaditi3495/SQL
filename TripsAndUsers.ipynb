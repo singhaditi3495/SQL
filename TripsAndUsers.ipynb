{
 "cells": [
  {
   "cell_type": "markdown",
   "metadata": {
    "application/vnd.databricks.v1+cell": {
     "cellMetadata": {},
     "inputWidgets": {},
     "nuid": "93867e26-2d91-4284-a143-5d0e450c1849",
     "showTitle": false,
     "tableResultSettingsMap": {},
     "title": ""
    }
   },
   "source": [
    "# **TRIPS AND USERS**\n",
    "\n",
    "write a sql query to find \n",
    "\n",
    "1. The Cancellation rate of requests with banned users (both client and driver must not be banned) \n",
    "each day between \"2023-10-01\" and \"2023-10-03\"\n",
    "Round Cancellation Rate to two decimal points\n",
    "\n",
    "2. The Cancellation rate is computed by dividing the number of canceled (by driver or client) requests with unbanned users by the total number of requests with unbanned users on that day"
   ]
  },
  {
   "cell_type": "code",
   "execution_count": 0,
   "metadata": {
    "application/vnd.databricks.v1+cell": {
     "cellMetadata": {
      "byteLimit": 2048000,
      "rowLimit": 10000
     },
     "inputWidgets": {},
     "nuid": "5c29b081-cbcc-4265-bf0a-7e4cbc2d2385",
     "showTitle": false,
     "tableResultSettingsMap": {},
     "title": ""
    }
   },
   "outputs": [
    {
     "output_type": "display_data",
     "data": {
      "text/html": [
       "<style scoped>\n",
       "  .table-result-container {\n",
       "    max-height: 300px;\n",
       "    overflow: auto;\n",
       "  }\n",
       "  table, th, td {\n",
       "    border: 1px solid black;\n",
       "    border-collapse: collapse;\n",
       "  }\n",
       "  th, td {\n",
       "    padding: 5px;\n",
       "  }\n",
       "  th {\n",
       "    text-align: left;\n",
       "  }\n",
       "</style><div class='table-result-container'><table class='table-result'><thead style='background-color: white'><tr><th>num_affected_rows</th><th>num_inserted_rows</th></tr></thead><tbody><tr><td>1</td><td>1</td></tr></tbody></table></div>"
      ]
     },
     "metadata": {
      "application/vnd.databricks.v1+output": {
       "addedWidgets": {},
       "aggData": [],
       "aggError": "",
       "aggOverflow": false,
       "aggSchema": [],
       "aggSeriesLimitReached": false,
       "aggType": "",
       "arguments": {},
       "columnCustomDisplayInfos": {},
       "data": [
        [
         1,
         1
        ]
       ],
       "datasetInfos": [
        {
         "name": "_sqldf",
         "schema": {
          "fields": [
           {
            "metadata": {},
            "name": "num_affected_rows",
            "nullable": true,
            "type": "long"
           },
           {
            "metadata": {},
            "name": "num_inserted_rows",
            "nullable": true,
            "type": "long"
           }
          ],
          "type": "struct"
         },
         "tableIdentifier": null,
         "typeStr": "pyspark.sql.connect.dataframe.DataFrame"
        }
       ],
       "dbfsResultPath": null,
       "isJsonSchema": true,
       "metadata": {
        "createTempViewForImplicitDf": true,
        "dataframeName": "_sqldf",
        "executionCount": 3
       },
       "overflow": false,
       "plotOptions": {
        "customPlotOptions": {},
        "displayType": "table",
        "pivotAggregation": null,
        "pivotColumns": null,
        "xColumns": null,
        "yColumns": null
       },
       "removedWidgets": [],
       "schema": [
        {
         "metadata": "{}",
         "name": "num_affected_rows",
         "type": "\"long\""
        },
        {
         "metadata": "{}",
         "name": "num_inserted_rows",
         "type": "\"long\""
        }
       ],
       "type": "table"
      }
     },
     "output_type": "display_data"
    }
   ],
   "source": [
    "Drop table if exists Trips;\n",
    "Create table  Trips (id int, client_id int, driver_id int, city_id int, status varchar(50), request_at varchar(50));\n",
    "\n",
    "Drop table if exists Users;\n",
    "Create table Users (users_id int, banned varchar(50), role varchar(50));\n",
    "\n",
    "insert into Trips (id, client_id, driver_id, city_id, status, request_at) values ('1', '1', '10', '1', 'completed', '2013-10-01');\n",
    "insert into Trips (id, client_id, driver_id, city_id, status, request_at) values ('2', '2', '11', '1', 'cancelled_by_driver', '2013-10-01');\n",
    "insert into Trips (id, client_id, driver_id, city_id, status, request_at) values ('3', '3', '12', '6', 'completed', '2013-10-01');\n",
    "insert into Trips (id, client_id, driver_id, city_id, status, request_at) values ('4', '4', '13', '6', 'cancelled_by_client', '2013-10-01');\n",
    "insert into Trips (id, client_id, driver_id, city_id, status, request_at) values ('5', '1', '10', '1', 'completed', '2013-10-02');\n",
    "insert into Trips (id, client_id, driver_id, city_id, status, request_at) values ('6', '2', '11', '6', 'completed', '2013-10-02');\n",
    "insert into Trips (id, client_id, driver_id, city_id, status, request_at) values ('7', '3', '12', '6', 'completed', '2013-10-02');\n",
    "insert into Trips (id, client_id, driver_id, city_id, status, request_at) values ('8', '2', '12', '12', 'completed', '2013-10-03');\n",
    "insert into Trips (id, client_id, driver_id, city_id, status, request_at) values ('9', '3', '10', '12', 'completed', '2013-10-03');\n",
    "insert into Trips (id, client_id, driver_id, city_id, status, request_at) values ('10', '4', '13', '12', 'cancelled_by_driver', '2013-10-03');\n",
    "\n",
    "\n",
    "insert into Users (users_id, banned, role) values ('1', 'No', 'client');\n",
    "insert into Users (users_id, banned, role) values ('2', 'Yes', 'client');\n",
    "insert into Users (users_id, banned, role) values ('3', 'No', 'client');\n",
    "insert into Users (users_id, banned, role) values ('4', 'No', 'client');\n",
    "insert into Users (users_id, banned, role) values ('10', 'No', 'driver');\n",
    "insert into Users (users_id, banned, role) values ('11', 'No', 'driver');\n",
    "insert into Users (users_id, banned, role) values ('12', 'No', 'driver');\n",
    "insert into Users (users_id, banned, role) values ('13', 'No', 'driver');"
   ]
  },
  {
   "cell_type": "code",
   "execution_count": 0,
   "metadata": {
    "application/vnd.databricks.v1+cell": {
     "cellMetadata": {
      "byteLimit": 2048000,
      "rowLimit": 10000
     },
     "inputWidgets": {},
     "nuid": "5b2183d2-8127-464a-87f3-72dc7629750a",
     "showTitle": false,
     "tableResultSettingsMap": {},
     "title": ""
    }
   },
   "outputs": [
    {
     "output_type": "display_data",
     "data": {
      "text/html": [
       "<style scoped>\n",
       "  .table-result-container {\n",
       "    max-height: 300px;\n",
       "    overflow: auto;\n",
       "  }\n",
       "  table, th, td {\n",
       "    border: 1px solid black;\n",
       "    border-collapse: collapse;\n",
       "  }\n",
       "  th, td {\n",
       "    padding: 5px;\n",
       "  }\n",
       "  th {\n",
       "    text-align: left;\n",
       "  }\n",
       "</style><div class='table-result-container'><table class='table-result'><thead style='background-color: white'><tr><th>id</th><th>client_id</th><th>driver_id</th><th>city_id</th><th>status</th><th>request_at</th></tr></thead><tbody><tr><td>2</td><td>2</td><td>11</td><td>1</td><td>cancelled_by_driver</td><td>2013-10-01</td></tr><tr><td>10</td><td>4</td><td>13</td><td>12</td><td>cancelled_by_driver</td><td>2013-10-03</td></tr><tr><td>4</td><td>4</td><td>13</td><td>6</td><td>cancelled_by_client</td><td>2013-10-01</td></tr><tr><td>7</td><td>3</td><td>12</td><td>6</td><td>completed</td><td>2013-10-02</td></tr><tr><td>1</td><td>1</td><td>10</td><td>1</td><td>completed</td><td>2013-10-01</td></tr><tr><td>6</td><td>2</td><td>11</td><td>6</td><td>completed</td><td>2013-10-02</td></tr><tr><td>3</td><td>3</td><td>12</td><td>6</td><td>completed</td><td>2013-10-01</td></tr><tr><td>8</td><td>2</td><td>12</td><td>12</td><td>completed</td><td>2013-10-03</td></tr><tr><td>9</td><td>3</td><td>10</td><td>12</td><td>completed</td><td>2013-10-03</td></tr><tr><td>5</td><td>1</td><td>10</td><td>1</td><td>completed</td><td>2013-10-02</td></tr></tbody></table></div>"
      ]
     },
     "metadata": {
      "application/vnd.databricks.v1+output": {
       "addedWidgets": {},
       "aggData": [],
       "aggError": "",
       "aggOverflow": false,
       "aggSchema": [],
       "aggSeriesLimitReached": false,
       "aggType": "",
       "arguments": {},
       "columnCustomDisplayInfos": {},
       "data": [
        [
         2,
         2,
         11,
         1,
         "cancelled_by_driver",
         "2013-10-01"
        ],
        [
         10,
         4,
         13,
         12,
         "cancelled_by_driver",
         "2013-10-03"
        ],
        [
         4,
         4,
         13,
         6,
         "cancelled_by_client",
         "2013-10-01"
        ],
        [
         7,
         3,
         12,
         6,
         "completed",
         "2013-10-02"
        ],
        [
         1,
         1,
         10,
         1,
         "completed",
         "2013-10-01"
        ],
        [
         6,
         2,
         11,
         6,
         "completed",
         "2013-10-02"
        ],
        [
         3,
         3,
         12,
         6,
         "completed",
         "2013-10-01"
        ],
        [
         8,
         2,
         12,
         12,
         "completed",
         "2013-10-03"
        ],
        [
         9,
         3,
         10,
         12,
         "completed",
         "2013-10-03"
        ],
        [
         5,
         1,
         10,
         1,
         "completed",
         "2013-10-02"
        ]
       ],
       "datasetInfos": [
        {
         "name": "_sqldf",
         "schema": {
          "fields": [
           {
            "metadata": {},
            "name": "id",
            "nullable": true,
            "type": "integer"
           },
           {
            "metadata": {},
            "name": "client_id",
            "nullable": true,
            "type": "integer"
           },
           {
            "metadata": {},
            "name": "driver_id",
            "nullable": true,
            "type": "integer"
           },
           {
            "metadata": {},
            "name": "city_id",
            "nullable": true,
            "type": "integer"
           },
           {
            "metadata": {
             "__CHAR_VARCHAR_TYPE_STRING": "varchar(50)"
            },
            "name": "status",
            "nullable": true,
            "type": "string"
           },
           {
            "metadata": {
             "__CHAR_VARCHAR_TYPE_STRING": "varchar(50)"
            },
            "name": "request_at",
            "nullable": true,
            "type": "string"
           }
          ],
          "type": "struct"
         },
         "tableIdentifier": null,
         "typeStr": "pyspark.sql.connect.dataframe.DataFrame"
        }
       ],
       "dbfsResultPath": null,
       "isJsonSchema": true,
       "metadata": {
        "createTempViewForImplicitDf": true,
        "dataframeName": "_sqldf",
        "executionCount": 4
       },
       "overflow": false,
       "plotOptions": {
        "customPlotOptions": {},
        "displayType": "table",
        "pivotAggregation": null,
        "pivotColumns": null,
        "xColumns": null,
        "yColumns": null
       },
       "removedWidgets": [],
       "schema": [
        {
         "metadata": "{}",
         "name": "id",
         "type": "\"integer\""
        },
        {
         "metadata": "{}",
         "name": "client_id",
         "type": "\"integer\""
        },
        {
         "metadata": "{}",
         "name": "driver_id",
         "type": "\"integer\""
        },
        {
         "metadata": "{}",
         "name": "city_id",
         "type": "\"integer\""
        },
        {
         "metadata": "{\"__CHAR_VARCHAR_TYPE_STRING\": \"varchar(50)\"}",
         "name": "status",
         "type": "\"string\""
        },
        {
         "metadata": "{\"__CHAR_VARCHAR_TYPE_STRING\": \"varchar(50)\"}",
         "name": "request_at",
         "type": "\"string\""
        }
       ],
       "type": "table"
      }
     },
     "output_type": "display_data"
    }
   ],
   "source": [
    "select * from Trips;"
   ]
  },
  {
   "cell_type": "code",
   "execution_count": 0,
   "metadata": {
    "application/vnd.databricks.v1+cell": {
     "cellMetadata": {
      "byteLimit": 2048000,
      "rowLimit": 10000
     },
     "inputWidgets": {},
     "nuid": "839371eb-93d2-4157-8da9-47d98f89e83c",
     "showTitle": false,
     "tableResultSettingsMap": {},
     "title": ""
    }
   },
   "outputs": [
    {
     "output_type": "display_data",
     "data": {
      "text/html": [
       "<style scoped>\n",
       "  .table-result-container {\n",
       "    max-height: 300px;\n",
       "    overflow: auto;\n",
       "  }\n",
       "  table, th, td {\n",
       "    border: 1px solid black;\n",
       "    border-collapse: collapse;\n",
       "  }\n",
       "  th, td {\n",
       "    padding: 5px;\n",
       "  }\n",
       "  th {\n",
       "    text-align: left;\n",
       "  }\n",
       "</style><div class='table-result-container'><table class='table-result'><thead style='background-color: white'><tr><th>users_id</th><th>banned</th><th>role</th></tr></thead><tbody><tr><td>2</td><td>Yes</td><td>client</td></tr><tr><td>13</td><td>No</td><td>driver</td></tr><tr><td>11</td><td>No</td><td>driver</td></tr><tr><td>10</td><td>No</td><td>driver</td></tr><tr><td>4</td><td>No</td><td>client</td></tr><tr><td>12</td><td>No</td><td>driver</td></tr><tr><td>1</td><td>No</td><td>client</td></tr><tr><td>3</td><td>No</td><td>client</td></tr></tbody></table></div>"
      ]
     },
     "metadata": {
      "application/vnd.databricks.v1+output": {
       "addedWidgets": {},
       "aggData": [],
       "aggError": "",
       "aggOverflow": false,
       "aggSchema": [],
       "aggSeriesLimitReached": false,
       "aggType": "",
       "arguments": {},
       "columnCustomDisplayInfos": {},
       "data": [
        [
         2,
         "Yes",
         "client"
        ],
        [
         13,
         "No",
         "driver"
        ],
        [
         11,
         "No",
         "driver"
        ],
        [
         10,
         "No",
         "driver"
        ],
        [
         4,
         "No",
         "client"
        ],
        [
         12,
         "No",
         "driver"
        ],
        [
         1,
         "No",
         "client"
        ],
        [
         3,
         "No",
         "client"
        ]
       ],
       "datasetInfos": [
        {
         "name": "_sqldf",
         "schema": {
          "fields": [
           {
            "metadata": {},
            "name": "users_id",
            "nullable": true,
            "type": "integer"
           },
           {
            "metadata": {
             "__CHAR_VARCHAR_TYPE_STRING": "varchar(50)"
            },
            "name": "banned",
            "nullable": true,
            "type": "string"
           },
           {
            "metadata": {
             "__CHAR_VARCHAR_TYPE_STRING": "varchar(50)"
            },
            "name": "role",
            "nullable": true,
            "type": "string"
           }
          ],
          "type": "struct"
         },
         "tableIdentifier": null,
         "typeStr": "pyspark.sql.connect.dataframe.DataFrame"
        }
       ],
       "dbfsResultPath": null,
       "isJsonSchema": true,
       "metadata": {
        "createTempViewForImplicitDf": true,
        "dataframeName": "_sqldf",
        "executionCount": 5
       },
       "overflow": false,
       "plotOptions": {
        "customPlotOptions": {},
        "displayType": "table",
        "pivotAggregation": null,
        "pivotColumns": null,
        "xColumns": null,
        "yColumns": null
       },
       "removedWidgets": [],
       "schema": [
        {
         "metadata": "{}",
         "name": "users_id",
         "type": "\"integer\""
        },
        {
         "metadata": "{\"__CHAR_VARCHAR_TYPE_STRING\": \"varchar(50)\"}",
         "name": "banned",
         "type": "\"string\""
        },
        {
         "metadata": "{\"__CHAR_VARCHAR_TYPE_STRING\": \"varchar(50)\"}",
         "name": "role",
         "type": "\"string\""
        }
       ],
       "type": "table"
      }
     },
     "output_type": "display_data"
    }
   ],
   "source": [
    "select * from Users;"
   ]
  },
  {
   "cell_type": "code",
   "execution_count": 0,
   "metadata": {
    "application/vnd.databricks.v1+cell": {
     "cellMetadata": {
      "byteLimit": 2048000,
      "rowLimit": 10000
     },
     "inputWidgets": {},
     "nuid": "97d7782b-ce7c-4799-8dce-4308f291dd91",
     "showTitle": false,
     "tableResultSettingsMap": {},
     "title": ""
    }
   },
   "outputs": [
    {
     "output_type": "display_data",
     "data": {
      "text/html": [
       "<style scoped>\n",
       "  .table-result-container {\n",
       "    max-height: 300px;\n",
       "    overflow: auto;\n",
       "  }\n",
       "  table, th, td {\n",
       "    border: 1px solid black;\n",
       "    border-collapse: collapse;\n",
       "  }\n",
       "  th, td {\n",
       "    padding: 5px;\n",
       "  }\n",
       "  th {\n",
       "    text-align: left;\n",
       "  }\n",
       "</style><div class='table-result-container'><table class='table-result'><thead style='background-color: white'><tr><th>id</th><th>client_id</th><th>driver_id</th><th>city_id</th><th>status</th><th>request_at</th><th>users_id</th><th>banned</th><th>role</th><th>users_id</th><th>banned</th><th>role</th></tr></thead><tbody><tr><td>10</td><td>4</td><td>13</td><td>12</td><td>cancelled_by_driver</td><td>2013-10-03</td><td>4</td><td>No</td><td>client</td><td>13</td><td>No</td><td>driver</td></tr><tr><td>4</td><td>4</td><td>13</td><td>6</td><td>cancelled_by_client</td><td>2013-10-01</td><td>4</td><td>No</td><td>client</td><td>13</td><td>No</td><td>driver</td></tr><tr><td>7</td><td>3</td><td>12</td><td>6</td><td>completed</td><td>2013-10-02</td><td>3</td><td>No</td><td>client</td><td>12</td><td>No</td><td>driver</td></tr><tr><td>1</td><td>1</td><td>10</td><td>1</td><td>completed</td><td>2013-10-01</td><td>1</td><td>No</td><td>client</td><td>10</td><td>No</td><td>driver</td></tr><tr><td>3</td><td>3</td><td>12</td><td>6</td><td>completed</td><td>2013-10-01</td><td>3</td><td>No</td><td>client</td><td>12</td><td>No</td><td>driver</td></tr><tr><td>9</td><td>3</td><td>10</td><td>12</td><td>completed</td><td>2013-10-03</td><td>3</td><td>No</td><td>client</td><td>10</td><td>No</td><td>driver</td></tr><tr><td>5</td><td>1</td><td>10</td><td>1</td><td>completed</td><td>2013-10-02</td><td>1</td><td>No</td><td>client</td><td>10</td><td>No</td><td>driver</td></tr></tbody></table></div>"
      ]
     },
     "metadata": {
      "application/vnd.databricks.v1+output": {
       "addedWidgets": {},
       "aggData": [],
       "aggError": "",
       "aggOverflow": false,
       "aggSchema": [],
       "aggSeriesLimitReached": false,
       "aggType": "",
       "arguments": {},
       "columnCustomDisplayInfos": {},
       "data": [
        [
         10,
         4,
         13,
         12,
         "cancelled_by_driver",
         "2013-10-03",
         4,
         "No",
         "client",
         13,
         "No",
         "driver"
        ],
        [
         4,
         4,
         13,
         6,
         "cancelled_by_client",
         "2013-10-01",
         4,
         "No",
         "client",
         13,
         "No",
         "driver"
        ],
        [
         7,
         3,
         12,
         6,
         "completed",
         "2013-10-02",
         3,
         "No",
         "client",
         12,
         "No",
         "driver"
        ],
        [
         1,
         1,
         10,
         1,
         "completed",
         "2013-10-01",
         1,
         "No",
         "client",
         10,
         "No",
         "driver"
        ],
        [
         3,
         3,
         12,
         6,
         "completed",
         "2013-10-01",
         3,
         "No",
         "client",
         12,
         "No",
         "driver"
        ],
        [
         9,
         3,
         10,
         12,
         "completed",
         "2013-10-03",
         3,
         "No",
         "client",
         10,
         "No",
         "driver"
        ],
        [
         5,
         1,
         10,
         1,
         "completed",
         "2013-10-02",
         1,
         "No",
         "client",
         10,
         "No",
         "driver"
        ]
       ],
       "datasetInfos": [
        {
         "name": "_sqldf",
         "schema": {
          "fields": [
           {
            "metadata": {},
            "name": "id",
            "nullable": true,
            "type": "integer"
           },
           {
            "metadata": {},
            "name": "client_id",
            "nullable": true,
            "type": "integer"
           },
           {
            "metadata": {},
            "name": "driver_id",
            "nullable": true,
            "type": "integer"
           },
           {
            "metadata": {},
            "name": "city_id",
            "nullable": true,
            "type": "integer"
           },
           {
            "metadata": {
             "__CHAR_VARCHAR_TYPE_STRING": "varchar(50)"
            },
            "name": "status",
            "nullable": true,
            "type": "string"
           },
           {
            "metadata": {
             "__CHAR_VARCHAR_TYPE_STRING": "varchar(50)"
            },
            "name": "request_at",
            "nullable": true,
            "type": "string"
           },
           {
            "metadata": {},
            "name": "users_id",
            "nullable": true,
            "type": "integer"
           },
           {
            "metadata": {
             "__CHAR_VARCHAR_TYPE_STRING": "varchar(50)"
            },
            "name": "banned",
            "nullable": true,
            "type": "string"
           },
           {
            "metadata": {
             "__CHAR_VARCHAR_TYPE_STRING": "varchar(50)"
            },
            "name": "role",
            "nullable": true,
            "type": "string"
           },
           {
            "metadata": {},
            "name": "users_id",
            "nullable": true,
            "type": "integer"
           },
           {
            "metadata": {
             "__CHAR_VARCHAR_TYPE_STRING": "varchar(50)"
            },
            "name": "banned",
            "nullable": true,
            "type": "string"
           },
           {
            "metadata": {
             "__CHAR_VARCHAR_TYPE_STRING": "varchar(50)"
            },
            "name": "role",
            "nullable": true,
            "type": "string"
           }
          ],
          "type": "struct"
         },
         "tableIdentifier": null,
         "typeStr": "pyspark.sql.connect.dataframe.DataFrame"
        }
       ],
       "dbfsResultPath": null,
       "isJsonSchema": true,
       "metadata": {
        "createTempViewForImplicitDf": true,
        "dataframeName": "_sqldf",
        "executionCount": 3
       },
       "overflow": false,
       "plotOptions": {
        "customPlotOptions": {},
        "displayType": "table",
        "pivotAggregation": null,
        "pivotColumns": null,
        "xColumns": null,
        "yColumns": null
       },
       "removedWidgets": [],
       "schema": [
        {
         "metadata": "{}",
         "name": "id",
         "type": "\"integer\""
        },
        {
         "metadata": "{}",
         "name": "client_id",
         "type": "\"integer\""
        },
        {
         "metadata": "{}",
         "name": "driver_id",
         "type": "\"integer\""
        },
        {
         "metadata": "{}",
         "name": "city_id",
         "type": "\"integer\""
        },
        {
         "metadata": "{\"__CHAR_VARCHAR_TYPE_STRING\": \"varchar(50)\"}",
         "name": "status",
         "type": "\"string\""
        },
        {
         "metadata": "{\"__CHAR_VARCHAR_TYPE_STRING\": \"varchar(50)\"}",
         "name": "request_at",
         "type": "\"string\""
        },
        {
         "metadata": "{}",
         "name": "users_id",
         "type": "\"integer\""
        },
        {
         "metadata": "{\"__CHAR_VARCHAR_TYPE_STRING\": \"varchar(50)\"}",
         "name": "banned",
         "type": "\"string\""
        },
        {
         "metadata": "{\"__CHAR_VARCHAR_TYPE_STRING\": \"varchar(50)\"}",
         "name": "role",
         "type": "\"string\""
        },
        {
         "metadata": "{}",
         "name": "users_id",
         "type": "\"integer\""
        },
        {
         "metadata": "{\"__CHAR_VARCHAR_TYPE_STRING\": \"varchar(50)\"}",
         "name": "banned",
         "type": "\"string\""
        },
        {
         "metadata": "{\"__CHAR_VARCHAR_TYPE_STRING\": \"varchar(50)\"}",
         "name": "role",
         "type": "\"string\""
        }
       ],
       "type": "table"
      }
     },
     "output_type": "display_data"
    }
   ],
   "source": [
    "\n",
    "select \n",
    "*\n",
    "from Trips t\n",
    "join Users c\n",
    "on t.client_id = c.users_id\n",
    "join Users d\n",
    "on t.driver_id = d.users_id\n",
    "where c.banned = 'No'\n",
    "and d.banned = 'No'\n"
   ]
  },
  {
   "cell_type": "code",
   "execution_count": 0,
   "metadata": {
    "application/vnd.databricks.v1+cell": {
     "cellMetadata": {},
     "inputWidgets": {},
     "nuid": "6196c7ad-91b0-4f5d-adaa-4dfe19acec7f",
     "showTitle": false,
     "tableResultSettingsMap": {},
     "title": ""
    }
   },
   "outputs": [],
   "source": [
    "Here in case statement we are using null values because it will ignore all the other values apart from the one mentioned in the then condition"
   ]
  },
  {
   "cell_type": "code",
   "execution_count": 0,
   "metadata": {
    "application/vnd.databricks.v1+cell": {
     "cellMetadata": {
      "byteLimit": 2048000,
      "rowLimit": 10000
     },
     "inputWidgets": {},
     "nuid": "fb95df05-2a1a-42e0-ad4b-b731edbf062e",
     "showTitle": false,
     "tableResultSettingsMap": {},
     "title": ""
    }
   },
   "outputs": [
    {
     "output_type": "display_data",
     "data": {
      "text/html": [
       "<style scoped>\n",
       "  .table-result-container {\n",
       "    max-height: 300px;\n",
       "    overflow: auto;\n",
       "  }\n",
       "  table, th, td {\n",
       "    border: 1px solid black;\n",
       "    border-collapse: collapse;\n",
       "  }\n",
       "  th, td {\n",
       "    padding: 5px;\n",
       "  }\n",
       "  th {\n",
       "    text-align: left;\n",
       "  }\n",
       "</style><div class='table-result-container'><table class='table-result'><thead style='background-color: white'><tr><th>request_at</th><th>total_count</th><th>cancelled_count</th><th>cancellation</th></tr></thead><tbody><tr><td>2013-10-01</td><td>3</td><td>1</td><td>33.33</td></tr><tr><td>2013-10-02</td><td>2</td><td>0</td><td>0.0</td></tr><tr><td>2013-10-03</td><td>2</td><td>1</td><td>50.0</td></tr></tbody></table></div>"
      ]
     },
     "metadata": {
      "application/vnd.databricks.v1+output": {
       "addedWidgets": {},
       "aggData": [],
       "aggError": "",
       "aggOverflow": false,
       "aggSchema": [],
       "aggSeriesLimitReached": false,
       "aggType": "",
       "arguments": {},
       "columnCustomDisplayInfos": {},
       "data": [
        [
         "2013-10-01",
         3,
         1,
         33.33
        ],
        [
         "2013-10-02",
         2,
         0,
         0.0
        ],
        [
         "2013-10-03",
         2,
         1,
         50.0
        ]
       ],
       "datasetInfos": [
        {
         "name": "_sqldf",
         "schema": {
          "fields": [
           {
            "metadata": {
             "__CHAR_VARCHAR_TYPE_STRING": "varchar(50)"
            },
            "name": "request_at",
            "nullable": true,
            "type": "string"
           },
           {
            "metadata": {},
            "name": "total_count",
            "nullable": false,
            "type": "long"
           },
           {
            "metadata": {},
            "name": "cancelled_count",
            "nullable": false,
            "type": "long"
           },
           {
            "metadata": {},
            "name": "cancellation",
            "nullable": true,
            "type": "double"
           }
          ],
          "type": "struct"
         },
         "tableIdentifier": null,
         "typeStr": "pyspark.sql.connect.dataframe.DataFrame"
        }
       ],
       "dbfsResultPath": null,
       "isJsonSchema": true,
       "metadata": {
        "createTempViewForImplicitDf": true,
        "dataframeName": "_sqldf",
        "executionCount": 31
       },
       "overflow": false,
       "plotOptions": {
        "customPlotOptions": {},
        "displayType": "table",
        "pivotAggregation": null,
        "pivotColumns": null,
        "xColumns": null,
        "yColumns": null
       },
       "removedWidgets": [],
       "schema": [
        {
         "metadata": "{\"__CHAR_VARCHAR_TYPE_STRING\": \"varchar(50)\"}",
         "name": "request_at",
         "type": "\"string\""
        },
        {
         "metadata": "{}",
         "name": "total_count",
         "type": "\"long\""
        },
        {
         "metadata": "{}",
         "name": "cancelled_count",
         "type": "\"long\""
        },
        {
         "metadata": "{}",
         "name": "cancellation",
         "type": "\"double\""
        }
       ],
       "type": "table"
      }
     },
     "output_type": "display_data"
    }
   ],
   "source": [
    "select \n",
    "request_at,\n",
    "count(request_at) as total_count,\n",
    "count(case when status in (\"cancelled_by_driver\",\"cancelled_by_client\") then 1 else null end ) as cancelled_count,\n",
    "round(count(case when status in (\"cancelled_by_driver\",\"cancelled_by_client\") then 1 else null end )/count(request_at)*100,2) as cancellation\n",
    "from Trips t\n",
    "join Users c\n",
    "on t.client_id = c.users_id\n",
    "join Users d\n",
    "on t.driver_id = d.users_id\n",
    "where c.banned = 'No'\n",
    "and d.banned = 'No'\n",
    "group by t.request_at\n",
    "order by request_at "
   ]
  },
  {
   "cell_type": "code",
   "execution_count": 0,
   "metadata": {
    "application/vnd.databricks.v1+cell": {
     "cellMetadata": {},
     "inputWidgets": {},
     "nuid": "c3528960-3c67-457d-9791-9383ef84635a",
     "showTitle": false,
     "tableResultSettingsMap": {},
     "title": ""
    }
   },
   "outputs": [],
   "source": []
  },
  {
   "cell_type": "code",
   "execution_count": 0,
   "metadata": {
    "application/vnd.databricks.v1+cell": {
     "cellMetadata": {},
     "inputWidgets": {},
     "nuid": "afa252d1-1818-420f-bc01-5b328152f8f7",
     "showTitle": false,
     "tableResultSettingsMap": {},
     "title": ""
    }
   },
   "outputs": [],
   "source": []
  },
  {
   "cell_type": "code",
   "execution_count": 0,
   "metadata": {
    "application/vnd.databricks.v1+cell": {
     "cellMetadata": {},
     "inputWidgets": {},
     "nuid": "3cd6f47e-c21e-482e-8476-fee49cee190b",
     "showTitle": false,
     "tableResultSettingsMap": {},
     "title": ""
    }
   },
   "outputs": [],
   "source": []
  },
  {
   "cell_type": "code",
   "execution_count": 0,
   "metadata": {
    "application/vnd.databricks.v1+cell": {
     "cellMetadata": {},
     "inputWidgets": {},
     "nuid": "cd74e155-62c9-4edf-897d-2459e160583c",
     "showTitle": false,
     "tableResultSettingsMap": {},
     "title": ""
    }
   },
   "outputs": [],
   "source": []
  },
  {
   "cell_type": "code",
   "execution_count": 0,
   "metadata": {
    "application/vnd.databricks.v1+cell": {
     "cellMetadata": {},
     "inputWidgets": {},
     "nuid": "831e648c-abe7-4979-9331-d9d34d33107c",
     "showTitle": false,
     "tableResultSettingsMap": {},
     "title": ""
    }
   },
   "outputs": [],
   "source": []
  },
  {
   "cell_type": "code",
   "execution_count": 0,
   "metadata": {
    "application/vnd.databricks.v1+cell": {
     "cellMetadata": {},
     "inputWidgets": {},
     "nuid": "0e9d7f04-f4cf-4a1b-8b26-950ac574581a",
     "showTitle": false,
     "tableResultSettingsMap": {},
     "title": ""
    }
   },
   "outputs": [],
   "source": []
  },
  {
   "cell_type": "code",
   "execution_count": 0,
   "metadata": {
    "application/vnd.databricks.v1+cell": {
     "cellMetadata": {},
     "inputWidgets": {},
     "nuid": "067f1c80-ddb9-4d07-ac72-d53b4e3e974e",
     "showTitle": false,
     "tableResultSettingsMap": {},
     "title": ""
    }
   },
   "outputs": [],
   "source": []
  },
  {
   "cell_type": "code",
   "execution_count": 0,
   "metadata": {
    "application/vnd.databricks.v1+cell": {
     "cellMetadata": {},
     "inputWidgets": {},
     "nuid": "bb5ef1c4-7602-45d4-b4da-3a3adf4d6575",
     "showTitle": false,
     "tableResultSettingsMap": {},
     "title": ""
    }
   },
   "outputs": [],
   "source": []
  },
  {
   "cell_type": "code",
   "execution_count": 0,
   "metadata": {
    "application/vnd.databricks.v1+cell": {
     "cellMetadata": {},
     "inputWidgets": {},
     "nuid": "daa33e51-1ce1-4734-8e80-8e1beb2718a8",
     "showTitle": false,
     "tableResultSettingsMap": {},
     "title": ""
    }
   },
   "outputs": [],
   "source": []
  },
  {
   "cell_type": "code",
   "execution_count": 0,
   "metadata": {
    "application/vnd.databricks.v1+cell": {
     "cellMetadata": {},
     "inputWidgets": {},
     "nuid": "e62a9e62-ebac-4930-b474-148616066029",
     "showTitle": false,
     "tableResultSettingsMap": {},
     "title": ""
    }
   },
   "outputs": [],
   "source": []
  },
  {
   "cell_type": "code",
   "execution_count": 0,
   "metadata": {
    "application/vnd.databricks.v1+cell": {
     "cellMetadata": {},
     "inputWidgets": {},
     "nuid": "797040a5-81c4-4f26-a89b-91a84f2dad1d",
     "showTitle": false,
     "tableResultSettingsMap": {},
     "title": ""
    }
   },
   "outputs": [],
   "source": []
  },
  {
   "cell_type": "code",
   "execution_count": 0,
   "metadata": {
    "application/vnd.databricks.v1+cell": {
     "cellMetadata": {},
     "inputWidgets": {},
     "nuid": "804537c0-48f0-44ea-9616-14287c3670d5",
     "showTitle": false,
     "tableResultSettingsMap": {},
     "title": ""
    }
   },
   "outputs": [],
   "source": []
  },
  {
   "cell_type": "code",
   "execution_count": 0,
   "metadata": {
    "application/vnd.databricks.v1+cell": {
     "cellMetadata": {},
     "inputWidgets": {},
     "nuid": "b10f3b77-87f4-43a7-a935-02c89305485f",
     "showTitle": false,
     "tableResultSettingsMap": {},
     "title": ""
    }
   },
   "outputs": [],
   "source": []
  },
  {
   "cell_type": "code",
   "execution_count": 0,
   "metadata": {
    "application/vnd.databricks.v1+cell": {
     "cellMetadata": {},
     "inputWidgets": {},
     "nuid": "453b57c2-67c4-4f3b-a06f-994cf9c3de9d",
     "showTitle": false,
     "tableResultSettingsMap": {},
     "title": ""
    }
   },
   "outputs": [],
   "source": []
  },
  {
   "cell_type": "code",
   "execution_count": 0,
   "metadata": {
    "application/vnd.databricks.v1+cell": {
     "cellMetadata": {},
     "inputWidgets": {},
     "nuid": "2e1a5eab-d367-4fe9-a2a0-4563aa6273da",
     "showTitle": false,
     "tableResultSettingsMap": {},
     "title": ""
    }
   },
   "outputs": [],
   "source": []
  },
  {
   "cell_type": "code",
   "execution_count": 0,
   "metadata": {
    "application/vnd.databricks.v1+cell": {
     "cellMetadata": {},
     "inputWidgets": {},
     "nuid": "fa1b4489-361a-4c1e-b97d-c1f6f3354ecb",
     "showTitle": false,
     "tableResultSettingsMap": {},
     "title": ""
    }
   },
   "outputs": [],
   "source": []
  },
  {
   "cell_type": "code",
   "execution_count": 0,
   "metadata": {
    "application/vnd.databricks.v1+cell": {
     "cellMetadata": {},
     "inputWidgets": {},
     "nuid": "34ce3367-d3ca-487b-9e71-0bd1a18608ad",
     "showTitle": false,
     "tableResultSettingsMap": {},
     "title": ""
    }
   },
   "outputs": [],
   "source": []
  },
  {
   "cell_type": "code",
   "execution_count": 0,
   "metadata": {
    "application/vnd.databricks.v1+cell": {
     "cellMetadata": {},
     "inputWidgets": {},
     "nuid": "2a059de7-88c1-43ff-991d-e488b3bdb02b",
     "showTitle": false,
     "tableResultSettingsMap": {},
     "title": ""
    }
   },
   "outputs": [],
   "source": []
  }
 ],
 "metadata": {
  "application/vnd.databricks.v1+notebook": {
   "computePreferences": null,
   "dashboards": [],
   "environmentMetadata": {
    "base_environment": "",
    "environment_version": "4"
   },
   "inputWidgetPreferences": null,
   "language": "sql",
   "notebookMetadata": {
    "pythonIndentUnit": 4
   },
   "notebookName": "TripsAndUsers",
   "widgets": {}
  },
  "language_info": {
   "name": "sql"
  }
 },
 "nbformat": 4,
 "nbformat_minor": 0
}