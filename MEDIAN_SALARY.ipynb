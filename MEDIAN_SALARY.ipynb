{
 "cells": [
  {
   "cell_type": "markdown",
   "metadata": {
    "application/vnd.databricks.v1+cell": {
     "cellMetadata": {},
     "inputWidgets": {},
     "nuid": "90c2c4d9-a7c2-487e-8b16-6b00113cd3bc",
     "showTitle": false,
     "tableResultSettingsMap": {},
     "title": ""
    }
   },
   "source": [
    " **MEDIAN SALARY**\n",
    "\n",
    "How to calculated median\n",
    "\n",
    "(i)   median using row_number\n",
    "\n",
    "(ii)  median using percentile_cont"
   ]
  },
  {
   "cell_type": "markdown",
   "metadata": {
    "application/vnd.databricks.v1+cell": {
     "cellMetadata": {},
     "inputWidgets": {},
     "nuid": "dde94434-7ad7-471c-9588-83ddc7284400",
     "showTitle": false,
     "tableResultSettingsMap": {},
     "title": ""
    }
   },
   "source": [
    "median of a number means\n",
    "->> it will be sorted first\n",
    "->> then the middle value will be median\n",
    "\n",
    "[1,2,3,4,10,12,14,16]\n",
    "\n",
    "even number in input\n",
    "->> sum of mid numbers :: [4+10]\n",
    "14/2 : 7 will be mid number\n",
    "\n",
    "odd number is input\n",
    "->> middle number will be median\n",
    "->> [1,2,3,5,7]\n",
    "->> 3 is the median number\n"
   ]
  },
  {
   "cell_type": "code",
   "execution_count": 0,
   "metadata": {
    "application/vnd.databricks.v1+cell": {
     "cellMetadata": {
      "byteLimit": 2048000,
      "rowLimit": 10000
     },
     "inputWidgets": {},
     "nuid": "37665be9-fd6d-4c44-8696-974ff9a5a5cb",
     "showTitle": false,
     "tableResultSettingsMap": {},
     "title": ""
    }
   },
   "outputs": [
    {
     "output_type": "display_data",
     "data": {
      "text/html": [
       "<style scoped>\n",
       "  .table-result-container {\n",
       "    max-height: 300px;\n",
       "    overflow: auto;\n",
       "  }\n",
       "  table, th, td {\n",
       "    border: 1px solid black;\n",
       "    border-collapse: collapse;\n",
       "  }\n",
       "  th, td {\n",
       "    padding: 5px;\n",
       "  }\n",
       "  th {\n",
       "    text-align: left;\n",
       "  }\n",
       "</style><div class='table-result-container'><table class='table-result'><thead style='background-color: white'><tr><th>num_affected_rows</th><th>num_inserted_rows</th></tr></thead><tbody><tr><td>10</td><td>10</td></tr></tbody></table></div>"
      ]
     },
     "metadata": {
      "application/vnd.databricks.v1+output": {
       "addedWidgets": {},
       "aggData": [],
       "aggError": "",
       "aggOverflow": false,
       "aggSchema": [],
       "aggSeriesLimitReached": false,
       "aggType": "",
       "arguments": {},
       "columnCustomDisplayInfos": {},
       "data": [
        [
         10,
         10
        ]
       ],
       "datasetInfos": [
        {
         "name": "_sqldf",
         "schema": {
          "fields": [
           {
            "metadata": {},
            "name": "num_affected_rows",
            "nullable": true,
            "type": "long"
           },
           {
            "metadata": {},
            "name": "num_inserted_rows",
            "nullable": true,
            "type": "long"
           }
          ],
          "type": "struct"
         },
         "tableIdentifier": null,
         "typeStr": "pyspark.sql.connect.dataframe.DataFrame"
        }
       ],
       "dbfsResultPath": null,
       "isJsonSchema": true,
       "metadata": {
        "createTempViewForImplicitDf": true,
        "dataframeName": "_sqldf",
        "executionCount": 2
       },
       "overflow": false,
       "plotOptions": {
        "customPlotOptions": {},
        "displayType": "table",
        "pivotAggregation": null,
        "pivotColumns": null,
        "xColumns": null,
        "yColumns": null
       },
       "removedWidgets": [],
       "schema": [
        {
         "metadata": "{}",
         "name": "num_affected_rows",
         "type": "\"long\""
        },
        {
         "metadata": "{}",
         "name": "num_inserted_rows",
         "type": "\"long\""
        }
       ],
       "type": "table"
      }
     },
     "output_type": "display_data"
    }
   ],
   "source": [
    "drop table if exists emp;\n",
    "create table emp(\n",
    "emp_id int,\n",
    "emp_name varchar(20),\n",
    "department_id int,\n",
    "salary int,\n",
    "manager_id int,\n",
    "emp_age int);\n",
    "\n",
    "insert into emp\n",
    "values\n",
    "(1, 'Ankit', 100,10000, 4, 39),\n",
    "(2, 'Mohit', 100, 15000, 5, 48),\n",
    "(3, 'Vikas', 100, 10000,4,37),\n",
    "(4, 'Rohit', 100, 5000, 2, 16),\n",
    "(5, 'Mudit', 200, 12000, 6,55),\n",
    "(6, 'Agam', 200, 12000,2, 14),\n",
    "(7, 'Sanjay', 200, 9000, 2,13),\n",
    "(8, 'Ashish', 200,5000,2,12),\n",
    "(9, 'Mukesh',300,6000,6,51),\n",
    "(10, 'Rakesh',300,7000,6,50);"
   ]
  },
  {
   "cell_type": "code",
   "execution_count": 0,
   "metadata": {
    "application/vnd.databricks.v1+cell": {
     "cellMetadata": {
      "byteLimit": 2048000,
      "rowLimit": 10000
     },
     "inputWidgets": {},
     "nuid": "56027b8f-1cf5-40ca-8193-c0927ba8a1ed",
     "showTitle": false,
     "tableResultSettingsMap": {},
     "title": ""
    }
   },
   "outputs": [
    {
     "output_type": "display_data",
     "data": {
      "text/html": [
       "<style scoped>\n",
       "  .table-result-container {\n",
       "    max-height: 300px;\n",
       "    overflow: auto;\n",
       "  }\n",
       "  table, th, td {\n",
       "    border: 1px solid black;\n",
       "    border-collapse: collapse;\n",
       "  }\n",
       "  th, td {\n",
       "    padding: 5px;\n",
       "  }\n",
       "  th {\n",
       "    text-align: left;\n",
       "  }\n",
       "</style><div class='table-result-container'><table class='table-result'><thead style='background-color: white'><tr><th>emp_id</th><th>emp_name</th><th>department_id</th><th>salary</th><th>manager_id</th><th>emp_age</th></tr></thead><tbody><tr><td>1</td><td>Ankit</td><td>100</td><td>10000</td><td>4</td><td>39</td></tr><tr><td>2</td><td>Mohit</td><td>100</td><td>15000</td><td>5</td><td>48</td></tr><tr><td>3</td><td>Vikas</td><td>100</td><td>10000</td><td>4</td><td>37</td></tr><tr><td>4</td><td>Rohit</td><td>100</td><td>5000</td><td>2</td><td>16</td></tr><tr><td>5</td><td>Mudit</td><td>200</td><td>12000</td><td>6</td><td>55</td></tr><tr><td>6</td><td>Agam</td><td>200</td><td>12000</td><td>2</td><td>14</td></tr><tr><td>7</td><td>Sanjay</td><td>200</td><td>9000</td><td>2</td><td>13</td></tr><tr><td>8</td><td>Ashish</td><td>200</td><td>5000</td><td>2</td><td>12</td></tr><tr><td>9</td><td>Mukesh</td><td>300</td><td>6000</td><td>6</td><td>51</td></tr><tr><td>10</td><td>Rakesh</td><td>300</td><td>7000</td><td>6</td><td>50</td></tr></tbody></table></div>"
      ]
     },
     "metadata": {
      "application/vnd.databricks.v1+output": {
       "addedWidgets": {},
       "aggData": [],
       "aggError": "",
       "aggOverflow": false,
       "aggSchema": [],
       "aggSeriesLimitReached": false,
       "aggType": "",
       "arguments": {},
       "columnCustomDisplayInfos": {},
       "data": [
        [
         1,
         "Ankit",
         100,
         10000,
         4,
         39
        ],
        [
         2,
         "Mohit",
         100,
         15000,
         5,
         48
        ],
        [
         3,
         "Vikas",
         100,
         10000,
         4,
         37
        ],
        [
         4,
         "Rohit",
         100,
         5000,
         2,
         16
        ],
        [
         5,
         "Mudit",
         200,
         12000,
         6,
         55
        ],
        [
         6,
         "Agam",
         200,
         12000,
         2,
         14
        ],
        [
         7,
         "Sanjay",
         200,
         9000,
         2,
         13
        ],
        [
         8,
         "Ashish",
         200,
         5000,
         2,
         12
        ],
        [
         9,
         "Mukesh",
         300,
         6000,
         6,
         51
        ],
        [
         10,
         "Rakesh",
         300,
         7000,
         6,
         50
        ]
       ],
       "datasetInfos": [
        {
         "name": "_sqldf",
         "schema": {
          "fields": [
           {
            "metadata": {},
            "name": "emp_id",
            "nullable": true,
            "type": "integer"
           },
           {
            "metadata": {
             "__CHAR_VARCHAR_TYPE_STRING": "varchar(20)"
            },
            "name": "emp_name",
            "nullable": true,
            "type": "string"
           },
           {
            "metadata": {},
            "name": "department_id",
            "nullable": true,
            "type": "integer"
           },
           {
            "metadata": {},
            "name": "salary",
            "nullable": true,
            "type": "integer"
           },
           {
            "metadata": {},
            "name": "manager_id",
            "nullable": true,
            "type": "integer"
           },
           {
            "metadata": {},
            "name": "emp_age",
            "nullable": true,
            "type": "integer"
           }
          ],
          "type": "struct"
         },
         "tableIdentifier": null,
         "typeStr": "pyspark.sql.connect.dataframe.DataFrame"
        }
       ],
       "dbfsResultPath": null,
       "isJsonSchema": true,
       "metadata": {
        "createTempViewForImplicitDf": true,
        "dataframeName": "_sqldf",
        "executionCount": 5
       },
       "overflow": false,
       "plotOptions": {
        "customPlotOptions": {},
        "displayType": "table",
        "pivotAggregation": null,
        "pivotColumns": null,
        "xColumns": null,
        "yColumns": null
       },
       "removedWidgets": [],
       "schema": [
        {
         "metadata": "{}",
         "name": "emp_id",
         "type": "\"integer\""
        },
        {
         "metadata": "{\"__CHAR_VARCHAR_TYPE_STRING\": \"varchar(20)\"}",
         "name": "emp_name",
         "type": "\"string\""
        },
        {
         "metadata": "{}",
         "name": "department_id",
         "type": "\"integer\""
        },
        {
         "metadata": "{}",
         "name": "salary",
         "type": "\"integer\""
        },
        {
         "metadata": "{}",
         "name": "manager_id",
         "type": "\"integer\""
        },
        {
         "metadata": "{}",
         "name": "emp_age",
         "type": "\"integer\""
        }
       ],
       "type": "table"
      }
     },
     "output_type": "display_data"
    }
   ],
   "source": [
    "select * from emp;"
   ]
  },
  {
   "cell_type": "code",
   "execution_count": 0,
   "metadata": {
    "application/vnd.databricks.v1+cell": {
     "cellMetadata": {
      "byteLimit": 2048000,
      "rowLimit": 10000
     },
     "inputWidgets": {},
     "nuid": "c1ea98d7-a848-4c77-981b-707a09b97686",
     "showTitle": true,
     "tableResultSettingsMap": {},
     "title": "Calculate the median of the employee_age"
    }
   },
   "outputs": [
    {
     "output_type": "display_data",
     "data": {
      "text/html": [
       "<style scoped>\n",
       "  .table-result-container {\n",
       "    max-height: 300px;\n",
       "    overflow: auto;\n",
       "  }\n",
       "  table, th, td {\n",
       "    border: 1px solid black;\n",
       "    border-collapse: collapse;\n",
       "  }\n",
       "  th, td {\n",
       "    padding: 5px;\n",
       "  }\n",
       "  th {\n",
       "    text-align: left;\n",
       "  }\n",
       "</style><div class='table-result-container'><table class='table-result'><thead style='background-color: white'><tr><th>emp_id</th><th>emp_name</th><th>department_id</th><th>salary</th><th>manager_id</th><th>emp_age</th><th>rnum_asc</th><th>rnum_desc</th></tr></thead><tbody><tr><td>3</td><td>Vikas</td><td>100</td><td>10000</td><td>4</td><td>37</td><td>5</td><td>5</td></tr></tbody></table></div>"
      ]
     },
     "metadata": {
      "application/vnd.databricks.v1+output": {
       "addedWidgets": {},
       "aggData": [],
       "aggError": "",
       "aggOverflow": false,
       "aggSchema": [],
       "aggSeriesLimitReached": false,
       "aggType": "",
       "arguments": {},
       "columnCustomDisplayInfos": {},
       "data": [
        [
         3,
         "Vikas",
         100,
         10000,
         4,
         37,
         5,
         5
        ]
       ],
       "datasetInfos": [
        {
         "name": "_sqldf",
         "schema": {
          "fields": [
           {
            "metadata": {},
            "name": "emp_id",
            "nullable": true,
            "type": "integer"
           },
           {
            "metadata": {
             "__CHAR_VARCHAR_TYPE_STRING": "varchar(20)"
            },
            "name": "emp_name",
            "nullable": true,
            "type": "string"
           },
           {
            "metadata": {},
            "name": "department_id",
            "nullable": true,
            "type": "integer"
           },
           {
            "metadata": {},
            "name": "salary",
            "nullable": true,
            "type": "integer"
           },
           {
            "metadata": {},
            "name": "manager_id",
            "nullable": true,
            "type": "integer"
           },
           {
            "metadata": {},
            "name": "emp_age",
            "nullable": true,
            "type": "integer"
           },
           {
            "metadata": {},
            "name": "rnum_asc",
            "nullable": false,
            "type": "integer"
           },
           {
            "metadata": {},
            "name": "rnum_desc",
            "nullable": false,
            "type": "integer"
           }
          ],
          "type": "struct"
         },
         "tableIdentifier": null,
         "typeStr": "pyspark.sql.connect.dataframe.DataFrame"
        }
       ],
       "dbfsResultPath": null,
       "isJsonSchema": true,
       "metadata": {
        "createTempViewForImplicitDf": true,
        "dataframeName": "_sqldf",
        "executionCount": 25
       },
       "overflow": false,
       "plotOptions": {
        "customPlotOptions": {},
        "displayType": "table",
        "pivotAggregation": null,
        "pivotColumns": null,
        "xColumns": null,
        "yColumns": null
       },
       "removedWidgets": [],
       "schema": [
        {
         "metadata": "{}",
         "name": "emp_id",
         "type": "\"integer\""
        },
        {
         "metadata": "{\"__CHAR_VARCHAR_TYPE_STRING\": \"varchar(20)\"}",
         "name": "emp_name",
         "type": "\"string\""
        },
        {
         "metadata": "{}",
         "name": "department_id",
         "type": "\"integer\""
        },
        {
         "metadata": "{}",
         "name": "salary",
         "type": "\"integer\""
        },
        {
         "metadata": "{}",
         "name": "manager_id",
         "type": "\"integer\""
        },
        {
         "metadata": "{}",
         "name": "emp_age",
         "type": "\"integer\""
        },
        {
         "metadata": "{}",
         "name": "rnum_asc",
         "type": "\"integer\""
        },
        {
         "metadata": "{}",
         "name": "rnum_desc",
         "type": "\"integer\""
        }
       ],
       "type": "table"
      }
     },
     "output_type": "display_data"
    }
   ],
   "source": [
    "-- Sort the age then take the middle value\n",
    "-- When we have an odd number of rows\n",
    "\n",
    "\n",
    "--case 01\n",
    "-- (rnum_asc - rnum_desc as 0)\n",
    "-- (rnum_asc == rnum_desc as 0)\n",
    "select \n",
    "*\n",
    "from\n",
    "(\n",
    "select\n",
    "*,\n",
    "row_number() over (order by emp_age) as rnum_asc,\n",
    "row_number() over (order by emp_age desc) as rnum_desc\n",
    "from \n",
    "emp \n",
    "where emp_id<=9\n",
    "order by emp_age\n",
    ") where rnum_asc=rnum_desc"
   ]
  },
  {
   "cell_type": "code",
   "execution_count": 0,
   "metadata": {
    "application/vnd.databricks.v1+cell": {
     "cellMetadata": {
      "byteLimit": 2048000,
      "rowLimit": 10000
     },
     "inputWidgets": {},
     "nuid": "e31e9824-e19a-483f-ae2e-1ed98bb4b9fb",
     "showTitle": false,
     "tableResultSettingsMap": {},
     "title": ""
    }
   },
   "outputs": [
    {
     "output_type": "display_data",
     "data": {
      "text/html": [
       "<style scoped>\n",
       "  .table-result-container {\n",
       "    max-height: 300px;\n",
       "    overflow: auto;\n",
       "  }\n",
       "  table, th, td {\n",
       "    border: 1px solid black;\n",
       "    border-collapse: collapse;\n",
       "  }\n",
       "  th, td {\n",
       "    padding: 5px;\n",
       "  }\n",
       "  th {\n",
       "    text-align: left;\n",
       "  }\n",
       "</style><div class='table-result-container'><table class='table-result'><thead style='background-color: white'><tr><th>emp_id</th><th>emp_name</th><th>department_id</th><th>salary</th><th>manager_id</th><th>emp_age</th><th>rnum_asc</th><th>rnum_desc</th></tr></thead><tbody><tr><td>3</td><td>Vikas</td><td>100</td><td>10000</td><td>4</td><td>37</td><td>5</td><td>6</td></tr><tr><td>1</td><td>Ankit</td><td>100</td><td>10000</td><td>4</td><td>39</td><td>6</td><td>5</td></tr></tbody></table></div>"
      ]
     },
     "metadata": {
      "application/vnd.databricks.v1+output": {
       "addedWidgets": {},
       "aggData": [],
       "aggError": "",
       "aggOverflow": false,
       "aggSchema": [],
       "aggSeriesLimitReached": false,
       "aggType": "",
       "arguments": {},
       "columnCustomDisplayInfos": {},
       "data": [
        [
         3,
         "Vikas",
         100,
         10000,
         4,
         37,
         5,
         6
        ],
        [
         1,
         "Ankit",
         100,
         10000,
         4,
         39,
         6,
         5
        ]
       ],
       "datasetInfos": [
        {
         "name": "_sqldf",
         "schema": {
          "fields": [
           {
            "metadata": {},
            "name": "emp_id",
            "nullable": true,
            "type": "integer"
           },
           {
            "metadata": {
             "__CHAR_VARCHAR_TYPE_STRING": "varchar(20)"
            },
            "name": "emp_name",
            "nullable": true,
            "type": "string"
           },
           {
            "metadata": {},
            "name": "department_id",
            "nullable": true,
            "type": "integer"
           },
           {
            "metadata": {},
            "name": "salary",
            "nullable": true,
            "type": "integer"
           },
           {
            "metadata": {},
            "name": "manager_id",
            "nullable": true,
            "type": "integer"
           },
           {
            "metadata": {},
            "name": "emp_age",
            "nullable": true,
            "type": "integer"
           },
           {
            "metadata": {},
            "name": "rnum_asc",
            "nullable": false,
            "type": "integer"
           },
           {
            "metadata": {},
            "name": "rnum_desc",
            "nullable": false,
            "type": "integer"
           }
          ],
          "type": "struct"
         },
         "tableIdentifier": null,
         "typeStr": "pyspark.sql.connect.dataframe.DataFrame"
        }
       ],
       "dbfsResultPath": null,
       "isJsonSchema": true,
       "metadata": {
        "createTempViewForImplicitDf": true,
        "dataframeName": "_sqldf",
        "executionCount": 37
       },
       "overflow": false,
       "plotOptions": {
        "customPlotOptions": {},
        "displayType": "table",
        "pivotAggregation": null,
        "pivotColumns": null,
        "xColumns": null,
        "yColumns": null
       },
       "removedWidgets": [],
       "schema": [
        {
         "metadata": "{}",
         "name": "emp_id",
         "type": "\"integer\""
        },
        {
         "metadata": "{\"__CHAR_VARCHAR_TYPE_STRING\": \"varchar(20)\"}",
         "name": "emp_name",
         "type": "\"string\""
        },
        {
         "metadata": "{}",
         "name": "department_id",
         "type": "\"integer\""
        },
        {
         "metadata": "{}",
         "name": "salary",
         "type": "\"integer\""
        },
        {
         "metadata": "{}",
         "name": "manager_id",
         "type": "\"integer\""
        },
        {
         "metadata": "{}",
         "name": "emp_age",
         "type": "\"integer\""
        },
        {
         "metadata": "{}",
         "name": "rnum_asc",
         "type": "\"integer\""
        },
        {
         "metadata": "{}",
         "name": "rnum_desc",
         "type": "\"integer\""
        }
       ],
       "type": "table"
      }
     },
     "output_type": "display_data"
    }
   ],
   "source": [
    "-- Even number of records\n",
    "with cte as\n",
    "(\n",
    "select \n",
    "*,\n",
    "row_number() over (order by emp_age) as rnum_asc,\n",
    "row_number() over (order by emp_age desc) as rnum_desc\n",
    "from\n",
    "emp\n",
    ")\n",
    "\n",
    "select \n",
    "*\n",
    "from\n",
    "cte\n",
    "where abs(rnum_asc-rnum_desc) <= 1;"
   ]
  },
  {
   "cell_type": "code",
   "execution_count": 0,
   "metadata": {
    "application/vnd.databricks.v1+cell": {
     "cellMetadata": {
      "byteLimit": 2048000,
      "rowLimit": 10000
     },
     "inputWidgets": {},
     "nuid": "76d23f88-9ed3-4f61-97ab-e4fdb250e999",
     "showTitle": false,
     "tableResultSettingsMap": {},
     "title": ""
    }
   },
   "outputs": [
    {
     "output_type": "display_data",
     "data": {
      "text/html": [
       "<style scoped>\n",
       "  .table-result-container {\n",
       "    max-height: 300px;\n",
       "    overflow: auto;\n",
       "  }\n",
       "  table, th, td {\n",
       "    border: 1px solid black;\n",
       "    border-collapse: collapse;\n",
       "  }\n",
       "  th, td {\n",
       "    padding: 5px;\n",
       "  }\n",
       "  th {\n",
       "    text-align: left;\n",
       "  }\n",
       "</style><div class='table-result-container'><table class='table-result'><thead style='background-color: white'><tr><th>avg(emp_age)</th></tr></thead><tbody><tr><td>38.0</td></tr></tbody></table></div>"
      ]
     },
     "metadata": {
      "application/vnd.databricks.v1+output": {
       "addedWidgets": {},
       "aggData": [],
       "aggError": "",
       "aggOverflow": false,
       "aggSchema": [],
       "aggSeriesLimitReached": false,
       "aggType": "",
       "arguments": {},
       "columnCustomDisplayInfos": {},
       "data": [
        [
         38.0
        ]
       ],
       "datasetInfos": [
        {
         "name": "_sqldf",
         "schema": {
          "fields": [
           {
            "metadata": {},
            "name": "avg(emp_age)",
            "nullable": true,
            "type": "double"
           }
          ],
          "type": "struct"
         },
         "tableIdentifier": null,
         "typeStr": "pyspark.sql.connect.dataframe.DataFrame"
        }
       ],
       "dbfsResultPath": null,
       "isJsonSchema": true,
       "metadata": {
        "createTempViewForImplicitDf": true,
        "dataframeName": "_sqldf",
        "executionCount": 45
       },
       "overflow": false,
       "plotOptions": {
        "customPlotOptions": {},
        "displayType": "table",
        "pivotAggregation": null,
        "pivotColumns": null,
        "xColumns": null,
        "yColumns": null
       },
       "removedWidgets": [],
       "schema": [
        {
         "metadata": "{}",
         "name": "avg(emp_age)",
         "type": "\"double\""
        }
       ],
       "type": "table"
      }
     },
     "output_type": "display_data"
    }
   ],
   "source": [
    "-- FOR EVEN NUMBER OF RECORDS\n",
    "\n",
    "-- Even number of records\n",
    "with cte as\n",
    "(\n",
    "select \n",
    "*,\n",
    "row_number() over (order by emp_age) as rnum_asc,\n",
    "row_number() over (order by emp_age desc) as rnum_desc\n",
    "from\n",
    "emp\n",
    ")\n",
    "\n",
    "select \n",
    "avg(emp_age)\n",
    "from\n",
    "cte\n",
    "where abs(rnum_asc-rnum_desc) <= 1;\n"
   ]
  },
  {
   "cell_type": "code",
   "execution_count": 0,
   "metadata": {
    "application/vnd.databricks.v1+cell": {
     "cellMetadata": {
      "byteLimit": 2048000,
      "rowLimit": 10000
     },
     "inputWidgets": {},
     "nuid": "42e1ec23-48e5-4876-8c65-62e26cfb6cb5",
     "showTitle": false,
     "tableResultSettingsMap": {},
     "title": ""
    }
   },
   "outputs": [
    {
     "output_type": "display_data",
     "data": {
      "text/html": [
       "<style scoped>\n",
       "  .table-result-container {\n",
       "    max-height: 300px;\n",
       "    overflow: auto;\n",
       "  }\n",
       "  table, th, td {\n",
       "    border: 1px solid black;\n",
       "    border-collapse: collapse;\n",
       "  }\n",
       "  th, td {\n",
       "    padding: 5px;\n",
       "  }\n",
       "  th {\n",
       "    text-align: left;\n",
       "  }\n",
       "</style><div class='table-result-container'><table class='table-result'><thead style='background-color: white'><tr><th>emp_id</th><th>emp_name</th><th>department_id</th><th>salary</th><th>manager_id</th><th>emp_age</th><th>rnum_asc</th><th>rnum_desc</th></tr></thead><tbody><tr><td>3</td><td>Vikas</td><td>100</td><td>10000</td><td>4</td><td>37</td><td>5</td><td>5</td></tr></tbody></table></div>"
      ]
     },
     "metadata": {
      "application/vnd.databricks.v1+output": {
       "addedWidgets": {},
       "aggData": [],
       "aggError": "",
       "aggOverflow": false,
       "aggSchema": [],
       "aggSeriesLimitReached": false,
       "aggType": "",
       "arguments": {},
       "columnCustomDisplayInfos": {},
       "data": [
        [
         3,
         "Vikas",
         100,
         10000,
         4,
         37,
         5,
         5
        ]
       ],
       "datasetInfos": [
        {
         "name": "_sqldf",
         "schema": {
          "fields": [
           {
            "metadata": {},
            "name": "emp_id",
            "nullable": true,
            "type": "integer"
           },
           {
            "metadata": {
             "__CHAR_VARCHAR_TYPE_STRING": "varchar(20)"
            },
            "name": "emp_name",
            "nullable": true,
            "type": "string"
           },
           {
            "metadata": {},
            "name": "department_id",
            "nullable": true,
            "type": "integer"
           },
           {
            "metadata": {},
            "name": "salary",
            "nullable": true,
            "type": "integer"
           },
           {
            "metadata": {},
            "name": "manager_id",
            "nullable": true,
            "type": "integer"
           },
           {
            "metadata": {},
            "name": "emp_age",
            "nullable": true,
            "type": "integer"
           },
           {
            "metadata": {},
            "name": "rnum_asc",
            "nullable": false,
            "type": "integer"
           },
           {
            "metadata": {},
            "name": "rnum_desc",
            "nullable": false,
            "type": "integer"
           }
          ],
          "type": "struct"
         },
         "tableIdentifier": null,
         "typeStr": "pyspark.sql.connect.dataframe.DataFrame"
        }
       ],
       "dbfsResultPath": null,
       "isJsonSchema": true,
       "metadata": {
        "createTempViewForImplicitDf": true,
        "dataframeName": "_sqldf",
        "executionCount": 41
       },
       "overflow": false,
       "plotOptions": {
        "customPlotOptions": {},
        "displayType": "table",
        "pivotAggregation": null,
        "pivotColumns": null,
        "xColumns": null,
        "yColumns": null
       },
       "removedWidgets": [],
       "schema": [
        {
         "metadata": "{}",
         "name": "emp_id",
         "type": "\"integer\""
        },
        {
         "metadata": "{\"__CHAR_VARCHAR_TYPE_STRING\": \"varchar(20)\"}",
         "name": "emp_name",
         "type": "\"string\""
        },
        {
         "metadata": "{}",
         "name": "department_id",
         "type": "\"integer\""
        },
        {
         "metadata": "{}",
         "name": "salary",
         "type": "\"integer\""
        },
        {
         "metadata": "{}",
         "name": "manager_id",
         "type": "\"integer\""
        },
        {
         "metadata": "{}",
         "name": "emp_age",
         "type": "\"integer\""
        },
        {
         "metadata": "{}",
         "name": "rnum_asc",
         "type": "\"integer\""
        },
        {
         "metadata": "{}",
         "name": "rnum_desc",
         "type": "\"integer\""
        }
       ],
       "type": "table"
      }
     },
     "output_type": "display_data"
    }
   ],
   "source": [
    "-- Same Solution with the difference between rnum_asc and rnum_desc will be valid for odd number of records also\n",
    "\n",
    "with cte as(\n",
    "select\n",
    "*,\n",
    "row_number() over (order by emp_age) as rnum_asc,\n",
    "row_number() over (order by emp_age desc) as rnum_desc\n",
    "from\n",
    "emp \n",
    "where emp_id<=9\n",
    ")\n",
    "\n",
    "select\n",
    "*\n",
    "from \n",
    "cte \n",
    "where abs(rnum_asc-rnum_desc)<=1"
   ]
  },
  {
   "cell_type": "code",
   "execution_count": 0,
   "metadata": {
    "application/vnd.databricks.v1+cell": {
     "cellMetadata": {
      "byteLimit": 2048000,
      "rowLimit": 10000
     },
     "inputWidgets": {},
     "nuid": "a025a9c9-26f4-4ad0-ad7a-379639ad93c9",
     "showTitle": false,
     "tableResultSettingsMap": {},
     "title": ""
    }
   },
   "outputs": [
    {
     "output_type": "display_data",
     "data": {
      "text/html": [
       "<style scoped>\n",
       "  .table-result-container {\n",
       "    max-height: 300px;\n",
       "    overflow: auto;\n",
       "  }\n",
       "  table, th, td {\n",
       "    border: 1px solid black;\n",
       "    border-collapse: collapse;\n",
       "  }\n",
       "  th, td {\n",
       "    padding: 5px;\n",
       "  }\n",
       "  th {\n",
       "    text-align: left;\n",
       "  }\n",
       "</style><div class='table-result-container'><table class='table-result'><thead style='background-color: white'><tr><th>avg(emp_age)</th></tr></thead><tbody><tr><td>37.0</td></tr></tbody></table></div>"
      ]
     },
     "metadata": {
      "application/vnd.databricks.v1+output": {
       "addedWidgets": {},
       "aggData": [],
       "aggError": "",
       "aggOverflow": false,
       "aggSchema": [],
       "aggSeriesLimitReached": false,
       "aggType": "",
       "arguments": {},
       "columnCustomDisplayInfos": {},
       "data": [
        [
         37.0
        ]
       ],
       "datasetInfos": [
        {
         "name": "_sqldf",
         "schema": {
          "fields": [
           {
            "metadata": {},
            "name": "avg(emp_age)",
            "nullable": true,
            "type": "double"
           }
          ],
          "type": "struct"
         },
         "tableIdentifier": null,
         "typeStr": "pyspark.sql.connect.dataframe.DataFrame"
        }
       ],
       "dbfsResultPath": null,
       "isJsonSchema": true,
       "metadata": {
        "createTempViewForImplicitDf": true,
        "dataframeName": "_sqldf",
        "executionCount": 43
       },
       "overflow": false,
       "plotOptions": {
        "customPlotOptions": {},
        "displayType": "table",
        "pivotAggregation": null,
        "pivotColumns": null,
        "xColumns": null,
        "yColumns": null
       },
       "removedWidgets": [],
       "schema": [
        {
         "metadata": "{}",
         "name": "avg(emp_age)",
         "type": "\"double\""
        }
       ],
       "type": "table"
      }
     },
     "output_type": "display_data"
    }
   ],
   "source": [
    "-- Same Solution with the difference between rnum_asc and rnum_desc will be valid for odd number of records also\n",
    "\n",
    "with cte as(\n",
    "select\n",
    "*,\n",
    "row_number() over (order by emp_age) as rnum_asc,\n",
    "row_number() over (order by emp_age desc) as rnum_desc\n",
    "from\n",
    "emp \n",
    "where emp_id<=9\n",
    ")\n",
    "\n",
    "select\n",
    "avg(emp_age)\n",
    "from \n",
    "cte \n",
    "where abs(rnum_asc-rnum_desc)<=1"
   ]
  },
  {
   "cell_type": "code",
   "execution_count": 0,
   "metadata": {
    "application/vnd.databricks.v1+cell": {
     "cellMetadata": {},
     "inputWidgets": {},
     "nuid": "b4c0e725-bb53-42cb-8330-f72e0abed865",
     "showTitle": false,
     "tableResultSettingsMap": {},
     "title": ""
    }
   },
   "outputs": [],
   "source": []
  },
  {
   "cell_type": "markdown",
   "metadata": {
    "application/vnd.databricks.v1+cell": {
     "cellMetadata": {},
     "inputWidgets": {},
     "nuid": "3a226ccd-2af7-48f7-94c0-6cf95bedbbc5",
     "showTitle": false,
     "tableResultSettingsMap": {},
     "title": ""
    }
   },
   "source": [
    "# **MEDIAN** USING PERCENTILE_CONT"
   ]
  },
  {
   "cell_type": "markdown",
   "metadata": {
    "application/vnd.databricks.v1+cell": {
     "cellMetadata": {},
     "inputWidgets": {},
     "nuid": "da1fbd1a-5e89-4ba0-a69c-9baa8f538cc4",
     "showTitle": false,
     "tableResultSettingsMap": {},
     "title": ""
    }
   },
   "source": [
    "**Assuming middle number will be at the 50th ppercentile\n",
    "so use 0.5\n",
    "pass the order by column on which we want to calculate the percentile (emp_age)\n",
    "over() means over the full table we are calculating the median**"
   ]
  },
  {
   "cell_type": "code",
   "execution_count": 0,
   "metadata": {
    "application/vnd.databricks.v1+cell": {
     "cellMetadata": {
      "byteLimit": 2048000,
      "rowLimit": 10000
     },
     "inputWidgets": {},
     "nuid": "0557d889-76c5-476e-b5b4-efbb2e91a8d2",
     "showTitle": true,
     "tableResultSettingsMap": {},
     "title": "Percentile_cont for odd records"
    }
   },
   "outputs": [
    {
     "output_type": "display_data",
     "data": {
      "text/html": [
       "<style scoped>\n",
       "  .table-result-container {\n",
       "    max-height: 300px;\n",
       "    overflow: auto;\n",
       "  }\n",
       "  table, th, td {\n",
       "    border: 1px solid black;\n",
       "    border-collapse: collapse;\n",
       "  }\n",
       "  th, td {\n",
       "    padding: 5px;\n",
       "  }\n",
       "  th {\n",
       "    text-align: left;\n",
       "  }\n",
       "</style><div class='table-result-container'><table class='table-result'><thead style='background-color: white'><tr><th>emp_id</th><th>emp_name</th><th>department_id</th><th>salary</th><th>manager_id</th><th>emp_age</th><th>median</th></tr></thead><tbody><tr><td>1</td><td>Ankit</td><td>100</td><td>10000</td><td>4</td><td>39</td><td>37.0</td></tr><tr><td>2</td><td>Mohit</td><td>100</td><td>15000</td><td>5</td><td>48</td><td>37.0</td></tr><tr><td>3</td><td>Vikas</td><td>100</td><td>10000</td><td>4</td><td>37</td><td>37.0</td></tr><tr><td>4</td><td>Rohit</td><td>100</td><td>5000</td><td>2</td><td>16</td><td>37.0</td></tr><tr><td>5</td><td>Mudit</td><td>200</td><td>12000</td><td>6</td><td>55</td><td>37.0</td></tr><tr><td>6</td><td>Agam</td><td>200</td><td>12000</td><td>2</td><td>14</td><td>37.0</td></tr><tr><td>7</td><td>Sanjay</td><td>200</td><td>9000</td><td>2</td><td>13</td><td>37.0</td></tr><tr><td>8</td><td>Ashish</td><td>200</td><td>5000</td><td>2</td><td>12</td><td>37.0</td></tr><tr><td>9</td><td>Mukesh</td><td>300</td><td>6000</td><td>6</td><td>51</td><td>37.0</td></tr></tbody></table></div>"
      ]
     },
     "metadata": {
      "application/vnd.databricks.v1+output": {
       "addedWidgets": {},
       "aggData": [],
       "aggError": "",
       "aggOverflow": false,
       "aggSchema": [],
       "aggSeriesLimitReached": false,
       "aggType": "",
       "arguments": {},
       "columnCustomDisplayInfos": {},
       "data": [
        [
         1,
         "Ankit",
         100,
         10000,
         4,
         39,
         37.0
        ],
        [
         2,
         "Mohit",
         100,
         15000,
         5,
         48,
         37.0
        ],
        [
         3,
         "Vikas",
         100,
         10000,
         4,
         37,
         37.0
        ],
        [
         4,
         "Rohit",
         100,
         5000,
         2,
         16,
         37.0
        ],
        [
         5,
         "Mudit",
         200,
         12000,
         6,
         55,
         37.0
        ],
        [
         6,
         "Agam",
         200,
         12000,
         2,
         14,
         37.0
        ],
        [
         7,
         "Sanjay",
         200,
         9000,
         2,
         13,
         37.0
        ],
        [
         8,
         "Ashish",
         200,
         5000,
         2,
         12,
         37.0
        ],
        [
         9,
         "Mukesh",
         300,
         6000,
         6,
         51,
         37.0
        ]
       ],
       "datasetInfos": [
        {
         "name": "_sqldf",
         "schema": {
          "fields": [
           {
            "metadata": {},
            "name": "emp_id",
            "nullable": true,
            "type": "integer"
           },
           {
            "metadata": {
             "__CHAR_VARCHAR_TYPE_STRING": "varchar(20)"
            },
            "name": "emp_name",
            "nullable": true,
            "type": "string"
           },
           {
            "metadata": {},
            "name": "department_id",
            "nullable": true,
            "type": "integer"
           },
           {
            "metadata": {},
            "name": "salary",
            "nullable": true,
            "type": "integer"
           },
           {
            "metadata": {},
            "name": "manager_id",
            "nullable": true,
            "type": "integer"
           },
           {
            "metadata": {},
            "name": "emp_age",
            "nullable": true,
            "type": "integer"
           },
           {
            "metadata": {},
            "name": "median",
            "nullable": true,
            "type": "double"
           }
          ],
          "type": "struct"
         },
         "tableIdentifier": null,
         "typeStr": "pyspark.sql.connect.dataframe.DataFrame"
        }
       ],
       "dbfsResultPath": null,
       "isJsonSchema": true,
       "metadata": {
        "createTempViewForImplicitDf": true,
        "dataframeName": "_sqldf",
        "executionCount": 54
       },
       "overflow": false,
       "plotOptions": {
        "customPlotOptions": {},
        "displayType": "table",
        "pivotAggregation": null,
        "pivotColumns": null,
        "xColumns": null,
        "yColumns": null
       },
       "removedWidgets": [],
       "schema": [
        {
         "metadata": "{}",
         "name": "emp_id",
         "type": "\"integer\""
        },
        {
         "metadata": "{\"__CHAR_VARCHAR_TYPE_STRING\": \"varchar(20)\"}",
         "name": "emp_name",
         "type": "\"string\""
        },
        {
         "metadata": "{}",
         "name": "department_id",
         "type": "\"integer\""
        },
        {
         "metadata": "{}",
         "name": "salary",
         "type": "\"integer\""
        },
        {
         "metadata": "{}",
         "name": "manager_id",
         "type": "\"integer\""
        },
        {
         "metadata": "{}",
         "name": "emp_age",
         "type": "\"integer\""
        },
        {
         "metadata": "{}",
         "name": "median",
         "type": "\"double\""
        }
       ],
       "type": "table"
      }
     },
     "output_type": "display_data"
    }
   ],
   "source": [
    "select\n",
    "*,\n",
    "percentile_cont(0.5) within group (order by emp_age) over () as median\n",
    "from\n",
    "emp\n",
    "where emp_id <10\n"
   ]
  },
  {
   "cell_type": "code",
   "execution_count": 0,
   "metadata": {
    "application/vnd.databricks.v1+cell": {
     "cellMetadata": {
      "byteLimit": 2048000,
      "rowLimit": 10000
     },
     "inputWidgets": {},
     "nuid": "3de31c29-c814-4694-99e8-00beced3c7d7",
     "showTitle": true,
     "tableResultSettingsMap": {},
     "title": "Percentile_cont for even records"
    }
   },
   "outputs": [
    {
     "output_type": "display_data",
     "data": {
      "text/html": [
       "<style scoped>\n",
       "  .table-result-container {\n",
       "    max-height: 300px;\n",
       "    overflow: auto;\n",
       "  }\n",
       "  table, th, td {\n",
       "    border: 1px solid black;\n",
       "    border-collapse: collapse;\n",
       "  }\n",
       "  th, td {\n",
       "    padding: 5px;\n",
       "  }\n",
       "  th {\n",
       "    text-align: left;\n",
       "  }\n",
       "</style><div class='table-result-container'><table class='table-result'><thead style='background-color: white'><tr><th>emp_id</th><th>emp_name</th><th>department_id</th><th>salary</th><th>manager_id</th><th>emp_age</th><th>median</th></tr></thead><tbody><tr><td>1</td><td>Ankit</td><td>100</td><td>10000</td><td>4</td><td>39</td><td>38.0</td></tr><tr><td>2</td><td>Mohit</td><td>100</td><td>15000</td><td>5</td><td>48</td><td>38.0</td></tr><tr><td>3</td><td>Vikas</td><td>100</td><td>10000</td><td>4</td><td>37</td><td>38.0</td></tr><tr><td>4</td><td>Rohit</td><td>100</td><td>5000</td><td>2</td><td>16</td><td>38.0</td></tr><tr><td>5</td><td>Mudit</td><td>200</td><td>12000</td><td>6</td><td>55</td><td>38.0</td></tr><tr><td>6</td><td>Agam</td><td>200</td><td>12000</td><td>2</td><td>14</td><td>38.0</td></tr><tr><td>7</td><td>Sanjay</td><td>200</td><td>9000</td><td>2</td><td>13</td><td>38.0</td></tr><tr><td>8</td><td>Ashish</td><td>200</td><td>5000</td><td>2</td><td>12</td><td>38.0</td></tr><tr><td>9</td><td>Mukesh</td><td>300</td><td>6000</td><td>6</td><td>51</td><td>38.0</td></tr><tr><td>10</td><td>Rakesh</td><td>300</td><td>7000</td><td>6</td><td>50</td><td>38.0</td></tr></tbody></table></div>"
      ]
     },
     "metadata": {
      "application/vnd.databricks.v1+output": {
       "addedWidgets": {},
       "aggData": [],
       "aggError": "",
       "aggOverflow": false,
       "aggSchema": [],
       "aggSeriesLimitReached": false,
       "aggType": "",
       "arguments": {},
       "columnCustomDisplayInfos": {},
       "data": [
        [
         1,
         "Ankit",
         100,
         10000,
         4,
         39,
         38.0
        ],
        [
         2,
         "Mohit",
         100,
         15000,
         5,
         48,
         38.0
        ],
        [
         3,
         "Vikas",
         100,
         10000,
         4,
         37,
         38.0
        ],
        [
         4,
         "Rohit",
         100,
         5000,
         2,
         16,
         38.0
        ],
        [
         5,
         "Mudit",
         200,
         12000,
         6,
         55,
         38.0
        ],
        [
         6,
         "Agam",
         200,
         12000,
         2,
         14,
         38.0
        ],
        [
         7,
         "Sanjay",
         200,
         9000,
         2,
         13,
         38.0
        ],
        [
         8,
         "Ashish",
         200,
         5000,
         2,
         12,
         38.0
        ],
        [
         9,
         "Mukesh",
         300,
         6000,
         6,
         51,
         38.0
        ],
        [
         10,
         "Rakesh",
         300,
         7000,
         6,
         50,
         38.0
        ]
       ],
       "datasetInfos": [
        {
         "name": "_sqldf",
         "schema": {
          "fields": [
           {
            "metadata": {},
            "name": "emp_id",
            "nullable": true,
            "type": "integer"
           },
           {
            "metadata": {
             "__CHAR_VARCHAR_TYPE_STRING": "varchar(20)"
            },
            "name": "emp_name",
            "nullable": true,
            "type": "string"
           },
           {
            "metadata": {},
            "name": "department_id",
            "nullable": true,
            "type": "integer"
           },
           {
            "metadata": {},
            "name": "salary",
            "nullable": true,
            "type": "integer"
           },
           {
            "metadata": {},
            "name": "manager_id",
            "nullable": true,
            "type": "integer"
           },
           {
            "metadata": {},
            "name": "emp_age",
            "nullable": true,
            "type": "integer"
           },
           {
            "metadata": {},
            "name": "median",
            "nullable": true,
            "type": "double"
           }
          ],
          "type": "struct"
         },
         "tableIdentifier": null,
         "typeStr": "pyspark.sql.connect.dataframe.DataFrame"
        }
       ],
       "dbfsResultPath": null,
       "isJsonSchema": true,
       "metadata": {
        "createTempViewForImplicitDf": true,
        "dataframeName": "_sqldf",
        "executionCount": 56
       },
       "overflow": false,
       "plotOptions": {
        "customPlotOptions": {},
        "displayType": "table",
        "pivotAggregation": null,
        "pivotColumns": null,
        "xColumns": null,
        "yColumns": null
       },
       "removedWidgets": [],
       "schema": [
        {
         "metadata": "{}",
         "name": "emp_id",
         "type": "\"integer\""
        },
        {
         "metadata": "{\"__CHAR_VARCHAR_TYPE_STRING\": \"varchar(20)\"}",
         "name": "emp_name",
         "type": "\"string\""
        },
        {
         "metadata": "{}",
         "name": "department_id",
         "type": "\"integer\""
        },
        {
         "metadata": "{}",
         "name": "salary",
         "type": "\"integer\""
        },
        {
         "metadata": "{}",
         "name": "manager_id",
         "type": "\"integer\""
        },
        {
         "metadata": "{}",
         "name": "emp_age",
         "type": "\"integer\""
        },
        {
         "metadata": "{}",
         "name": "median",
         "type": "\"double\""
        }
       ],
       "type": "table"
      }
     },
     "output_type": "display_data"
    }
   ],
   "source": [
    "select\n",
    "*,\n",
    "percentile_cont(0.5) within group (order by emp_age) over() as median\n",
    "from \n",
    "emp\n",
    "\n"
   ]
  },
  {
   "cell_type": "code",
   "execution_count": 0,
   "metadata": {
    "application/vnd.databricks.v1+cell": {
     "cellMetadata": {
      "byteLimit": 2048000,
      "rowLimit": 10000
     },
     "inputWidgets": {},
     "nuid": "275c6116-dd7c-4146-9b3e-5b50eac32578",
     "showTitle": true,
     "tableResultSettingsMap": {},
     "title": "Percentile cont based on the emp_age and dept_id"
    }
   },
   "outputs": [
    {
     "output_type": "display_data",
     "data": {
      "text/html": [
       "<style scoped>\n",
       "  .table-result-container {\n",
       "    max-height: 300px;\n",
       "    overflow: auto;\n",
       "  }\n",
       "  table, th, td {\n",
       "    border: 1px solid black;\n",
       "    border-collapse: collapse;\n",
       "  }\n",
       "  th, td {\n",
       "    padding: 5px;\n",
       "  }\n",
       "  th {\n",
       "    text-align: left;\n",
       "  }\n",
       "</style><div class='table-result-container'><table class='table-result'><thead style='background-color: white'><tr><th>emp_id</th><th>emp_name</th><th>department_id</th><th>salary</th><th>manager_id</th><th>emp_age</th><th>median</th></tr></thead><tbody><tr><td>1</td><td>Ankit</td><td>100</td><td>10000</td><td>4</td><td>39</td><td>38.0</td></tr><tr><td>2</td><td>Mohit</td><td>100</td><td>15000</td><td>5</td><td>48</td><td>38.0</td></tr><tr><td>3</td><td>Vikas</td><td>100</td><td>10000</td><td>4</td><td>37</td><td>38.0</td></tr><tr><td>4</td><td>Rohit</td><td>100</td><td>5000</td><td>2</td><td>16</td><td>38.0</td></tr><tr><td>5</td><td>Mudit</td><td>200</td><td>12000</td><td>6</td><td>55</td><td>13.5</td></tr><tr><td>6</td><td>Agam</td><td>200</td><td>12000</td><td>2</td><td>14</td><td>13.5</td></tr><tr><td>7</td><td>Sanjay</td><td>200</td><td>9000</td><td>2</td><td>13</td><td>13.5</td></tr><tr><td>8</td><td>Ashish</td><td>200</td><td>5000</td><td>2</td><td>12</td><td>13.5</td></tr><tr><td>9</td><td>Mukesh</td><td>300</td><td>6000</td><td>6</td><td>51</td><td>50.5</td></tr><tr><td>10</td><td>Rakesh</td><td>300</td><td>7000</td><td>6</td><td>50</td><td>50.5</td></tr></tbody></table></div>"
      ]
     },
     "metadata": {
      "application/vnd.databricks.v1+output": {
       "addedWidgets": {},
       "aggData": [],
       "aggError": "",
       "aggOverflow": false,
       "aggSchema": [],
       "aggSeriesLimitReached": false,
       "aggType": "",
       "arguments": {},
       "columnCustomDisplayInfos": {},
       "data": [
        [
         1,
         "Ankit",
         100,
         10000,
         4,
         39,
         38.0
        ],
        [
         2,
         "Mohit",
         100,
         15000,
         5,
         48,
         38.0
        ],
        [
         3,
         "Vikas",
         100,
         10000,
         4,
         37,
         38.0
        ],
        [
         4,
         "Rohit",
         100,
         5000,
         2,
         16,
         38.0
        ],
        [
         5,
         "Mudit",
         200,
         12000,
         6,
         55,
         13.5
        ],
        [
         6,
         "Agam",
         200,
         12000,
         2,
         14,
         13.5
        ],
        [
         7,
         "Sanjay",
         200,
         9000,
         2,
         13,
         13.5
        ],
        [
         8,
         "Ashish",
         200,
         5000,
         2,
         12,
         13.5
        ],
        [
         9,
         "Mukesh",
         300,
         6000,
         6,
         51,
         50.5
        ],
        [
         10,
         "Rakesh",
         300,
         7000,
         6,
         50,
         50.5
        ]
       ],
       "datasetInfos": [
        {
         "name": "_sqldf",
         "schema": {
          "fields": [
           {
            "metadata": {},
            "name": "emp_id",
            "nullable": true,
            "type": "integer"
           },
           {
            "metadata": {
             "__CHAR_VARCHAR_TYPE_STRING": "varchar(20)"
            },
            "name": "emp_name",
            "nullable": true,
            "type": "string"
           },
           {
            "metadata": {},
            "name": "department_id",
            "nullable": true,
            "type": "integer"
           },
           {
            "metadata": {},
            "name": "salary",
            "nullable": true,
            "type": "integer"
           },
           {
            "metadata": {},
            "name": "manager_id",
            "nullable": true,
            "type": "integer"
           },
           {
            "metadata": {},
            "name": "emp_age",
            "nullable": true,
            "type": "integer"
           },
           {
            "metadata": {},
            "name": "median",
            "nullable": true,
            "type": "double"
           }
          ],
          "type": "struct"
         },
         "tableIdentifier": null,
         "typeStr": "pyspark.sql.connect.dataframe.DataFrame"
        }
       ],
       "dbfsResultPath": null,
       "isJsonSchema": true,
       "metadata": {
        "createTempViewForImplicitDf": true,
        "dataframeName": "_sqldf",
        "executionCount": 60
       },
       "overflow": false,
       "plotOptions": {
        "customPlotOptions": {},
        "displayType": "table",
        "pivotAggregation": null,
        "pivotColumns": null,
        "xColumns": null,
        "yColumns": null
       },
       "removedWidgets": [],
       "schema": [
        {
         "metadata": "{}",
         "name": "emp_id",
         "type": "\"integer\""
        },
        {
         "metadata": "{\"__CHAR_VARCHAR_TYPE_STRING\": \"varchar(20)\"}",
         "name": "emp_name",
         "type": "\"string\""
        },
        {
         "metadata": "{}",
         "name": "department_id",
         "type": "\"integer\""
        },
        {
         "metadata": "{}",
         "name": "salary",
         "type": "\"integer\""
        },
        {
         "metadata": "{}",
         "name": "manager_id",
         "type": "\"integer\""
        },
        {
         "metadata": "{}",
         "name": "emp_age",
         "type": "\"integer\""
        },
        {
         "metadata": "{}",
         "name": "median",
         "type": "\"double\""
        }
       ],
       "type": "table"
      }
     },
     "output_type": "display_data"
    }
   ],
   "source": [
    "\n",
    "select\n",
    "*,\n",
    "percentile_cont(0.5) within group (order by emp_age) over (partition by department_id) as median\n",
    "from\n",
    "emp"
   ]
  },
  {
   "cell_type": "code",
   "execution_count": 0,
   "metadata": {
    "application/vnd.databricks.v1+cell": {
     "cellMetadata": {},
     "inputWidgets": {},
     "nuid": "b2f76f7e-2bbe-42e7-9eeb-4bee06aacabe",
     "showTitle": false,
     "tableResultSettingsMap": {},
     "title": ""
    }
   },
   "outputs": [],
   "source": []
  },
  {
   "cell_type": "code",
   "execution_count": 0,
   "metadata": {
    "application/vnd.databricks.v1+cell": {
     "cellMetadata": {},
     "inputWidgets": {},
     "nuid": "22e28ab7-3ae5-4dc2-8790-73278326f3c1",
     "showTitle": false,
     "tableResultSettingsMap": {},
     "title": ""
    }
   },
   "outputs": [],
   "source": []
  },
  {
   "cell_type": "code",
   "execution_count": 0,
   "metadata": {
    "application/vnd.databricks.v1+cell": {
     "cellMetadata": {},
     "inputWidgets": {},
     "nuid": "07b08a5f-857d-4b12-a8b4-290b17933b9d",
     "showTitle": false,
     "tableResultSettingsMap": {},
     "title": ""
    }
   },
   "outputs": [],
   "source": []
  },
  {
   "cell_type": "code",
   "execution_count": 0,
   "metadata": {
    "application/vnd.databricks.v1+cell": {
     "cellMetadata": {},
     "inputWidgets": {},
     "nuid": "7cceca84-72f4-4ee7-b7fc-aaaeb23222fc",
     "showTitle": false,
     "tableResultSettingsMap": {},
     "title": ""
    }
   },
   "outputs": [],
   "source": []
  },
  {
   "cell_type": "code",
   "execution_count": 0,
   "metadata": {
    "application/vnd.databricks.v1+cell": {
     "cellMetadata": {},
     "inputWidgets": {},
     "nuid": "146704a7-c80b-4476-b8f2-350745fcee72",
     "showTitle": false,
     "tableResultSettingsMap": {},
     "title": ""
    }
   },
   "outputs": [],
   "source": []
  },
  {
   "cell_type": "code",
   "execution_count": 0,
   "metadata": {
    "application/vnd.databricks.v1+cell": {
     "cellMetadata": {},
     "inputWidgets": {},
     "nuid": "353e9cdf-73d3-4a99-929b-8d92f488c251",
     "showTitle": false,
     "tableResultSettingsMap": {},
     "title": ""
    }
   },
   "outputs": [],
   "source": []
  },
  {
   "cell_type": "code",
   "execution_count": 0,
   "metadata": {
    "application/vnd.databricks.v1+cell": {
     "cellMetadata": {},
     "inputWidgets": {},
     "nuid": "c25a86bc-03a4-40a4-b344-2e92be86e832",
     "showTitle": false,
     "tableResultSettingsMap": {},
     "title": ""
    }
   },
   "outputs": [],
   "source": []
  },
  {
   "cell_type": "code",
   "execution_count": 0,
   "metadata": {
    "application/vnd.databricks.v1+cell": {
     "cellMetadata": {},
     "inputWidgets": {},
     "nuid": "fa292ac8-62c7-4dda-8f6d-52a3e38901d3",
     "showTitle": false,
     "tableResultSettingsMap": {},
     "title": ""
    }
   },
   "outputs": [],
   "source": []
  },
  {
   "cell_type": "code",
   "execution_count": 0,
   "metadata": {
    "application/vnd.databricks.v1+cell": {
     "cellMetadata": {},
     "inputWidgets": {},
     "nuid": "54865865-e7e2-4f26-8625-16c921d7b836",
     "showTitle": false,
     "tableResultSettingsMap": {},
     "title": ""
    }
   },
   "outputs": [],
   "source": []
  },
  {
   "cell_type": "code",
   "execution_count": 0,
   "metadata": {
    "application/vnd.databricks.v1+cell": {
     "cellMetadata": {},
     "inputWidgets": {},
     "nuid": "8e1319ea-a5ad-4f48-89ca-ebed981ed7e4",
     "showTitle": false,
     "tableResultSettingsMap": {},
     "title": ""
    }
   },
   "outputs": [],
   "source": []
  },
  {
   "cell_type": "code",
   "execution_count": 0,
   "metadata": {
    "application/vnd.databricks.v1+cell": {
     "cellMetadata": {},
     "inputWidgets": {},
     "nuid": "a272e601-5dd7-467e-977d-d4ebcd2f67f5",
     "showTitle": false,
     "tableResultSettingsMap": {},
     "title": ""
    }
   },
   "outputs": [],
   "source": []
  },
  {
   "cell_type": "code",
   "execution_count": 0,
   "metadata": {
    "application/vnd.databricks.v1+cell": {
     "cellMetadata": {},
     "inputWidgets": {},
     "nuid": "d96edbff-24f5-4dfa-b58d-324f6048317c",
     "showTitle": false,
     "tableResultSettingsMap": {},
     "title": ""
    }
   },
   "outputs": [],
   "source": []
  }
 ],
 "metadata": {
  "application/vnd.databricks.v1+notebook": {
   "computePreferences": {
    "hardware": {
     "accelerator": null,
     "gpuPoolId": null,
     "memory": null
    }
   },
   "dashboards": [],
   "environmentMetadata": {
    "base_environment": "",
    "environment_version": "4"
   },
   "inputWidgetPreferences": null,
   "language": "sql",
   "notebookMetadata": {},
   "notebookName": "MEDIAN_SALARY",
   "widgets": {}
  },
  "language_info": {
   "name": "sql"
  }
 },
 "nbformat": 4,
 "nbformat_minor": 0
}