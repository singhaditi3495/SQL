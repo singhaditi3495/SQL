{
 "cells": [
  {
   "cell_type": "markdown",
   "metadata": {
    "application/vnd.databricks.v1+cell": {
     "cellMetadata": {},
     "inputWidgets": {},
     "nuid": "9e9a7449-708e-46ce-8364-56dbdad65429",
     "showTitle": false,
     "tableResultSettingsMap": {},
     "title": ""
    }
   },
   "source": [
    "> # FIND EMPLOYEES WITH SALARY MORE THAN THEIR MANAGERS"
   ]
  },
  {
   "cell_type": "code",
   "execution_count": 0,
   "metadata": {
    "application/vnd.databricks.v1+cell": {
     "cellMetadata": {
      "byteLimit": 2048000,
      "implicitDf": true,
      "rowLimit": 10000
     },
     "inputWidgets": {},
     "nuid": "40375d1a-4e92-44b2-8733-e29e97e60a7e",
     "showTitle": false,
     "tableResultSettingsMap": {},
     "title": ""
    }
   },
   "outputs": [
    {
     "output_type": "display_data",
     "data": {
      "text/html": [
       "<style scoped>\n",
       "  .table-result-container {\n",
       "    max-height: 300px;\n",
       "    overflow: auto;\n",
       "  }\n",
       "  table, th, td {\n",
       "    border: 1px solid black;\n",
       "    border-collapse: collapse;\n",
       "  }\n",
       "  th, td {\n",
       "    padding: 5px;\n",
       "  }\n",
       "  th {\n",
       "    text-align: left;\n",
       "  }\n",
       "</style><div class='table-result-container'><table class='table-result'><thead style='background-color: white'><tr><th>emp_id</th><th>emp_name</th><th>salary</th><th>manager_id</th></tr></thead><tbody><tr><td>8</td><td>Ashish</td><td>5000</td><td>2</td></tr><tr><td>7</td><td>Sanjay</td><td>9000</td><td>2</td></tr><tr><td>2</td><td>Mohit</td><td>15000</td><td>5</td></tr><tr><td>4</td><td>Rohit</td><td>5000</td><td>2</td></tr><tr><td>5</td><td>Mudit</td><td>12000</td><td>6</td></tr><tr><td>1</td><td>Ankit</td><td>10000</td><td>4</td></tr><tr><td>3</td><td>Vikas</td><td>10000</td><td>4</td></tr><tr><td>6</td><td>Agam</td><td>12000</td><td>2</td></tr></tbody></table></div>"
      ]
     },
     "metadata": {
      "application/vnd.databricks.v1+output": {
       "addedWidgets": {},
       "aggData": [],
       "aggError": "",
       "aggOverflow": false,
       "aggSchema": [],
       "aggSeriesLimitReached": false,
       "aggType": "",
       "arguments": {},
       "columnCustomDisplayInfos": {},
       "data": [
        [
         8,
         "Ashish",
         5000,
         2
        ],
        [
         7,
         "Sanjay",
         9000,
         2
        ],
        [
         2,
         "Mohit",
         15000,
         5
        ],
        [
         4,
         "Rohit",
         5000,
         2
        ],
        [
         5,
         "Mudit",
         12000,
         6
        ],
        [
         1,
         "Ankit",
         10000,
         4
        ],
        [
         3,
         "Vikas",
         10000,
         4
        ],
        [
         6,
         "Agam",
         12000,
         2
        ]
       ],
       "datasetInfos": [
        {
         "name": "_sqldf",
         "schema": {
          "fields": [
           {
            "metadata": {},
            "name": "emp_id",
            "nullable": true,
            "type": "integer"
           },
           {
            "metadata": {
             "__CHAR_VARCHAR_TYPE_STRING": "varchar(10)"
            },
            "name": "emp_name",
            "nullable": true,
            "type": "string"
           },
           {
            "metadata": {},
            "name": "salary",
            "nullable": true,
            "type": "integer"
           },
           {
            "metadata": {},
            "name": "manager_id",
            "nullable": true,
            "type": "integer"
           }
          ],
          "type": "struct"
         },
         "tableIdentifier": null,
         "typeStr": "pyspark.sql.connect.dataframe.DataFrame"
        }
       ],
       "dbfsResultPath": null,
       "isJsonSchema": true,
       "metadata": {
        "createTempViewForImplicitDf": true,
        "dataframeName": "_sqldf",
        "executionCount": 2
       },
       "overflow": false,
       "plotOptions": {
        "customPlotOptions": {},
        "displayType": "table",
        "pivotAggregation": null,
        "pivotColumns": null,
        "xColumns": null,
        "yColumns": null
       },
       "removedWidgets": [],
       "schema": [
        {
         "metadata": "{}",
         "name": "emp_id",
         "type": "\"integer\""
        },
        {
         "metadata": "{\"__CHAR_VARCHAR_TYPE_STRING\": \"varchar(10)\"}",
         "name": "emp_name",
         "type": "\"string\""
        },
        {
         "metadata": "{}",
         "name": "salary",
         "type": "\"integer\""
        },
        {
         "metadata": "{}",
         "name": "manager_id",
         "type": "\"integer\""
        }
       ],
       "type": "table"
      }
     },
     "output_type": "display_data"
    }
   ],
   "source": [
    "%sql\n",
    "--Create Statement\n",
    "create table emp(emp_id int,emp_name varchar(10),salary int ,manager_id int);\n",
    "\n",
    "insert into emp values(1,'Ankit',10000,4);\n",
    "insert into emp values(2,'Mohit',15000,5);\n",
    "insert into emp values(3,'Vikas',10000,4);\n",
    "insert into emp values(4,'Rohit',5000,2);\n",
    "insert into emp values(5,'Mudit',12000,6);\n",
    "insert into emp values(6,'Agam',12000,2);\n",
    "insert into emp values(7,'Sanjay',9000,2);\n",
    "insert into emp values(8,'Ashish',5000,2);\n",
    "\n",
    "select * from emp;\n",
    "\n",
    "\n",
    "\n",
    "\n"
   ]
  },
  {
   "cell_type": "code",
   "execution_count": 0,
   "metadata": {
    "application/vnd.databricks.v1+cell": {
     "cellMetadata": {
      "byteLimit": 2048000,
      "implicitDf": true,
      "rowLimit": 10000
     },
     "inputWidgets": {},
     "nuid": "e78c9c09-8ff6-4d1e-b99d-5f32098eb729",
     "showTitle": false,
     "tableResultSettingsMap": {},
     "title": ""
    }
   },
   "outputs": [
    {
     "output_type": "display_data",
     "data": {
      "text/html": [
       "<style scoped>\n",
       "  .table-result-container {\n",
       "    max-height: 300px;\n",
       "    overflow: auto;\n",
       "  }\n",
       "  table, th, td {\n",
       "    border: 1px solid black;\n",
       "    border-collapse: collapse;\n",
       "  }\n",
       "  th, td {\n",
       "    padding: 5px;\n",
       "  }\n",
       "  th {\n",
       "    text-align: left;\n",
       "  }\n",
       "</style><div class='table-result-container'><table class='table-result'><thead style='background-color: white'><tr><th>emp_id</th><th>emp_name</th><th>emp_sal</th><th>manager_id</th><th>manager_salary</th></tr></thead><tbody><tr><td>2</td><td>Mohit</td><td>15000</td><td>5</td><td>12000</td></tr><tr><td>1</td><td>Ankit</td><td>10000</td><td>4</td><td>5000</td></tr><tr><td>3</td><td>Vikas</td><td>10000</td><td>4</td><td>5000</td></tr></tbody></table></div>"
      ]
     },
     "metadata": {
      "application/vnd.databricks.v1+output": {
       "addedWidgets": {},
       "aggData": [],
       "aggError": "",
       "aggOverflow": false,
       "aggSchema": [],
       "aggSeriesLimitReached": false,
       "aggType": "",
       "arguments": {},
       "columnCustomDisplayInfos": {},
       "data": [
        [
         2,
         "Mohit",
         15000,
         5,
         12000
        ],
        [
         1,
         "Ankit",
         10000,
         4,
         5000
        ],
        [
         3,
         "Vikas",
         10000,
         4,
         5000
        ]
       ],
       "datasetInfos": [
        {
         "name": "_sqldf",
         "schema": {
          "fields": [
           {
            "metadata": {},
            "name": "emp_id",
            "nullable": true,
            "type": "integer"
           },
           {
            "metadata": {
             "__CHAR_VARCHAR_TYPE_STRING": "varchar(10)"
            },
            "name": "emp_name",
            "nullable": true,
            "type": "string"
           },
           {
            "metadata": {},
            "name": "emp_sal",
            "nullable": true,
            "type": "integer"
           },
           {
            "metadata": {},
            "name": "manager_id",
            "nullable": true,
            "type": "integer"
           },
           {
            "metadata": {},
            "name": "manager_salary",
            "nullable": true,
            "type": "integer"
           }
          ],
          "type": "struct"
         },
         "tableIdentifier": null,
         "typeStr": "pyspark.sql.connect.dataframe.DataFrame"
        }
       ],
       "dbfsResultPath": null,
       "isJsonSchema": true,
       "metadata": {
        "createTempViewForImplicitDf": true,
        "dataframeName": "_sqldf",
        "executionCount": 27
       },
       "overflow": false,
       "plotOptions": {
        "customPlotOptions": {},
        "displayType": "table",
        "pivotAggregation": null,
        "pivotColumns": null,
        "xColumns": null,
        "yColumns": null
       },
       "removedWidgets": [],
       "schema": [
        {
         "metadata": "{}",
         "name": "emp_id",
         "type": "\"integer\""
        },
        {
         "metadata": "{\"__CHAR_VARCHAR_TYPE_STRING\": \"varchar(10)\"}",
         "name": "emp_name",
         "type": "\"string\""
        },
        {
         "metadata": "{}",
         "name": "emp_sal",
         "type": "\"integer\""
        },
        {
         "metadata": "{}",
         "name": "manager_id",
         "type": "\"integer\""
        },
        {
         "metadata": "{}",
         "name": "manager_salary",
         "type": "\"integer\""
        }
       ],
       "type": "table"
      }
     },
     "output_type": "display_data"
    }
   ],
   "source": [
    "%sql\n",
    "--Join with self table to fetch manager details\n",
    "select\n",
    "e2.emp_id as emp_id,\n",
    "e2.emp_name as emp_name,\n",
    "e2.salary as emp_sal,\n",
    "e2.manager_id as manager_id,\n",
    "e1.salary as manager_salary\n",
    "from \n",
    "emp e1\n",
    "join\n",
    "emp e2\n",
    "on e1.emp_id=e2.manager_id\n",
    "where e2.salary>e1.salary"
   ]
  },
  {
   "cell_type": "code",
   "execution_count": 0,
   "metadata": {
    "application/vnd.databricks.v1+cell": {
     "cellMetadata": {
      "byteLimit": 2048000,
      "implicitDf": true,
      "rowLimit": 10000
     },
     "inputWidgets": {},
     "nuid": "31b637c1-e3d2-4bf4-a8e9-75df9b27c955",
     "showTitle": false,
     "tableResultSettingsMap": {},
     "title": ""
    }
   },
   "outputs": [
    {
     "output_type": "display_data",
     "data": {
      "text/html": [
       "<style scoped>\n",
       "  .table-result-container {\n",
       "    max-height: 300px;\n",
       "    overflow: auto;\n",
       "  }\n",
       "  table, th, td {\n",
       "    border: 1px solid black;\n",
       "    border-collapse: collapse;\n",
       "  }\n",
       "  th, td {\n",
       "    padding: 5px;\n",
       "  }\n",
       "  th {\n",
       "    text-align: left;\n",
       "  }\n",
       "</style><div class='table-result-container'><table class='table-result'><thead style='background-color: white'><tr><th>employee_id</th><th>employee_name</th><th>employee_salary</th><th>manager_id</th><th>manager_name</th><th>manager_salary</th></tr></thead><tbody><tr><td>8</td><td>Ashish</td><td>5000</td><td>2</td><td>Mohit</td><td>15000</td></tr><tr><td>7</td><td>Sanjay</td><td>9000</td><td>2</td><td>Mohit</td><td>15000</td></tr><tr><td>2</td><td>Mohit</td><td>15000</td><td>5</td><td>Mudit</td><td>12000</td></tr><tr><td>4</td><td>Rohit</td><td>5000</td><td>2</td><td>Mohit</td><td>15000</td></tr><tr><td>5</td><td>Mudit</td><td>12000</td><td>6</td><td>Agam</td><td>12000</td></tr><tr><td>1</td><td>Ankit</td><td>10000</td><td>4</td><td>Rohit</td><td>5000</td></tr><tr><td>3</td><td>Vikas</td><td>10000</td><td>4</td><td>Rohit</td><td>5000</td></tr><tr><td>6</td><td>Agam</td><td>12000</td><td>2</td><td>Mohit</td><td>15000</td></tr></tbody></table></div>"
      ]
     },
     "metadata": {
      "application/vnd.databricks.v1+output": {
       "addedWidgets": {},
       "aggData": [],
       "aggError": "",
       "aggOverflow": false,
       "aggSchema": [],
       "aggSeriesLimitReached": false,
       "aggType": "",
       "arguments": {},
       "columnCustomDisplayInfos": {},
       "data": [
        [
         8,
         "Ashish",
         5000,
         2,
         "Mohit",
         15000
        ],
        [
         7,
         "Sanjay",
         9000,
         2,
         "Mohit",
         15000
        ],
        [
         2,
         "Mohit",
         15000,
         5,
         "Mudit",
         12000
        ],
        [
         4,
         "Rohit",
         5000,
         2,
         "Mohit",
         15000
        ],
        [
         5,
         "Mudit",
         12000,
         6,
         "Agam",
         12000
        ],
        [
         1,
         "Ankit",
         10000,
         4,
         "Rohit",
         5000
        ],
        [
         3,
         "Vikas",
         10000,
         4,
         "Rohit",
         5000
        ],
        [
         6,
         "Agam",
         12000,
         2,
         "Mohit",
         15000
        ]
       ],
       "datasetInfos": [
        {
         "name": "_sqldf",
         "schema": {
          "fields": [
           {
            "metadata": {},
            "name": "employee_id",
            "nullable": true,
            "type": "integer"
           },
           {
            "metadata": {
             "__CHAR_VARCHAR_TYPE_STRING": "varchar(10)"
            },
            "name": "employee_name",
            "nullable": true,
            "type": "string"
           },
           {
            "metadata": {},
            "name": "employee_salary",
            "nullable": true,
            "type": "integer"
           },
           {
            "metadata": {},
            "name": "manager_id",
            "nullable": true,
            "type": "integer"
           },
           {
            "metadata": {
             "__CHAR_VARCHAR_TYPE_STRING": "varchar(10)"
            },
            "name": "manager_name",
            "nullable": true,
            "type": "string"
           },
           {
            "metadata": {},
            "name": "manager_salary",
            "nullable": true,
            "type": "integer"
           }
          ],
          "type": "struct"
         },
         "tableIdentifier": null,
         "typeStr": "pyspark.sql.connect.dataframe.DataFrame"
        }
       ],
       "dbfsResultPath": null,
       "isJsonSchema": true,
       "metadata": {
        "createTempViewForImplicitDf": true,
        "dataframeName": "_sqldf",
        "executionCount": 46
       },
       "overflow": false,
       "plotOptions": {
        "customPlotOptions": {},
        "displayType": "table",
        "pivotAggregation": null,
        "pivotColumns": null,
        "xColumns": null,
        "yColumns": null
       },
       "removedWidgets": [],
       "schema": [
        {
         "metadata": "{}",
         "name": "employee_id",
         "type": "\"integer\""
        },
        {
         "metadata": "{\"__CHAR_VARCHAR_TYPE_STRING\": \"varchar(10)\"}",
         "name": "employee_name",
         "type": "\"string\""
        },
        {
         "metadata": "{}",
         "name": "employee_salary",
         "type": "\"integer\""
        },
        {
         "metadata": "{}",
         "name": "manager_id",
         "type": "\"integer\""
        },
        {
         "metadata": "{\"__CHAR_VARCHAR_TYPE_STRING\": \"varchar(10)\"}",
         "name": "manager_name",
         "type": "\"string\""
        },
        {
         "metadata": "{}",
         "name": "manager_salary",
         "type": "\"integer\""
        }
       ],
       "type": "table"
      }
     },
     "output_type": "display_data"
    }
   ],
   "source": [
    "%sql\n",
    "--Step by Step Approach\n",
    "-- First start with inner join on the same tables\n",
    "select \n",
    "employee.emp_id as employee_id,\n",
    "employee.emp_name as employee_name,\n",
    "employee.salary as employee_salary,\n",
    "employee.manager_id as manager_id,\n",
    "manager.emp_name as manager_name,\n",
    "manager.salary as manager_salary\n",
    "from\n",
    "emp employee\n",
    "inner join\n",
    "emp manager on\n",
    "employee.manager_id = manager.emp_id\n"
   ]
  },
  {
   "cell_type": "code",
   "execution_count": 0,
   "metadata": {
    "application/vnd.databricks.v1+cell": {
     "cellMetadata": {
      "byteLimit": 2048000,
      "implicitDf": true,
      "rowLimit": 10000
     },
     "inputWidgets": {},
     "nuid": "a9487d59-0c45-4c82-9e76-46d92c1f59cc",
     "showTitle": false,
     "tableResultSettingsMap": {},
     "title": ""
    }
   },
   "outputs": [
    {
     "output_type": "display_data",
     "data": {
      "text/html": [
       "<style scoped>\n",
       "  .table-result-container {\n",
       "    max-height: 300px;\n",
       "    overflow: auto;\n",
       "  }\n",
       "  table, th, td {\n",
       "    border: 1px solid black;\n",
       "    border-collapse: collapse;\n",
       "  }\n",
       "  th, td {\n",
       "    padding: 5px;\n",
       "  }\n",
       "  th {\n",
       "    text-align: left;\n",
       "  }\n",
       "</style><div class='table-result-container'><table class='table-result'><thead style='background-color: white'><tr><th>employee_id</th><th>employee_name</th><th>employee_salary</th><th>manager_id</th><th>manager_name</th><th>manager_salary</th></tr></thead><tbody><tr><td>2</td><td>Mohit</td><td>15000</td><td>5</td><td>Mudit</td><td>12000</td></tr><tr><td>1</td><td>Ankit</td><td>10000</td><td>4</td><td>Rohit</td><td>5000</td></tr><tr><td>3</td><td>Vikas</td><td>10000</td><td>4</td><td>Rohit</td><td>5000</td></tr></tbody></table></div>"
      ]
     },
     "metadata": {
      "application/vnd.databricks.v1+output": {
       "addedWidgets": {},
       "aggData": [],
       "aggError": "",
       "aggOverflow": false,
       "aggSchema": [],
       "aggSeriesLimitReached": false,
       "aggType": "",
       "arguments": {},
       "columnCustomDisplayInfos": {},
       "data": [
        [
         2,
         "Mohit",
         15000,
         5,
         "Mudit",
         12000
        ],
        [
         1,
         "Ankit",
         10000,
         4,
         "Rohit",
         5000
        ],
        [
         3,
         "Vikas",
         10000,
         4,
         "Rohit",
         5000
        ]
       ],
       "datasetInfos": [
        {
         "name": "_sqldf",
         "schema": {
          "fields": [
           {
            "metadata": {},
            "name": "employee_id",
            "nullable": true,
            "type": "integer"
           },
           {
            "metadata": {
             "__CHAR_VARCHAR_TYPE_STRING": "varchar(10)"
            },
            "name": "employee_name",
            "nullable": true,
            "type": "string"
           },
           {
            "metadata": {},
            "name": "employee_salary",
            "nullable": true,
            "type": "integer"
           },
           {
            "metadata": {},
            "name": "manager_id",
            "nullable": true,
            "type": "integer"
           },
           {
            "metadata": {
             "__CHAR_VARCHAR_TYPE_STRING": "varchar(10)"
            },
            "name": "manager_name",
            "nullable": true,
            "type": "string"
           },
           {
            "metadata": {},
            "name": "manager_salary",
            "nullable": true,
            "type": "integer"
           }
          ],
          "type": "struct"
         },
         "tableIdentifier": null,
         "typeStr": "pyspark.sql.connect.dataframe.DataFrame"
        }
       ],
       "dbfsResultPath": null,
       "isJsonSchema": true,
       "metadata": {
        "createTempViewForImplicitDf": true,
        "dataframeName": "_sqldf",
        "executionCount": 50
       },
       "overflow": false,
       "plotOptions": {
        "customPlotOptions": {},
        "displayType": "table",
        "pivotAggregation": null,
        "pivotColumns": null,
        "xColumns": null,
        "yColumns": null
       },
       "removedWidgets": [],
       "schema": [
        {
         "metadata": "{}",
         "name": "employee_id",
         "type": "\"integer\""
        },
        {
         "metadata": "{\"__CHAR_VARCHAR_TYPE_STRING\": \"varchar(10)\"}",
         "name": "employee_name",
         "type": "\"string\""
        },
        {
         "metadata": "{}",
         "name": "employee_salary",
         "type": "\"integer\""
        },
        {
         "metadata": "{}",
         "name": "manager_id",
         "type": "\"integer\""
        },
        {
         "metadata": "{\"__CHAR_VARCHAR_TYPE_STRING\": \"varchar(10)\"}",
         "name": "manager_name",
         "type": "\"string\""
        },
        {
         "metadata": "{}",
         "name": "manager_salary",
         "type": "\"integer\""
        }
       ],
       "type": "table"
      }
     },
     "output_type": "display_data"
    }
   ],
   "source": [
    "%sql\n",
    "\n",
    "--Now put the filter where emp salary > manager salary\n",
    "select \n",
    "employee.emp_id as employee_id,\n",
    "employee.emp_name as employee_name,\n",
    "employee.salary as employee_salary,\n",
    "employee.manager_id as manager_id,\n",
    "manager.emp_name as manager_name,\n",
    "manager.salary as manager_salary\n",
    "from\n",
    "emp employee\n",
    "inner join\n",
    "emp manager on\n",
    "employee.manager_id = manager.emp_id\n",
    "and employee.salary > manager.salary;\n",
    "\n"
   ]
  },
  {
   "cell_type": "code",
   "execution_count": 0,
   "metadata": {
    "application/vnd.databricks.v1+cell": {
     "cellMetadata": {},
     "inputWidgets": {},
     "nuid": "9682c86f-a140-4755-8299-894ac80b4f42",
     "showTitle": false,
     "tableResultSettingsMap": {},
     "title": ""
    }
   },
   "outputs": [],
   "source": []
  },
  {
   "cell_type": "code",
   "execution_count": 0,
   "metadata": {
    "application/vnd.databricks.v1+cell": {
     "cellMetadata": {},
     "inputWidgets": {},
     "nuid": "77cdaa65-7998-4e1b-9799-951ebf5f7593",
     "showTitle": false,
     "tableResultSettingsMap": {},
     "title": ""
    }
   },
   "outputs": [],
   "source": []
  },
  {
   "cell_type": "code",
   "execution_count": 0,
   "metadata": {
    "application/vnd.databricks.v1+cell": {
     "cellMetadata": {},
     "inputWidgets": {},
     "nuid": "ae40a5c2-a973-4734-9312-c1a5e43339ed",
     "showTitle": false,
     "tableResultSettingsMap": {},
     "title": ""
    }
   },
   "outputs": [],
   "source": []
  },
  {
   "cell_type": "code",
   "execution_count": 0,
   "metadata": {
    "application/vnd.databricks.v1+cell": {
     "cellMetadata": {},
     "inputWidgets": {},
     "nuid": "ae87164c-be80-4b49-add4-7ae9496e9d64",
     "showTitle": false,
     "tableResultSettingsMap": {},
     "title": ""
    }
   },
   "outputs": [],
   "source": []
  },
  {
   "cell_type": "code",
   "execution_count": 0,
   "metadata": {
    "application/vnd.databricks.v1+cell": {
     "cellMetadata": {},
     "inputWidgets": {},
     "nuid": "dae8d7ab-0710-444c-b8ef-5c0d2c559816",
     "showTitle": false,
     "tableResultSettingsMap": {},
     "title": ""
    }
   },
   "outputs": [],
   "source": []
  },
  {
   "cell_type": "code",
   "execution_count": 0,
   "metadata": {
    "application/vnd.databricks.v1+cell": {
     "cellMetadata": {},
     "inputWidgets": {},
     "nuid": "c9f02cd3-0713-494d-a1c7-052dc5572366",
     "showTitle": false,
     "tableResultSettingsMap": {},
     "title": ""
    }
   },
   "outputs": [],
   "source": []
  },
  {
   "cell_type": "code",
   "execution_count": 0,
   "metadata": {
    "application/vnd.databricks.v1+cell": {
     "cellMetadata": {},
     "inputWidgets": {},
     "nuid": "4c85ad54-1eaf-4074-b084-761a8e0bdf32",
     "showTitle": false,
     "tableResultSettingsMap": {},
     "title": ""
    }
   },
   "outputs": [],
   "source": []
  }
 ],
 "metadata": {
  "application/vnd.databricks.v1+notebook": {
   "computePreferences": null,
   "dashboards": [],
   "environmentMetadata": {
    "base_environment": "",
    "environment_version": "3"
   },
   "inputWidgetPreferences": null,
   "language": "python",
   "notebookMetadata": {
    "mostRecentlyExecutedCommandWithImplicitDF": {
     "commandId": 8555229000670728,
     "dataframes": [
      "_sqldf"
     ]
    },
    "pythonIndentUnit": 4
   },
   "notebookName": "EmployeeManager",
   "widgets": {}
  },
  "language_info": {
   "name": "python"
  }
 },
 "nbformat": 4,
 "nbformat_minor": 0
}