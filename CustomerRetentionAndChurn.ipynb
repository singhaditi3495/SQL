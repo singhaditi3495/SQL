{
 "cells": [
  {
   "cell_type": "markdown",
   "metadata": {
    "application/vnd.databricks.v1+cell": {
     "cellMetadata": {},
     "inputWidgets": {},
     "nuid": "19766ddc-6c1f-44d0-adac-2be92e9af686",
     "showTitle": false,
     "tableResultSettingsMap": {},
     "title": ""
    }
   },
   "source": [
    "**Customer Retention**"
   ]
  },
  {
   "cell_type": "code",
   "execution_count": 0,
   "metadata": {
    "application/vnd.databricks.v1+cell": {
     "cellMetadata": {
      "byteLimit": 2048000,
      "rowLimit": 10000
     },
     "inputWidgets": {},
     "nuid": "d7c80a46-3a0a-44d0-b056-25ace62331a5",
     "showTitle": false,
     "tableResultSettingsMap": {},
     "title": ""
    }
   },
   "outputs": [
    {
     "output_type": "display_data",
     "data": {
      "text/html": [
       "<style scoped>\n",
       "  .table-result-container {\n",
       "    max-height: 300px;\n",
       "    overflow: auto;\n",
       "  }\n",
       "  table, th, td {\n",
       "    border: 1px solid black;\n",
       "    border-collapse: collapse;\n",
       "  }\n",
       "  th, td {\n",
       "    padding: 5px;\n",
       "  }\n",
       "  th {\n",
       "    text-align: left;\n",
       "  }\n",
       "</style><div class='table-result-container'><table class='table-result'><thead style='background-color: white'><tr><th>month_date</th><th>count_cust_id</th></tr></thead><tbody><tr><td>1</td><td>0</td></tr><tr><td>2</td><td>2</td></tr></tbody></table></div>"
      ]
     },
     "metadata": {
      "application/vnd.databricks.v1+output": {
       "addedWidgets": {},
       "aggData": [],
       "aggError": "",
       "aggOverflow": false,
       "aggSchema": [],
       "aggSeriesLimitReached": false,
       "aggType": "",
       "arguments": {},
       "columnCustomDisplayInfos": {},
       "data": [
        [
         1,
         0
        ],
        [
         2,
         2
        ]
       ],
       "datasetInfos": [
        {
         "name": "_sqldf",
         "schema": {
          "fields": [
           {
            "metadata": {},
            "name": "month_date",
            "nullable": true,
            "type": "integer"
           },
           {
            "metadata": {},
            "name": "count_cust_id",
            "nullable": false,
            "type": "long"
           }
          ],
          "type": "struct"
         },
         "tableIdentifier": null,
         "typeStr": "pyspark.sql.connect.dataframe.DataFrame"
        }
       ],
       "dbfsResultPath": null,
       "isJsonSchema": true,
       "metadata": {
        "createTempViewForImplicitDf": true,
        "dataframeName": "_sqldf",
        "executionCount": 2
       },
       "overflow": false,
       "plotOptions": {
        "customPlotOptions": {},
        "displayType": "table",
        "pivotAggregation": null,
        "pivotColumns": null,
        "xColumns": null,
        "yColumns": null
       },
       "removedWidgets": [],
       "schema": [
        {
         "metadata": "{}",
         "name": "month_date",
         "type": "\"integer\""
        },
        {
         "metadata": "{}",
         "name": "count_cust_id",
         "type": "\"long\""
        }
       ],
       "type": "table"
      }
     },
     "output_type": "display_data"
    }
   ],
   "source": [
    "Drop table if exists transactions;\n",
    "create table transactions(\n",
    "order_id int,\n",
    "cust_id int,\n",
    "order_date date,\n",
    "amount int\n",
    ");\n",
    "delete from transactions;\n",
    "insert into transactions values \n",
    "(1,1,'2020-01-15',150)\n",
    ",(2,1,'2020-02-10',150)\n",
    ",(3,2,'2020-01-16',150)\n",
    ",(4,2,'2020-02-25',150)\n",
    ",(5,3,'2020-01-10',150)\n",
    ",(6,3,'2020-02-20',150)\n",
    ",(7,4,'2020-01-20',150)\n",
    ",(8,5,'2020-02-20',150)\n",
    ";\n",
    "\n",
    "select * from transactions;\n",
    "\n",
    "select \n",
    "month(this_month.order_date) as month_date,\n",
    "count(distinct last_month.cust_id) as count_cust_id\n",
    "from transactions this_month\n",
    "left join\n",
    "transactions last_month\n",
    "on this_month.cust_id=last_month.cust_id\n",
    "and DATEDIFF(month,last_month.order_date,this_month.order_date)  = 1\n",
    "group by month(this_month.order_date)"
   ]
  },
  {
   "cell_type": "markdown",
   "metadata": {
    "application/vnd.databricks.v1+cell": {
     "cellMetadata": {},
     "inputWidgets": {},
     "nuid": "3205f3cb-a742-4712-bde0-74cc0266ba0b",
     "showTitle": false,
     "tableResultSettingsMap": {},
     "title": ""
    }
   },
   "source": [
    "**Customer Retention and Churn Analysis**"
   ]
  },
  {
   "cell_type": "code",
   "execution_count": 0,
   "metadata": {
    "application/vnd.databricks.v1+cell": {
     "cellMetadata": {
      "byteLimit": 2048000,
      "rowLimit": 10000
     },
     "inputWidgets": {},
     "nuid": "a5a0ab40-003f-472c-8892-e6e89304de0d",
     "showTitle": false,
     "tableResultSettingsMap": {},
     "title": ""
    }
   },
   "outputs": [
    {
     "output_type": "display_data",
     "data": {
      "text/html": [
       "<style scoped>\n",
       "  .table-result-container {\n",
       "    max-height: 300px;\n",
       "    overflow: auto;\n",
       "  }\n",
       "  table, th, td {\n",
       "    border: 1px solid black;\n",
       "    border-collapse: collapse;\n",
       "  }\n",
       "  th, td {\n",
       "    padding: 5px;\n",
       "  }\n",
       "  th {\n",
       "    text-align: left;\n",
       "  }\n",
       "</style><div class='table-result-container'><table class='table-result'><thead style='background-color: white'><tr><th>month_date</th><th>count_cust_id</th></tr></thead><tbody><tr><td>1</td><td>2</td></tr><tr><td>2</td><td>4</td></tr></tbody></table></div>"
      ]
     },
     "metadata": {
      "application/vnd.databricks.v1+output": {
       "addedWidgets": {},
       "aggData": [],
       "aggError": "",
       "aggOverflow": false,
       "aggSchema": [],
       "aggSeriesLimitReached": false,
       "aggType": "",
       "arguments": {},
       "columnCustomDisplayInfos": {},
       "data": [
        [
         1,
         2
        ],
        [
         2,
         4
        ]
       ],
       "datasetInfos": [
        {
         "name": "_sqldf",
         "schema": {
          "fields": [
           {
            "metadata": {},
            "name": "month_date",
            "nullable": true,
            "type": "integer"
           },
           {
            "metadata": {},
            "name": "count_cust_id",
            "nullable": false,
            "type": "long"
           }
          ],
          "type": "struct"
         },
         "tableIdentifier": null,
         "typeStr": "pyspark.sql.connect.dataframe.DataFrame"
        }
       ],
       "dbfsResultPath": null,
       "isJsonSchema": true,
       "metadata": {
        "createTempViewForImplicitDf": true,
        "dataframeName": "_sqldf",
        "executionCount": 5
       },
       "overflow": false,
       "plotOptions": {
        "customPlotOptions": {},
        "displayType": "table",
        "pivotAggregation": null,
        "pivotColumns": null,
        "xColumns": null,
        "yColumns": null
       },
       "removedWidgets": [],
       "schema": [
        {
         "metadata": "{}",
         "name": "month_date",
         "type": "\"integer\""
        },
        {
         "metadata": "{}",
         "name": "count_cust_id",
         "type": "\"long\""
        }
       ],
       "type": "table"
      }
     },
     "output_type": "display_data"
    }
   ],
   "source": [
    "--Customer Retention and Churn Analysis Part 2\n",
    "\n",
    "\n",
    "-- create table transactions(\n",
    "-- order_id int,\n",
    "-- cust_id int,\n",
    "-- order_date date,\n",
    "-- amount int\n",
    "-- );\n",
    "-- delete from transactions;\n",
    "-- insert into transactions values \n",
    "-- (1,1,'2020-01-15',150)\n",
    "-- ,(2,1,'2020-02-10',150)\n",
    "-- ,(3,2,'2020-01-16',150)\n",
    "-- ,(4,2,'2020-02-25',150)\n",
    "-- ,(5,3,'2020-01-10',150)\n",
    "-- ,(6,3,'2020-02-20',150)\n",
    "-- ,(7,4,'2020-01-20',150)\n",
    "-- ,(8,5,'2020-02-20',150)\n",
    "-- ;\n",
    "\n",
    "-- select * from transactions;\n",
    "\n",
    "\n",
    "select \n",
    "month(last_month.order_date) as month_date,\n",
    "count(distinct last_month.cust_id) as count_cust_id\n",
    "from transactions last_month\n",
    "left join\n",
    "transactions this_month\n",
    "on this_month.cust_id=last_month.cust_id\n",
    "and DATEDIFF(month,last_month.order_date,this_month.order_date) = 1\n",
    "where this_month.cust_id is null\n",
    "group by month(last_month.order_date)\n",
    "\n"
   ]
  },
  {
   "cell_type": "code",
   "execution_count": 0,
   "metadata": {
    "application/vnd.databricks.v1+cell": {
     "cellMetadata": {},
     "inputWidgets": {},
     "nuid": "50b73cc2-9e4e-4033-adf7-6a38baa5c9ba",
     "showTitle": false,
     "tableResultSettingsMap": {},
     "title": ""
    }
   },
   "outputs": [],
   "source": []
  }
 ],
 "metadata": {
  "application/vnd.databricks.v1+notebook": {
   "computePreferences": {
    "hardware": {
     "accelerator": null,
     "gpuPoolId": null,
     "memory": null
    }
   },
   "dashboards": [],
   "environmentMetadata": {
    "base_environment": "",
    "environment_version": "4"
   },
   "inputWidgetPreferences": null,
   "language": "sql",
   "notebookMetadata": {},
   "notebookName": "CustomerRetentionAndChurn",
   "widgets": {}
  },
  "language_info": {
   "name": "sql"
  }
 },
 "nbformat": 4,
 "nbformat_minor": 0
}