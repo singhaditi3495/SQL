{
 "cells": [
  {
   "cell_type": "markdown",
   "metadata": {
    "application/vnd.databricks.v1+cell": {
     "cellMetadata": {},
     "inputWidgets": {},
     "nuid": "09fb12d1-6a4f-4ea6-9717-003cb4ffa37f",
     "showTitle": false,
     "tableResultSettingsMap": {},
     "title": ""
    }
   },
   "source": [
    "# **TOURNAMENT WINNERS**"
   ]
  },
  {
   "cell_type": "code",
   "execution_count": 0,
   "metadata": {
    "application/vnd.databricks.v1+cell": {
     "cellMetadata": {},
     "inputWidgets": {},
     "nuid": "4f41a3db-02e5-4841-8317-c03d8a2e4670",
     "showTitle": false,
     "tableResultSettingsMap": {},
     "title": ""
    }
   },
   "outputs": [],
   "source": [
    "Write a SQL Query to find the winner in each group\n",
    "\n",
    "The Winner in each group is the player who scored the maximum total points within the group\n",
    "In the case of tie, the lowest player_id wins\n",
    "\n"
   ]
  },
  {
   "cell_type": "code",
   "execution_count": 0,
   "metadata": {
    "application/vnd.databricks.v1+cell": {
     "cellMetadata": {
      "byteLimit": 2048000,
      "rowLimit": 10000
     },
     "inputWidgets": {},
     "nuid": "7b212cd4-61b1-43b8-a6c6-fa94e0eafb0a",
     "showTitle": false,
     "tableResultSettingsMap": {},
     "title": ""
    }
   },
   "outputs": [
    {
     "output_type": "display_data",
     "data": {
      "text/html": [
       "<style scoped>\n",
       "  .table-result-container {\n",
       "    max-height: 300px;\n",
       "    overflow: auto;\n",
       "  }\n",
       "  table, th, td {\n",
       "    border: 1px solid black;\n",
       "    border-collapse: collapse;\n",
       "  }\n",
       "  th, td {\n",
       "    padding: 5px;\n",
       "  }\n",
       "  th {\n",
       "    text-align: left;\n",
       "  }\n",
       "</style><div class='table-result-container'><table class='table-result'><thead style='background-color: white'><tr><th>num_affected_rows</th><th>num_inserted_rows</th></tr></thead><tbody><tr><td>1</td><td>1</td></tr></tbody></table></div>"
      ]
     },
     "metadata": {
      "application/vnd.databricks.v1+output": {
       "addedWidgets": {},
       "aggData": [],
       "aggError": "",
       "aggOverflow": false,
       "aggSchema": [],
       "aggSeriesLimitReached": false,
       "aggType": "",
       "arguments": {},
       "columnCustomDisplayInfos": {},
       "data": [
        [
         1,
         1
        ]
       ],
       "datasetInfos": [
        {
         "name": "_sqldf",
         "schema": {
          "fields": [
           {
            "metadata": {},
            "name": "num_affected_rows",
            "nullable": true,
            "type": "long"
           },
           {
            "metadata": {},
            "name": "num_inserted_rows",
            "nullable": true,
            "type": "long"
           }
          ],
          "type": "struct"
         },
         "tableIdentifier": null,
         "typeStr": "pyspark.sql.connect.dataframe.DataFrame"
        }
       ],
       "dbfsResultPath": null,
       "isJsonSchema": true,
       "metadata": {
        "createTempViewForImplicitDf": true,
        "dataframeName": "_sqldf",
        "executionCount": 1
       },
       "overflow": false,
       "plotOptions": {
        "customPlotOptions": {},
        "displayType": "table",
        "pivotAggregation": null,
        "pivotColumns": null,
        "xColumns": null,
        "yColumns": null
       },
       "removedWidgets": [],
       "schema": [
        {
         "metadata": "{}",
         "name": "num_affected_rows",
         "type": "\"long\""
        },
        {
         "metadata": "{}",
         "name": "num_inserted_rows",
         "type": "\"long\""
        }
       ],
       "type": "table"
      }
     },
     "output_type": "display_data"
    }
   ],
   "source": [
    "Drop table if exists players;\n",
    "create table players\n",
    "(player_id int,\n",
    "group_id int);\n",
    "\n",
    "insert into players values (15,1);\n",
    "insert into players values (25,1);\n",
    "insert into players values (30,1);\n",
    "insert into players values (45,1);\n",
    "insert into players values (10,2);\n",
    "insert into players values (35,2);\n",
    "insert into players values (50,2);\n",
    "insert into players values (20,3);\n",
    "insert into players values (40,3);\n",
    "\n",
    "Drop table if exists matches;\n",
    "create table matches\n",
    "(\n",
    "match_id int,\n",
    "first_player int,\n",
    "second_player int,\n",
    "first_score int,\n",
    "second_score int);\n",
    "\n",
    "insert into matches values (1,15,45,3,0);\n",
    "insert into matches values (2,30,25,1,2);\n",
    "insert into matches values (3,30,15,2,0);\n",
    "insert into matches values (4,40,20,5,2);\n",
    "insert into matches values (5,35,50,1,1);"
   ]
  },
  {
   "cell_type": "code",
   "execution_count": 0,
   "metadata": {
    "application/vnd.databricks.v1+cell": {
     "cellMetadata": {
      "byteLimit": 2048000,
      "rowLimit": 10000
     },
     "inputWidgets": {},
     "nuid": "daf2d17a-696f-49a0-9182-6eb7c4d00d48",
     "showTitle": false,
     "tableResultSettingsMap": {},
     "title": ""
    }
   },
   "outputs": [
    {
     "output_type": "display_data",
     "data": {
      "text/html": [
       "<style scoped>\n",
       "  .table-result-container {\n",
       "    max-height: 300px;\n",
       "    overflow: auto;\n",
       "  }\n",
       "  table, th, td {\n",
       "    border: 1px solid black;\n",
       "    border-collapse: collapse;\n",
       "  }\n",
       "  th, td {\n",
       "    padding: 5px;\n",
       "  }\n",
       "  th {\n",
       "    text-align: left;\n",
       "  }\n",
       "</style><div class='table-result-container'><table class='table-result'><thead style='background-color: white'><tr><th>player_id</th><th>group_id</th></tr></thead><tbody><tr><td>10</td><td>2</td></tr><tr><td>15</td><td>1</td></tr><tr><td>45</td><td>1</td></tr><tr><td>35</td><td>2</td></tr><tr><td>50</td><td>2</td></tr><tr><td>25</td><td>1</td></tr><tr><td>30</td><td>1</td></tr><tr><td>40</td><td>3</td></tr><tr><td>20</td><td>3</td></tr></tbody></table></div>"
      ]
     },
     "metadata": {
      "application/vnd.databricks.v1+output": {
       "addedWidgets": {},
       "aggData": [],
       "aggError": "",
       "aggOverflow": false,
       "aggSchema": [],
       "aggSeriesLimitReached": false,
       "aggType": "",
       "arguments": {},
       "columnCustomDisplayInfos": {},
       "data": [
        [
         10,
         2
        ],
        [
         15,
         1
        ],
        [
         45,
         1
        ],
        [
         35,
         2
        ],
        [
         50,
         2
        ],
        [
         25,
         1
        ],
        [
         30,
         1
        ],
        [
         40,
         3
        ],
        [
         20,
         3
        ]
       ],
       "datasetInfos": [
        {
         "name": "_sqldf",
         "schema": {
          "fields": [
           {
            "metadata": {},
            "name": "player_id",
            "nullable": true,
            "type": "integer"
           },
           {
            "metadata": {},
            "name": "group_id",
            "nullable": true,
            "type": "integer"
           }
          ],
          "type": "struct"
         },
         "tableIdentifier": null,
         "typeStr": "pyspark.sql.connect.dataframe.DataFrame"
        }
       ],
       "dbfsResultPath": null,
       "isJsonSchema": true,
       "metadata": {
        "createTempViewForImplicitDf": true,
        "dataframeName": "_sqldf",
        "executionCount": 2
       },
       "overflow": false,
       "plotOptions": {
        "customPlotOptions": {},
        "displayType": "table",
        "pivotAggregation": null,
        "pivotColumns": null,
        "xColumns": null,
        "yColumns": null
       },
       "removedWidgets": [],
       "schema": [
        {
         "metadata": "{}",
         "name": "player_id",
         "type": "\"integer\""
        },
        {
         "metadata": "{}",
         "name": "group_id",
         "type": "\"integer\""
        }
       ],
       "type": "table"
      }
     },
     "output_type": "display_data"
    }
   ],
   "source": [
    "select * from players;"
   ]
  },
  {
   "cell_type": "code",
   "execution_count": 0,
   "metadata": {
    "application/vnd.databricks.v1+cell": {
     "cellMetadata": {
      "byteLimit": 2048000,
      "rowLimit": 10000
     },
     "inputWidgets": {},
     "nuid": "865e81b3-5b76-4255-818b-82f70f43b1fd",
     "showTitle": false,
     "tableResultSettingsMap": {},
     "title": ""
    }
   },
   "outputs": [
    {
     "output_type": "display_data",
     "data": {
      "text/html": [
       "<style scoped>\n",
       "  .table-result-container {\n",
       "    max-height: 300px;\n",
       "    overflow: auto;\n",
       "  }\n",
       "  table, th, td {\n",
       "    border: 1px solid black;\n",
       "    border-collapse: collapse;\n",
       "  }\n",
       "  th, td {\n",
       "    padding: 5px;\n",
       "  }\n",
       "  th {\n",
       "    text-align: left;\n",
       "  }\n",
       "</style><div class='table-result-container'><table class='table-result'><thead style='background-color: white'><tr><th>match_id</th><th>first_player</th><th>second_player</th><th>first_score</th><th>second_score</th></tr></thead><tbody><tr><td>4</td><td>40</td><td>20</td><td>5</td><td>2</td></tr><tr><td>2</td><td>30</td><td>25</td><td>1</td><td>2</td></tr><tr><td>5</td><td>35</td><td>50</td><td>1</td><td>1</td></tr><tr><td>3</td><td>30</td><td>15</td><td>2</td><td>0</td></tr><tr><td>1</td><td>15</td><td>45</td><td>3</td><td>0</td></tr></tbody></table></div>"
      ]
     },
     "metadata": {
      "application/vnd.databricks.v1+output": {
       "addedWidgets": {},
       "aggData": [],
       "aggError": "",
       "aggOverflow": false,
       "aggSchema": [],
       "aggSeriesLimitReached": false,
       "aggType": "",
       "arguments": {},
       "columnCustomDisplayInfos": {},
       "data": [
        [
         4,
         40,
         20,
         5,
         2
        ],
        [
         2,
         30,
         25,
         1,
         2
        ],
        [
         5,
         35,
         50,
         1,
         1
        ],
        [
         3,
         30,
         15,
         2,
         0
        ],
        [
         1,
         15,
         45,
         3,
         0
        ]
       ],
       "datasetInfos": [
        {
         "name": "_sqldf",
         "schema": {
          "fields": [
           {
            "metadata": {},
            "name": "match_id",
            "nullable": true,
            "type": "integer"
           },
           {
            "metadata": {},
            "name": "first_player",
            "nullable": true,
            "type": "integer"
           },
           {
            "metadata": {},
            "name": "second_player",
            "nullable": true,
            "type": "integer"
           },
           {
            "metadata": {},
            "name": "first_score",
            "nullable": true,
            "type": "integer"
           },
           {
            "metadata": {},
            "name": "second_score",
            "nullable": true,
            "type": "integer"
           }
          ],
          "type": "struct"
         },
         "tableIdentifier": null,
         "typeStr": "pyspark.sql.connect.dataframe.DataFrame"
        }
       ],
       "dbfsResultPath": null,
       "isJsonSchema": true,
       "metadata": {
        "createTempViewForImplicitDf": true,
        "dataframeName": "_sqldf",
        "executionCount": 3
       },
       "overflow": false,
       "plotOptions": {
        "customPlotOptions": {},
        "displayType": "table",
        "pivotAggregation": null,
        "pivotColumns": null,
        "xColumns": null,
        "yColumns": null
       },
       "removedWidgets": [],
       "schema": [
        {
         "metadata": "{}",
         "name": "match_id",
         "type": "\"integer\""
        },
        {
         "metadata": "{}",
         "name": "first_player",
         "type": "\"integer\""
        },
        {
         "metadata": "{}",
         "name": "second_player",
         "type": "\"integer\""
        },
        {
         "metadata": "{}",
         "name": "first_score",
         "type": "\"integer\""
        },
        {
         "metadata": "{}",
         "name": "second_score",
         "type": "\"integer\""
        }
       ],
       "type": "table"
      }
     },
     "output_type": "display_data"
    }
   ],
   "source": [
    "select * from matches;"
   ]
  },
  {
   "cell_type": "code",
   "execution_count": 0,
   "metadata": {
    "application/vnd.databricks.v1+cell": {
     "cellMetadata": {
      "byteLimit": 2048000,
      "rowLimit": 10000
     },
     "inputWidgets": {},
     "nuid": "b9c8721b-0ff4-434b-8974-22924b59393e",
     "showTitle": false,
     "tableResultSettingsMap": {},
     "title": ""
    }
   },
   "outputs": [
    {
     "output_type": "display_data",
     "data": {
      "text/html": [
       "<style scoped>\n",
       "  .table-result-container {\n",
       "    max-height: 300px;\n",
       "    overflow: auto;\n",
       "  }\n",
       "  table, th, td {\n",
       "    border: 1px solid black;\n",
       "    border-collapse: collapse;\n",
       "  }\n",
       "  th, td {\n",
       "    padding: 5px;\n",
       "  }\n",
       "  th {\n",
       "    text-align: left;\n",
       "  }\n",
       "</style><div class='table-result-container'><table class='table-result'><thead style='background-color: white'><tr><th>match_id</th><th>player</th><th>score</th></tr></thead><tbody><tr><td>4</td><td>40</td><td>5</td></tr><tr><td>2</td><td>30</td><td>1</td></tr><tr><td>5</td><td>35</td><td>1</td></tr><tr><td>3</td><td>30</td><td>2</td></tr><tr><td>1</td><td>15</td><td>3</td></tr><tr><td>4</td><td>20</td><td>2</td></tr><tr><td>2</td><td>25</td><td>2</td></tr><tr><td>5</td><td>50</td><td>1</td></tr><tr><td>3</td><td>15</td><td>0</td></tr><tr><td>1</td><td>45</td><td>0</td></tr></tbody></table></div>"
      ]
     },
     "metadata": {
      "application/vnd.databricks.v1+output": {
       "addedWidgets": {},
       "aggData": [],
       "aggError": "",
       "aggOverflow": false,
       "aggSchema": [],
       "aggSeriesLimitReached": false,
       "aggType": "",
       "arguments": {},
       "columnCustomDisplayInfos": {},
       "data": [
        [
         4,
         40,
         5
        ],
        [
         2,
         30,
         1
        ],
        [
         5,
         35,
         1
        ],
        [
         3,
         30,
         2
        ],
        [
         1,
         15,
         3
        ],
        [
         4,
         20,
         2
        ],
        [
         2,
         25,
         2
        ],
        [
         5,
         50,
         1
        ],
        [
         3,
         15,
         0
        ],
        [
         1,
         45,
         0
        ]
       ],
       "datasetInfos": [
        {
         "name": "_sqldf",
         "schema": {
          "fields": [
           {
            "metadata": {},
            "name": "match_id",
            "nullable": true,
            "type": "integer"
           },
           {
            "metadata": {},
            "name": "player",
            "nullable": true,
            "type": "integer"
           },
           {
            "metadata": {},
            "name": "score",
            "nullable": true,
            "type": "integer"
           }
          ],
          "type": "struct"
         },
         "tableIdentifier": null,
         "typeStr": "pyspark.sql.connect.dataframe.DataFrame"
        }
       ],
       "dbfsResultPath": null,
       "isJsonSchema": true,
       "metadata": {
        "createTempViewForImplicitDf": true,
        "dataframeName": "_sqldf",
        "executionCount": 6
       },
       "overflow": false,
       "plotOptions": {
        "customPlotOptions": {},
        "displayType": "table",
        "pivotAggregation": null,
        "pivotColumns": null,
        "xColumns": null,
        "yColumns": null
       },
       "removedWidgets": [],
       "schema": [
        {
         "metadata": "{}",
         "name": "match_id",
         "type": "\"integer\""
        },
        {
         "metadata": "{}",
         "name": "player",
         "type": "\"integer\""
        },
        {
         "metadata": "{}",
         "name": "score",
         "type": "\"integer\""
        }
       ],
       "type": "table"
      }
     },
     "output_type": "display_data"
    }
   ],
   "source": [
    "select\n",
    "match_id, first_player as player, first_score as score from matches\n",
    "union all\n",
    "select\n",
    "match_id, second_player as player, second_score as score from matches"
   ]
  },
  {
   "cell_type": "code",
   "execution_count": 0,
   "metadata": {
    "application/vnd.databricks.v1+cell": {
     "cellMetadata": {
      "byteLimit": 2048000,
      "rowLimit": 10000
     },
     "inputWidgets": {},
     "nuid": "54e371a8-0228-4a5a-af06-0ed8efce966f",
     "showTitle": false,
     "tableResultSettingsMap": {},
     "title": ""
    }
   },
   "outputs": [
    {
     "output_type": "display_data",
     "data": {
      "text/html": [
       "<style scoped>\n",
       "  .table-result-container {\n",
       "    max-height: 300px;\n",
       "    overflow: auto;\n",
       "  }\n",
       "  table, th, td {\n",
       "    border: 1px solid black;\n",
       "    border-collapse: collapse;\n",
       "  }\n",
       "  th, td {\n",
       "    padding: 5px;\n",
       "  }\n",
       "  th {\n",
       "    text-align: left;\n",
       "  }\n",
       "</style><div class='table-result-container'><table class='table-result'><thead style='background-color: white'><tr><th>player</th><th>player_score</th></tr></thead><tbody><tr><td>40</td><td>5</td></tr><tr><td>30</td><td>3</td></tr><tr><td>35</td><td>1</td></tr><tr><td>15</td><td>3</td></tr><tr><td>20</td><td>2</td></tr><tr><td>25</td><td>2</td></tr><tr><td>50</td><td>1</td></tr><tr><td>45</td><td>0</td></tr></tbody></table></div>"
      ]
     },
     "metadata": {
      "application/vnd.databricks.v1+output": {
       "addedWidgets": {},
       "aggData": [],
       "aggError": "",
       "aggOverflow": false,
       "aggSchema": [],
       "aggSeriesLimitReached": false,
       "aggType": "",
       "arguments": {},
       "columnCustomDisplayInfos": {},
       "data": [
        [
         40,
         5
        ],
        [
         30,
         3
        ],
        [
         35,
         1
        ],
        [
         15,
         3
        ],
        [
         20,
         2
        ],
        [
         25,
         2
        ],
        [
         50,
         1
        ],
        [
         45,
         0
        ]
       ],
       "datasetInfos": [
        {
         "name": "_sqldf",
         "schema": {
          "fields": [
           {
            "metadata": {},
            "name": "player",
            "nullable": true,
            "type": "integer"
           },
           {
            "metadata": {},
            "name": "player_score",
            "nullable": true,
            "type": "long"
           }
          ],
          "type": "struct"
         },
         "tableIdentifier": null,
         "typeStr": "pyspark.sql.connect.dataframe.DataFrame"
        }
       ],
       "dbfsResultPath": null,
       "isJsonSchema": true,
       "metadata": {
        "createTempViewForImplicitDf": true,
        "dataframeName": "_sqldf",
        "executionCount": 13
       },
       "overflow": false,
       "plotOptions": {
        "customPlotOptions": {},
        "displayType": "table",
        "pivotAggregation": null,
        "pivotColumns": null,
        "xColumns": null,
        "yColumns": null
       },
       "removedWidgets": [],
       "schema": [
        {
         "metadata": "{}",
         "name": "player",
         "type": "\"integer\""
        },
        {
         "metadata": "{}",
         "name": "player_score",
         "type": "\"long\""
        }
       ],
       "type": "table"
      }
     },
     "output_type": "display_data"
    }
   ],
   "source": [
    "\n",
    "select \n",
    "player,\n",
    "sum(score) as player_score\n",
    "from\n",
    "(\n",
    "select\n",
    "match_id, first_player as player, first_score as score from matches\n",
    "union all\n",
    "select\n",
    "match_id, second_player as player, second_score as score from matches\n",
    ")\n",
    "group by player                                  "
   ]
  },
  {
   "cell_type": "code",
   "execution_count": 0,
   "metadata": {
    "application/vnd.databricks.v1+cell": {
     "cellMetadata": {
      "byteLimit": 2048000,
      "rowLimit": 10000
     },
     "inputWidgets": {},
     "nuid": "37daa5e8-8387-4787-bbe0-772b92b44ecb",
     "showTitle": false,
     "tableResultSettingsMap": {},
     "title": ""
    }
   },
   "outputs": [
    {
     "output_type": "display_data",
     "data": {
      "text/html": [
       "<style scoped>\n",
       "  .table-result-container {\n",
       "    max-height: 300px;\n",
       "    overflow: auto;\n",
       "  }\n",
       "  table, th, td {\n",
       "    border: 1px solid black;\n",
       "    border-collapse: collapse;\n",
       "  }\n",
       "  th, td {\n",
       "    padding: 5px;\n",
       "  }\n",
       "  th {\n",
       "    text-align: left;\n",
       "  }\n",
       "</style><div class='table-result-container'><table class='table-result'><thead style='background-color: white'><tr><th>player</th><th>player_score</th><th>player_id</th><th>group_id</th></tr></thead><tbody><tr><td>40</td><td>5</td><td>40</td><td>3</td></tr><tr><td>30</td><td>3</td><td>30</td><td>1</td></tr><tr><td>35</td><td>1</td><td>35</td><td>2</td></tr><tr><td>15</td><td>3</td><td>15</td><td>1</td></tr><tr><td>20</td><td>2</td><td>20</td><td>3</td></tr><tr><td>25</td><td>2</td><td>25</td><td>1</td></tr><tr><td>50</td><td>1</td><td>50</td><td>2</td></tr><tr><td>45</td><td>0</td><td>45</td><td>1</td></tr></tbody></table></div>"
      ]
     },
     "metadata": {
      "application/vnd.databricks.v1+output": {
       "addedWidgets": {},
       "aggData": [],
       "aggError": "",
       "aggOverflow": false,
       "aggSchema": [],
       "aggSeriesLimitReached": false,
       "aggType": "",
       "arguments": {},
       "columnCustomDisplayInfos": {},
       "data": [
        [
         40,
         5,
         40,
         3
        ],
        [
         30,
         3,
         30,
         1
        ],
        [
         35,
         1,
         35,
         2
        ],
        [
         15,
         3,
         15,
         1
        ],
        [
         20,
         2,
         20,
         3
        ],
        [
         25,
         2,
         25,
         1
        ],
        [
         50,
         1,
         50,
         2
        ],
        [
         45,
         0,
         45,
         1
        ]
       ],
       "datasetInfos": [
        {
         "name": "_sqldf",
         "schema": {
          "fields": [
           {
            "metadata": {},
            "name": "player",
            "nullable": true,
            "type": "integer"
           },
           {
            "metadata": {},
            "name": "player_score",
            "nullable": true,
            "type": "long"
           },
           {
            "metadata": {},
            "name": "player_id",
            "nullable": true,
            "type": "integer"
           },
           {
            "metadata": {},
            "name": "group_id",
            "nullable": true,
            "type": "integer"
           }
          ],
          "type": "struct"
         },
         "tableIdentifier": null,
         "typeStr": "pyspark.sql.connect.dataframe.DataFrame"
        }
       ],
       "dbfsResultPath": null,
       "isJsonSchema": true,
       "metadata": {
        "createTempViewForImplicitDf": true,
        "dataframeName": "_sqldf",
        "executionCount": 38
       },
       "overflow": false,
       "plotOptions": {
        "customPlotOptions": {},
        "displayType": "table",
        "pivotAggregation": null,
        "pivotColumns": null,
        "xColumns": null,
        "yColumns": null
       },
       "removedWidgets": [],
       "schema": [
        {
         "metadata": "{}",
         "name": "player",
         "type": "\"integer\""
        },
        {
         "metadata": "{}",
         "name": "player_score",
         "type": "\"long\""
        },
        {
         "metadata": "{}",
         "name": "player_id",
         "type": "\"integer\""
        },
        {
         "metadata": "{}",
         "name": "group_id",
         "type": "\"integer\""
        }
       ],
       "type": "table"
      }
     },
     "output_type": "display_data"
    }
   ],
   "source": [
    "with cte as\n",
    "(                                                                                                    \n",
    "select \n",
    "player,\n",
    "sum(score) as player_score\n",
    "from\n",
    "(\n",
    "select\n",
    "match_id, first_player as player, first_score as score from matches\n",
    "union all\n",
    "select\n",
    "match_id, second_player as player, second_score as score from matches\n",
    ")\n",
    "group by player )\n",
    "\n",
    "\n",
    "select\n",
    "*\n",
    "from cte  \n",
    "join players on \n",
    "cte.player = players.player_id\n",
    "\n",
    "\n"
   ]
  },
  {
   "cell_type": "code",
   "execution_count": 0,
   "metadata": {
    "application/vnd.databricks.v1+cell": {
     "cellMetadata": {
      "byteLimit": 2048000,
      "rowLimit": 10000
     },
     "inputWidgets": {},
     "nuid": "8e52756d-e73b-4c1a-a0dc-365c51a31bcd",
     "showTitle": false,
     "tableResultSettingsMap": {},
     "title": ""
    }
   },
   "outputs": [
    {
     "output_type": "display_data",
     "data": {
      "text/html": [
       "<style scoped>\n",
       "  .table-result-container {\n",
       "    max-height: 300px;\n",
       "    overflow: auto;\n",
       "  }\n",
       "  table, th, td {\n",
       "    border: 1px solid black;\n",
       "    border-collapse: collapse;\n",
       "  }\n",
       "  th, td {\n",
       "    padding: 5px;\n",
       "  }\n",
       "  th {\n",
       "    text-align: left;\n",
       "  }\n",
       "</style><div class='table-result-container'><table class='table-result'><thead style='background-color: white'><tr><th>player</th><th>player_score</th><th>player_id</th><th>group_id</th><th>rn</th></tr></thead><tbody><tr><td>15</td><td>3</td><td>15</td><td>1</td><td>1</td></tr><tr><td>30</td><td>3</td><td>30</td><td>1</td><td>2</td></tr><tr><td>25</td><td>2</td><td>25</td><td>1</td><td>3</td></tr><tr><td>45</td><td>0</td><td>45</td><td>1</td><td>4</td></tr><tr><td>35</td><td>1</td><td>35</td><td>2</td><td>1</td></tr><tr><td>50</td><td>1</td><td>50</td><td>2</td><td>2</td></tr><tr><td>40</td><td>5</td><td>40</td><td>3</td><td>1</td></tr><tr><td>20</td><td>2</td><td>20</td><td>3</td><td>2</td></tr></tbody></table></div>"
      ]
     },
     "metadata": {
      "application/vnd.databricks.v1+output": {
       "addedWidgets": {},
       "aggData": [],
       "aggError": "",
       "aggOverflow": false,
       "aggSchema": [],
       "aggSeriesLimitReached": false,
       "aggType": "",
       "arguments": {},
       "columnCustomDisplayInfos": {},
       "data": [
        [
         15,
         3,
         15,
         1,
         1
        ],
        [
         30,
         3,
         30,
         1,
         2
        ],
        [
         25,
         2,
         25,
         1,
         3
        ],
        [
         45,
         0,
         45,
         1,
         4
        ],
        [
         35,
         1,
         35,
         2,
         1
        ],
        [
         50,
         1,
         50,
         2,
         2
        ],
        [
         40,
         5,
         40,
         3,
         1
        ],
        [
         20,
         2,
         20,
         3,
         2
        ]
       ],
       "datasetInfos": [
        {
         "name": "_sqldf",
         "schema": {
          "fields": [
           {
            "metadata": {},
            "name": "player",
            "nullable": true,
            "type": "integer"
           },
           {
            "metadata": {},
            "name": "player_score",
            "nullable": true,
            "type": "long"
           },
           {
            "metadata": {},
            "name": "player_id",
            "nullable": true,
            "type": "integer"
           },
           {
            "metadata": {},
            "name": "group_id",
            "nullable": true,
            "type": "integer"
           },
           {
            "metadata": {},
            "name": "rn",
            "nullable": false,
            "type": "integer"
           }
          ],
          "type": "struct"
         },
         "tableIdentifier": null,
         "typeStr": "pyspark.sql.connect.dataframe.DataFrame"
        }
       ],
       "dbfsResultPath": null,
       "isJsonSchema": true,
       "metadata": {
        "createTempViewForImplicitDf": true,
        "dataframeName": "_sqldf",
        "executionCount": 39
       },
       "overflow": false,
       "plotOptions": {
        "customPlotOptions": {},
        "displayType": "table",
        "pivotAggregation": null,
        "pivotColumns": null,
        "xColumns": null,
        "yColumns": null
       },
       "removedWidgets": [],
       "schema": [
        {
         "metadata": "{}",
         "name": "player",
         "type": "\"integer\""
        },
        {
         "metadata": "{}",
         "name": "player_score",
         "type": "\"long\""
        },
        {
         "metadata": "{}",
         "name": "player_id",
         "type": "\"integer\""
        },
        {
         "metadata": "{}",
         "name": "group_id",
         "type": "\"integer\""
        },
        {
         "metadata": "{}",
         "name": "rn",
         "type": "\"integer\""
        }
       ],
       "type": "table"
      }
     },
     "output_type": "display_data"
    }
   ],
   "source": [
    "with cte as\n",
    "(                                                                                                    \n",
    "select \n",
    "player,\n",
    "sum(score) as player_score\n",
    "from\n",
    "(\n",
    "select\n",
    "match_id, first_player as player, first_score as score from matches\n",
    "union all\n",
    "select\n",
    "match_id, second_player as player, second_score as score from matches\n",
    ")\n",
    "group by player ),\n",
    "\n",
    "final_score as\n",
    "(\n",
    "select\n",
    "*\n",
    "from cte  \n",
    "join players on \n",
    "cte.player = players.player_id\n",
    ")\n",
    "\n",
    "\n",
    "select\n",
    "*,\n",
    "rank() over (partition by group_id order by player_score desc, player_id) as rn\n",
    "from \n",
    "final_score\n"
   ]
  },
  {
   "cell_type": "code",
   "execution_count": 0,
   "metadata": {
    "application/vnd.databricks.v1+cell": {
     "cellMetadata": {
      "byteLimit": 2048000,
      "rowLimit": 10000
     },
     "inputWidgets": {},
     "nuid": "7b530312-1306-4842-bfde-ea4d69cd0b1b",
     "showTitle": false,
     "tableResultSettingsMap": {},
     "title": ""
    }
   },
   "outputs": [
    {
     "output_type": "display_data",
     "data": {
      "text/html": [
       "<style scoped>\n",
       "  .table-result-container {\n",
       "    max-height: 300px;\n",
       "    overflow: auto;\n",
       "  }\n",
       "  table, th, td {\n",
       "    border: 1px solid black;\n",
       "    border-collapse: collapse;\n",
       "  }\n",
       "  th, td {\n",
       "    padding: 5px;\n",
       "  }\n",
       "  th {\n",
       "    text-align: left;\n",
       "  }\n",
       "</style><div class='table-result-container'><table class='table-result'><thead style='background-color: white'><tr><th>group_id</th><th>player_id</th><th>player_score</th></tr></thead><tbody><tr><td>1</td><td>15</td><td>3</td></tr><tr><td>2</td><td>35</td><td>1</td></tr><tr><td>3</td><td>40</td><td>5</td></tr></tbody></table></div>"
      ]
     },
     "metadata": {
      "application/vnd.databricks.v1+output": {
       "addedWidgets": {},
       "aggData": [],
       "aggError": "",
       "aggOverflow": false,
       "aggSchema": [],
       "aggSeriesLimitReached": false,
       "aggType": "",
       "arguments": {},
       "columnCustomDisplayInfos": {},
       "data": [
        [
         1,
         15,
         3
        ],
        [
         2,
         35,
         1
        ],
        [
         3,
         40,
         5
        ]
       ],
       "datasetInfos": [
        {
         "name": "_sqldf",
         "schema": {
          "fields": [
           {
            "metadata": {},
            "name": "group_id",
            "nullable": true,
            "type": "integer"
           },
           {
            "metadata": {},
            "name": "player_id",
            "nullable": true,
            "type": "integer"
           },
           {
            "metadata": {},
            "name": "player_score",
            "nullable": true,
            "type": "long"
           }
          ],
          "type": "struct"
         },
         "tableIdentifier": null,
         "typeStr": "pyspark.sql.connect.dataframe.DataFrame"
        }
       ],
       "dbfsResultPath": null,
       "isJsonSchema": true,
       "metadata": {
        "createTempViewForImplicitDf": true,
        "dataframeName": "_sqldf",
        "executionCount": 40
       },
       "overflow": false,
       "plotOptions": {
        "customPlotOptions": {},
        "displayType": "table",
        "pivotAggregation": null,
        "pivotColumns": null,
        "xColumns": null,
        "yColumns": null
       },
       "removedWidgets": [],
       "schema": [
        {
         "metadata": "{}",
         "name": "group_id",
         "type": "\"integer\""
        },
        {
         "metadata": "{}",
         "name": "player_id",
         "type": "\"integer\""
        },
        {
         "metadata": "{}",
         "name": "player_score",
         "type": "\"long\""
        }
       ],
       "type": "table"
      }
     },
     "output_type": "display_data"
    }
   ],
   "source": [
    "with cte as\n",
    "(                                                                                                    \n",
    "select \n",
    "player,\n",
    "sum(score) as player_score\n",
    "from\n",
    "(\n",
    "select\n",
    "match_id, first_player as player, first_score as score from matches\n",
    "union all\n",
    "select\n",
    "match_id, second_player as player, second_score as score from matches\n",
    ")\n",
    "group by player ),\n",
    "\n",
    "final_score as\n",
    "(\n",
    "select\n",
    "*\n",
    "from cte  \n",
    "join players on \n",
    "cte.player = players.player_id\n",
    ")\n",
    "\n",
    "select \n",
    "group_id,\n",
    "player_id,\n",
    "player_score\n",
    "from\n",
    "(\n",
    "select\n",
    "*,\n",
    "rank() over (partition by group_id order by player_score desc, player_id) as rn\n",
    "from \n",
    "final_score\n",
    ")\n",
    "where rn=1"
   ]
  },
  {
   "cell_type": "code",
   "execution_count": 0,
   "metadata": {
    "application/vnd.databricks.v1+cell": {
     "cellMetadata": {},
     "inputWidgets": {},
     "nuid": "4fac2468-7cb3-4c03-8312-6998dff6dd9e",
     "showTitle": false,
     "tableResultSettingsMap": {},
     "title": ""
    }
   },
   "outputs": [],
   "source": []
  }
 ],
 "metadata": {
  "application/vnd.databricks.v1+notebook": {
   "computePreferences": {
    "hardware": {
     "accelerator": null,
     "gpuPoolId": null,
     "memory": null
    }
   },
   "dashboards": [],
   "environmentMetadata": {
    "base_environment": "",
    "environment_version": "4"
   },
   "inputWidgetPreferences": null,
   "language": "sql",
   "notebookMetadata": {},
   "notebookName": "TournamentWinners",
   "widgets": {}
  },
  "language_info": {
   "name": "sql"
  }
 },
 "nbformat": 4,
 "nbformat_minor": 0
}