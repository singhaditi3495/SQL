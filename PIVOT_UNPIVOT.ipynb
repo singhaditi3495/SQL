{
 "cells": [
  {
   "cell_type": "code",
   "execution_count": 0,
   "metadata": {
    "application/vnd.databricks.v1+cell": {
     "cellMetadata": {
      "byteLimit": 2048000,
      "implicitDf": true,
      "rowLimit": 10000
     },
     "inputWidgets": {},
     "nuid": "48190348-e345-4ace-bc52-c8d6c796f5c7",
     "showTitle": false,
     "tableResultSettingsMap": {},
     "title": ""
    }
   },
   "outputs": [
    {
     "output_type": "display_data",
     "data": {
      "text/html": [
       "<style scoped>\n",
       "  .table-result-container {\n",
       "    max-height: 300px;\n",
       "    overflow: auto;\n",
       "  }\n",
       "  table, th, td {\n",
       "    border: 1px solid black;\n",
       "    border-collapse: collapse;\n",
       "  }\n",
       "  th, td {\n",
       "    padding: 5px;\n",
       "  }\n",
       "  th {\n",
       "    text-align: left;\n",
       "  }\n",
       "</style><div class='table-result-container'><table class='table-result'><thead style='background-color: white'><tr><th>emp_id</th><th>salary_component_type</th><th>val</th></tr></thead><tbody><tr><td>1</td><td>salary</td><td>10000</td></tr><tr><td>1</td><td>bonus</td><td>5000</td></tr><tr><td>1</td><td>hike_percent</td><td>10</td></tr><tr><td>2</td><td>salary</td><td>15000</td></tr><tr><td>2</td><td>bonus</td><td>7000</td></tr><tr><td>2</td><td>hike_percent</td><td>8</td></tr><tr><td>3</td><td>salary</td><td>12000</td></tr><tr><td>3</td><td>bonus</td><td>6000</td></tr><tr><td>3</td><td>hike_percent</td><td>7</td></tr></tbody></table></div>"
      ]
     },
     "metadata": {
      "application/vnd.databricks.v1+output": {
       "addedWidgets": {},
       "aggData": [],
       "aggError": "",
       "aggOverflow": false,
       "aggSchema": [],
       "aggSeriesLimitReached": false,
       "aggType": "",
       "arguments": {},
       "columnCustomDisplayInfos": {},
       "data": [
        [
         1,
         "salary",
         10000
        ],
        [
         1,
         "bonus",
         5000
        ],
        [
         1,
         "hike_percent",
         10
        ],
        [
         2,
         "salary",
         15000
        ],
        [
         2,
         "bonus",
         7000
        ],
        [
         2,
         "hike_percent",
         8
        ],
        [
         3,
         "salary",
         12000
        ],
        [
         3,
         "bonus",
         6000
        ],
        [
         3,
         "hike_percent",
         7
        ]
       ],
       "datasetInfos": [
        {
         "name": "_sqldf",
         "schema": {
          "fields": [
           {
            "metadata": {},
            "name": "emp_id",
            "nullable": true,
            "type": "integer"
           },
           {
            "metadata": {
             "__CHAR_VARCHAR_TYPE_STRING": "varchar(20)"
            },
            "name": "salary_component_type",
            "nullable": true,
            "type": "string"
           },
           {
            "metadata": {},
            "name": "val",
            "nullable": true,
            "type": "integer"
           }
          ],
          "type": "struct"
         },
         "tableIdentifier": null,
         "typeStr": "pyspark.sql.connect.dataframe.DataFrame"
        }
       ],
       "dbfsResultPath": null,
       "isJsonSchema": true,
       "metadata": {
        "createTempViewForImplicitDf": true,
        "dataframeName": "_sqldf",
        "executionCount": 2
       },
       "overflow": false,
       "plotOptions": {
        "customPlotOptions": {},
        "displayType": "table",
        "pivotAggregation": null,
        "pivotColumns": null,
        "xColumns": null,
        "yColumns": null
       },
       "removedWidgets": [],
       "schema": [
        {
         "metadata": "{}",
         "name": "emp_id",
         "type": "\"integer\""
        },
        {
         "metadata": "{\"__CHAR_VARCHAR_TYPE_STRING\": \"varchar(20)\"}",
         "name": "salary_component_type",
         "type": "\"string\""
        },
        {
         "metadata": "{}",
         "name": "val",
         "type": "\"integer\""
        }
       ],
       "type": "table"
      }
     },
     "output_type": "display_data"
    }
   ],
   "source": [
    "%sql\n",
    "create table emp_compensation (\n",
    "emp_id int,\n",
    "salary_component_type varchar(20),\n",
    "val int\n",
    ");\n",
    "\n",
    "insert into emp_compensation\n",
    "values (1,'salary',10000),(1,'bonus',5000),(1,'hike_percent',10)\n",
    ", (2,'salary',15000),(2,'bonus',7000),(2,'hike_percent',8)\n",
    ", (3,'salary',12000),(3,'bonus',6000),(3,'hike_percent',7);\n",
    "\n",
    "select * from emp_compensation;"
   ]
  },
  {
   "cell_type": "code",
   "execution_count": 0,
   "metadata": {
    "application/vnd.databricks.v1+cell": {
     "cellMetadata": {
      "byteLimit": 2048000,
      "implicitDf": true,
      "rowLimit": 10000
     },
     "inputWidgets": {},
     "nuid": "dd175c8e-0112-4fdd-a78d-fcc886472a3d",
     "showTitle": true,
     "tableResultSettingsMap": {},
     "title": "PIVOT THE TABLE"
    }
   },
   "outputs": [
    {
     "output_type": "display_data",
     "data": {
      "text/html": [
       "<style scoped>\n",
       "  .table-result-container {\n",
       "    max-height: 300px;\n",
       "    overflow: auto;\n",
       "  }\n",
       "  table, th, td {\n",
       "    border: 1px solid black;\n",
       "    border-collapse: collapse;\n",
       "  }\n",
       "  th, td {\n",
       "    padding: 5px;\n",
       "  }\n",
       "  th {\n",
       "    text-align: left;\n",
       "  }\n",
       "</style><div class='table-result-container'><table class='table-result'><thead style='background-color: white'><tr><th>emp_id</th><th>salary</th><th>bonus</th><th>hike_percent</th></tr></thead><tbody><tr><td>1</td><td>10000</td><td>5000</td><td>10</td></tr><tr><td>2</td><td>15000</td><td>7000</td><td>8</td></tr><tr><td>3</td><td>12000</td><td>6000</td><td>7</td></tr></tbody></table></div>"
      ]
     },
     "metadata": {
      "application/vnd.databricks.v1+output": {
       "addedWidgets": {},
       "aggData": [],
       "aggError": "",
       "aggOverflow": false,
       "aggSchema": [],
       "aggSeriesLimitReached": false,
       "aggType": "",
       "arguments": {},
       "columnCustomDisplayInfos": {},
       "data": [
        [
         1,
         10000,
         5000,
         10
        ],
        [
         2,
         15000,
         7000,
         8
        ],
        [
         3,
         12000,
         6000,
         7
        ]
       ],
       "datasetInfos": [
        {
         "name": "_sqldf",
         "schema": {
          "fields": [
           {
            "metadata": {},
            "name": "emp_id",
            "nullable": true,
            "type": "integer"
           },
           {
            "metadata": {},
            "name": "salary",
            "nullable": true,
            "type": "long"
           },
           {
            "metadata": {},
            "name": "bonus",
            "nullable": true,
            "type": "long"
           },
           {
            "metadata": {},
            "name": "hike_percent",
            "nullable": true,
            "type": "long"
           }
          ],
          "type": "struct"
         },
         "tableIdentifier": null,
         "typeStr": "pyspark.sql.connect.dataframe.DataFrame"
        }
       ],
       "dbfsResultPath": null,
       "isJsonSchema": true,
       "metadata": {
        "createTempViewForImplicitDf": true,
        "dataframeName": "_sqldf",
        "executionCount": 15
       },
       "overflow": false,
       "plotOptions": {
        "customPlotOptions": {},
        "displayType": "table",
        "pivotAggregation": null,
        "pivotColumns": null,
        "xColumns": null,
        "yColumns": null
       },
       "removedWidgets": [],
       "schema": [
        {
         "metadata": "{}",
         "name": "emp_id",
         "type": "\"integer\""
        },
        {
         "metadata": "{}",
         "name": "salary",
         "type": "\"long\""
        },
        {
         "metadata": "{}",
         "name": "bonus",
         "type": "\"long\""
        },
        {
         "metadata": "{}",
         "name": "hike_percent",
         "type": "\"long\""
        }
       ],
       "type": "table"
      }
     },
     "output_type": "display_data"
    }
   ],
   "source": [
    "%sql\n",
    "select emp_id,\n",
    "sum(case when salary_component_type = 'salary' then val else 0 end ) as salary,\n",
    "sum(case when salary_component_type = 'bonus' then val else 0 end ) as bonus,\n",
    "sum(case when salary_component_type = 'hike_percent' then val else 0 end ) as hike_percent \n",
    "from emp_compensation\n",
    "group by emp_id"
   ]
  },
  {
   "cell_type": "code",
   "execution_count": 0,
   "metadata": {
    "application/vnd.databricks.v1+cell": {
     "cellMetadata": {
      "byteLimit": 2048000,
      "implicitDf": true,
      "rowLimit": 10000
     },
     "inputWidgets": {},
     "nuid": "8868ce6f-f0b8-469e-a052-385f1ec6bad7",
     "showTitle": true,
     "tableResultSettingsMap": {},
     "title": "UNPIVOT THE TABLE"
    }
   },
   "outputs": [
    {
     "output_type": "display_data",
     "data": {
      "text/html": [
       "<style scoped>\n",
       "  .table-result-container {\n",
       "    max-height: 300px;\n",
       "    overflow: auto;\n",
       "  }\n",
       "  table, th, td {\n",
       "    border: 1px solid black;\n",
       "    border-collapse: collapse;\n",
       "  }\n",
       "  th, td {\n",
       "    padding: 5px;\n",
       "  }\n",
       "  th {\n",
       "    text-align: left;\n",
       "  }\n",
       "</style><div class='table-result-container'><table class='table-result'><thead style='background-color: white'><tr><th>emp_id</th><th>salary_component_type</th><th>val</th></tr></thead><tbody><tr><td>1</td><td>salary</td><td>10000</td></tr><tr><td>1</td><td>bonus</td><td>5000</td></tr><tr><td>1</td><td>hike_percent</td><td>10</td></tr><tr><td>2</td><td>salary</td><td>15000</td></tr><tr><td>2</td><td>hike_percent</td><td>8</td></tr><tr><td>2</td><td>bonus</td><td>7000</td></tr><tr><td>3</td><td>salary</td><td>12000</td></tr><tr><td>3</td><td>bonus</td><td>6000</td></tr><tr><td>3</td><td>hike_percent</td><td>7</td></tr></tbody></table></div>"
      ]
     },
     "metadata": {
      "application/vnd.databricks.v1+output": {
       "addedWidgets": {},
       "aggData": [],
       "aggError": "",
       "aggOverflow": false,
       "aggSchema": [],
       "aggSeriesLimitReached": false,
       "aggType": "",
       "arguments": {},
       "columnCustomDisplayInfos": {},
       "data": [
        [
         1,
         "salary",
         10000
        ],
        [
         1,
         "bonus",
         5000
        ],
        [
         1,
         "hike_percent",
         10
        ],
        [
         2,
         "salary",
         15000
        ],
        [
         2,
         "hike_percent",
         8
        ],
        [
         2,
         "bonus",
         7000
        ],
        [
         3,
         "salary",
         12000
        ],
        [
         3,
         "bonus",
         6000
        ],
        [
         3,
         "hike_percent",
         7
        ]
       ],
       "datasetInfos": [
        {
         "name": "_sqldf",
         "schema": {
          "fields": [
           {
            "metadata": {},
            "name": "emp_id",
            "nullable": true,
            "type": "integer"
           },
           {
            "metadata": {},
            "name": "salary_component_type",
            "nullable": false,
            "type": "string"
           },
           {
            "metadata": {},
            "name": "val",
            "nullable": true,
            "type": "long"
           }
          ],
          "type": "struct"
         },
         "tableIdentifier": null,
         "typeStr": "pyspark.sql.connect.dataframe.DataFrame"
        }
       ],
       "dbfsResultPath": null,
       "isJsonSchema": true,
       "metadata": {
        "createTempViewForImplicitDf": true,
        "dataframeName": "_sqldf",
        "executionCount": 28
       },
       "overflow": false,
       "plotOptions": {
        "customPlotOptions": {},
        "displayType": "table",
        "pivotAggregation": null,
        "pivotColumns": null,
        "xColumns": null,
        "yColumns": null
       },
       "removedWidgets": [],
       "schema": [
        {
         "metadata": "{}",
         "name": "emp_id",
         "type": "\"integer\""
        },
        {
         "metadata": "{}",
         "name": "salary_component_type",
         "type": "\"string\""
        },
        {
         "metadata": "{}",
         "name": "val",
         "type": "\"long\""
        }
       ],
       "type": "table"
      }
     },
     "output_type": "display_data"
    }
   ],
   "source": [
    "%sql\n",
    "\n",
    "with cte as(\n",
    "  select emp_id,\n",
    "sum(case when salary_component_type = 'salary' then val else 0 end ) as salary,\n",
    "sum(case when salary_component_type = 'bonus' then val else 0 end ) as bonus,\n",
    "sum(case when salary_component_type = 'hike_percent' then val else 0 end ) as hike_percent \n",
    "from emp_compensation\n",
    "group by emp_id\n",
    ")\n",
    "\n",
    "select * from (\n",
    "select \n",
    "emp_id,\"salary\" as salary_component_type,salary as val\n",
    "from cte\n",
    "union all\n",
    "select emp_id,\"bonus\" as salary_component_type, bonus as val\n",
    "from cte\n",
    "union all\n",
    "select emp_id,\"hike_percent\" as salary_component_type, hike_percent as val\n",
    "from cte\n",
    ") order by emp_id;\n"
   ]
  },
  {
   "cell_type": "code",
   "execution_count": 0,
   "metadata": {
    "application/vnd.databricks.v1+cell": {
     "cellMetadata": {},
     "inputWidgets": {},
     "nuid": "20b6b114-f84f-4f33-96cc-26b5aedb5ef4",
     "showTitle": false,
     "tableResultSettingsMap": {},
     "title": ""
    }
   },
   "outputs": [],
   "source": []
  }
 ],
 "metadata": {
  "application/vnd.databricks.v1+notebook": {
   "computePreferences": null,
   "dashboards": [],
   "environmentMetadata": {
    "base_environment": "",
    "environment_version": "3"
   },
   "inputWidgetPreferences": null,
   "language": "python",
   "notebookMetadata": {
    "mostRecentlyExecutedCommandWithImplicitDF": {
     "commandId": 7998631267558943,
     "dataframes": [
      "_sqldf"
     ]
    },
    "pythonIndentUnit": 4
   },
   "notebookName": "PIVOT_UNPIVOT",
   "widgets": {}
  },
  "language_info": {
   "name": "python"
  }
 },
 "nbformat": 4,
 "nbformat_minor": 0
}