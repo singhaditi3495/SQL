{
 "cells": [
  {
   "cell_type": "code",
   "execution_count": 0,
   "metadata": {
    "application/vnd.databricks.v1+cell": {
     "cellMetadata": {
      "byteLimit": 2048000,
      "implicitDf": true,
      "rowLimit": 10000
     },
     "inputWidgets": {},
     "nuid": "6cd5e5eb-7c6d-4918-8951-a58375f7b537",
     "showTitle": false,
     "tableResultSettingsMap": {},
     "title": ""
    }
   },
   "outputs": [
    {
     "output_type": "display_data",
     "data": {
      "text/html": [
       "<style scoped>\n",
       "  .table-result-container {\n",
       "    max-height: 300px;\n",
       "    overflow: auto;\n",
       "  }\n",
       "  table, th, td {\n",
       "    border: 1px solid black;\n",
       "    border-collapse: collapse;\n",
       "  }\n",
       "  th, td {\n",
       "    padding: 5px;\n",
       "  }\n",
       "  th {\n",
       "    text-align: left;\n",
       "  }\n",
       "</style><div class='table-result-container'><table class='table-result'><thead style='background-color: white'><tr><th>Team_1</th><th>Team_2</th><th>Winner</th></tr></thead><tbody><tr><td>Aus</td><td>India</td><td>India</td></tr><tr><td>India</td><td>SL</td><td>India</td></tr><tr><td>SL</td><td>Aus</td><td>Aus</td></tr><tr><td>SA</td><td>Eng</td><td>Eng</td></tr><tr><td>Eng</td><td>NZ</td><td>NZ</td></tr></tbody></table></div>"
      ]
     },
     "metadata": {
      "application/vnd.databricks.v1+output": {
       "addedWidgets": {},
       "aggData": [],
       "aggError": "",
       "aggOverflow": false,
       "aggSchema": [],
       "aggSeriesLimitReached": false,
       "aggType": "",
       "arguments": {},
       "columnCustomDisplayInfos": {},
       "data": [
        [
         "Aus",
         "India",
         "India"
        ],
        [
         "India",
         "SL",
         "India"
        ],
        [
         "SL",
         "Aus",
         "Aus"
        ],
        [
         "SA",
         "Eng",
         "Eng"
        ],
        [
         "Eng",
         "NZ",
         "NZ"
        ]
       ],
       "datasetInfos": [
        {
         "name": "_sqldf",
         "schema": {
          "fields": [
           {
            "metadata": {
             "__CHAR_VARCHAR_TYPE_STRING": "varchar(20)"
            },
            "name": "Team_1",
            "nullable": true,
            "type": "string"
           },
           {
            "metadata": {
             "__CHAR_VARCHAR_TYPE_STRING": "varchar(20)"
            },
            "name": "Team_2",
            "nullable": true,
            "type": "string"
           },
           {
            "metadata": {
             "__CHAR_VARCHAR_TYPE_STRING": "varchar(20)"
            },
            "name": "Winner",
            "nullable": true,
            "type": "string"
           }
          ],
          "type": "struct"
         },
         "tableIdentifier": null,
         "typeStr": "pyspark.sql.connect.dataframe.DataFrame"
        }
       ],
       "dbfsResultPath": null,
       "isJsonSchema": true,
       "metadata": {
        "createTempViewForImplicitDf": true,
        "dataframeName": "_sqldf",
        "executionCount": 2
       },
       "overflow": false,
       "plotOptions": {
        "customPlotOptions": {},
        "displayType": "table",
        "pivotAggregation": null,
        "pivotColumns": null,
        "xColumns": null,
        "yColumns": null
       },
       "removedWidgets": [],
       "schema": [
        {
         "metadata": "{\"__CHAR_VARCHAR_TYPE_STRING\": \"varchar(20)\"}",
         "name": "Team_1",
         "type": "\"string\""
        },
        {
         "metadata": "{\"__CHAR_VARCHAR_TYPE_STRING\": \"varchar(20)\"}",
         "name": "Team_2",
         "type": "\"string\""
        },
        {
         "metadata": "{\"__CHAR_VARCHAR_TYPE_STRING\": \"varchar(20)\"}",
         "name": "Winner",
         "type": "\"string\""
        }
       ],
       "type": "table"
      }
     },
     "output_type": "display_data"
    }
   ],
   "source": [
    "%sql\n",
    "create table icc_world_cup\n",
    "(\n",
    "Team_1 Varchar(20),\n",
    "Team_2 Varchar(20),\n",
    "Winner Varchar(20)\n",
    ");\n",
    "INSERT INTO icc_world_cup values('India','SL','India');\n",
    "INSERT INTO icc_world_cup values('SL','Aus','Aus');\n",
    "INSERT INTO icc_world_cup values('SA','Eng','Eng');\n",
    "INSERT INTO icc_world_cup values('Eng','NZ','NZ');\n",
    "INSERT INTO icc_world_cup values('Aus','India','India');\n",
    "\n",
    "select * from icc_world_cup;"
   ]
  },
  {
   "cell_type": "code",
   "execution_count": 0,
   "metadata": {
    "application/vnd.databricks.v1+cell": {
     "cellMetadata": {
      "byteLimit": 2048000,
      "implicitDf": true,
      "rowLimit": 10000
     },
     "inputWidgets": {},
     "nuid": "46d6e93f-9c86-4cbd-b282-581af6b73db3",
     "showTitle": false,
     "tableResultSettingsMap": {},
     "title": ""
    }
   },
   "outputs": [
    {
     "output_type": "display_data",
     "data": {
      "text/html": [
       "<style scoped>\n",
       "  .table-result-container {\n",
       "    max-height: 300px;\n",
       "    overflow: auto;\n",
       "  }\n",
       "  table, th, td {\n",
       "    border: 1px solid black;\n",
       "    border-collapse: collapse;\n",
       "  }\n",
       "  th, td {\n",
       "    padding: 5px;\n",
       "  }\n",
       "  th {\n",
       "    text-align: left;\n",
       "  }\n",
       "</style><div class='table-result-container'><table class='table-result'><thead style='background-color: white'><tr><th>team_1</th><th>win_flag</th></tr></thead><tbody><tr><td>Aus</td><td>0</td></tr><tr><td>India</td><td>1</td></tr><tr><td>SL</td><td>0</td></tr><tr><td>SA</td><td>0</td></tr><tr><td>Eng</td><td>0</td></tr><tr><td>India</td><td>1</td></tr><tr><td>SL</td><td>0</td></tr><tr><td>Aus</td><td>1</td></tr><tr><td>Eng</td><td>1</td></tr><tr><td>NZ</td><td>1</td></tr></tbody></table></div>"
      ]
     },
     "metadata": {
      "application/vnd.databricks.v1+output": {
       "addedWidgets": {},
       "aggData": [],
       "aggError": "",
       "aggOverflow": false,
       "aggSchema": [],
       "aggSeriesLimitReached": false,
       "aggType": "",
       "arguments": {},
       "columnCustomDisplayInfos": {},
       "data": [
        [
         "Aus",
         0
        ],
        [
         "India",
         1
        ],
        [
         "SL",
         0
        ],
        [
         "SA",
         0
        ],
        [
         "Eng",
         0
        ],
        [
         "India",
         1
        ],
        [
         "SL",
         0
        ],
        [
         "Aus",
         1
        ],
        [
         "Eng",
         1
        ],
        [
         "NZ",
         1
        ]
       ],
       "datasetInfos": [
        {
         "name": "_sqldf",
         "schema": {
          "fields": [
           {
            "metadata": {
             "__CHAR_VARCHAR_TYPE_STRING": "varchar(20)"
            },
            "name": "team_1",
            "nullable": true,
            "type": "string"
           },
           {
            "metadata": {},
            "name": "win_flag",
            "nullable": false,
            "type": "integer"
           }
          ],
          "type": "struct"
         },
         "tableIdentifier": null,
         "typeStr": "pyspark.sql.connect.dataframe.DataFrame"
        }
       ],
       "dbfsResultPath": null,
       "isJsonSchema": true,
       "metadata": {
        "createTempViewForImplicitDf": true,
        "dataframeName": "_sqldf",
        "executionCount": 76
       },
       "overflow": false,
       "plotOptions": {
        "customPlotOptions": {},
        "displayType": "table",
        "pivotAggregation": null,
        "pivotColumns": null,
        "xColumns": null,
        "yColumns": null
       },
       "removedWidgets": [],
       "schema": [
        {
         "metadata": "{\"__CHAR_VARCHAR_TYPE_STRING\": \"varchar(20)\"}",
         "name": "team_1",
         "type": "\"string\""
        },
        {
         "metadata": "{}",
         "name": "win_flag",
         "type": "\"integer\""
        }
       ],
       "type": "table"
      }
     },
     "output_type": "display_data"
    }
   ],
   "source": [
    "%sql\n",
    "select team_1, case when team_1=winner then 1 else 0 end as win_flag\n",
    "from icc_world_cup\n",
    "union all\n",
    "select team_2, case when team_2=winner then 1 else 0 end as win_flag\n",
    "from icc_world_cup"
   ]
  },
  {
   "cell_type": "code",
   "execution_count": 0,
   "metadata": {
    "application/vnd.databricks.v1+cell": {
     "cellMetadata": {
      "byteLimit": 2048000,
      "implicitDf": true,
      "rowLimit": 10000
     },
     "inputWidgets": {},
     "nuid": "dc4ae8d9-5836-4a54-9ae7-c365fb98a755",
     "showTitle": false,
     "tableResultSettingsMap": {},
     "title": ""
    }
   },
   "outputs": [
    {
     "output_type": "display_data",
     "data": {
      "text/html": [
       "<style scoped>\n",
       "  .table-result-container {\n",
       "    max-height: 300px;\n",
       "    overflow: auto;\n",
       "  }\n",
       "  table, th, td {\n",
       "    border: 1px solid black;\n",
       "    border-collapse: collapse;\n",
       "  }\n",
       "  th, td {\n",
       "    padding: 5px;\n",
       "  }\n",
       "  th {\n",
       "    text-align: left;\n",
       "  }\n",
       "</style><div class='table-result-container'><table class='table-result'><thead style='background-color: white'><tr><th>team_name</th><th>total_no_of_matches</th><th>total_no_of_wins</th><th>total_no_of_losses</th></tr></thead><tbody><tr><td>India</td><td>2</td><td>2</td><td>0</td></tr><tr><td>Aus</td><td>2</td><td>1</td><td>1</td></tr><tr><td>Eng</td><td>2</td><td>1</td><td>1</td></tr><tr><td>NZ</td><td>1</td><td>1</td><td>0</td></tr><tr><td>SL</td><td>2</td><td>0</td><td>2</td></tr><tr><td>SA</td><td>1</td><td>0</td><td>1</td></tr></tbody></table></div>"
      ]
     },
     "metadata": {
      "application/vnd.databricks.v1+output": {
       "addedWidgets": {},
       "aggData": [],
       "aggError": "",
       "aggOverflow": false,
       "aggSchema": [],
       "aggSeriesLimitReached": false,
       "aggType": "",
       "arguments": {},
       "columnCustomDisplayInfos": {},
       "data": [
        [
         "India",
         2,
         2,
         0
        ],
        [
         "Aus",
         2,
         1,
         1
        ],
        [
         "Eng",
         2,
         1,
         1
        ],
        [
         "NZ",
         1,
         1,
         0
        ],
        [
         "SL",
         2,
         0,
         2
        ],
        [
         "SA",
         1,
         0,
         1
        ]
       ],
       "datasetInfos": [
        {
         "name": "_sqldf",
         "schema": {
          "fields": [
           {
            "metadata": {
             "__CHAR_VARCHAR_TYPE_STRING": "varchar(20)"
            },
            "name": "team_name",
            "nullable": true,
            "type": "string"
           },
           {
            "metadata": {},
            "name": "total_no_of_matches",
            "nullable": false,
            "type": "long"
           },
           {
            "metadata": {},
            "name": "total_no_of_wins",
            "nullable": true,
            "type": "long"
           },
           {
            "metadata": {},
            "name": "total_no_of_losses",
            "nullable": true,
            "type": "long"
           }
          ],
          "type": "struct"
         },
         "tableIdentifier": null,
         "typeStr": "pyspark.sql.connect.dataframe.DataFrame"
        }
       ],
       "dbfsResultPath": null,
       "isJsonSchema": true,
       "metadata": {
        "createTempViewForImplicitDf": true,
        "dataframeName": "_sqldf",
        "executionCount": 28
       },
       "overflow": false,
       "plotOptions": {
        "customPlotOptions": {},
        "displayType": "table",
        "pivotAggregation": null,
        "pivotColumns": null,
        "xColumns": null,
        "yColumns": null
       },
       "removedWidgets": [],
       "schema": [
        {
         "metadata": "{\"__CHAR_VARCHAR_TYPE_STRING\": \"varchar(20)\"}",
         "name": "team_name",
         "type": "\"string\""
        },
        {
         "metadata": "{}",
         "name": "total_no_of_matches",
         "type": "\"long\""
        },
        {
         "metadata": "{}",
         "name": "total_no_of_wins",
         "type": "\"long\""
        },
        {
         "metadata": "{}",
         "name": "total_no_of_losses",
         "type": "\"long\""
        }
       ],
       "type": "table"
      }
     },
     "output_type": "display_data"
    }
   ],
   "source": [
    "%sql\n",
    "select\n",
    "team_name,\n",
    "count(*) as total_no_of_matches,\n",
    "sum(win_flag) as total_no_of_wins,\n",
    "count(*)-sum(win_flag) as total_no_of_losses\n",
    "from\n",
    "(\n",
    "select team_1 as team_name, case when team_1=winner then 1 else 0 end as win_flag from icc_world_cup\n",
    "union all\n",
    "select team_2 as team_name, case when team_2=winner then 1 else 0 end as win_flag from icc_world_cup\n",
    ") x\n",
    "group by team_name\n",
    "order by total_no_of_wins desc\n",
    "\n"
   ]
  },
  {
   "cell_type": "code",
   "execution_count": 0,
   "metadata": {
    "application/vnd.databricks.v1+cell": {
     "cellMetadata": {},
     "inputWidgets": {},
     "nuid": "4dd1e5b3-290b-4a6b-885c-d8d58d22adc7",
     "showTitle": false,
     "tableResultSettingsMap": {},
     "title": ""
    }
   },
   "outputs": [],
   "source": []
  }
 ],
 "metadata": {
  "application/vnd.databricks.v1+notebook": {
   "computePreferences": {
    "hardware": {
     "accelerator": null,
     "gpuPoolId": null,
     "memory": null
    }
   },
   "dashboards": [],
   "environmentMetadata": {
    "base_environment": "",
    "environment_version": "3"
   },
   "inputWidgetPreferences": null,
   "language": "python",
   "notebookMetadata": {
    "mostRecentlyExecutedCommandWithImplicitDF": {
     "commandId": 8819941906515659,
     "dataframes": [
      "_sqldf"
     ]
    },
    "pythonIndentUnit": 4
   },
   "notebookName": "Untitled Notebook 2025-10-06 20:23:14",
   "widgets": {}
  },
  "language_info": {
   "name": "python"
  }
 },
 "nbformat": 4,
 "nbformat_minor": 0
}