{
 "cells": [
  {
   "cell_type": "code",
   "execution_count": 0,
   "metadata": {
    "application/vnd.databricks.v1+cell": {
     "cellMetadata": {},
     "inputWidgets": {},
     "nuid": "d0fa8d3b-9461-4358-a97d-9401b5f000a8",
     "showTitle": false,
     "tableResultSettingsMap": {},
     "title": ""
    }
   },
   "outputs": [],
   "source": [
    "The table logs the spendings history of users that make purchases from an \n",
    "outline shopping website which has a desktop and mobile applications\n",
    "\n",
    "Write an SQL Query to find the total number of users and \n",
    "the total amount spent using mobile only\n",
    "desktop only\n",
    "and both mobile and desktop together for each date\n"
   ]
  },
  {
   "cell_type": "code",
   "execution_count": 0,
   "metadata": {
    "application/vnd.databricks.v1+cell": {
     "cellMetadata": {
      "byteLimit": 2048000,
      "rowLimit": 10000
     },
     "inputWidgets": {},
     "nuid": "a5eeaf04-639a-4191-b5c7-bc8f444cf7fe",
     "showTitle": false,
     "tableResultSettingsMap": {},
     "title": ""
    }
   },
   "outputs": [
    {
     "output_type": "display_data",
     "data": {
      "text/html": [
       "<style scoped>\n",
       "  .table-result-container {\n",
       "    max-height: 300px;\n",
       "    overflow: auto;\n",
       "  }\n",
       "  table, th, td {\n",
       "    border: 1px solid black;\n",
       "    border-collapse: collapse;\n",
       "  }\n",
       "  th, td {\n",
       "    padding: 5px;\n",
       "  }\n",
       "  th {\n",
       "    text-align: left;\n",
       "  }\n",
       "</style><div class='table-result-container'><table class='table-result'><thead style='background-color: white'><tr><th>num_affected_rows</th><th>num_inserted_rows</th></tr></thead><tbody><tr><td>6</td><td>6</td></tr></tbody></table></div>"
      ]
     },
     "metadata": {
      "application/vnd.databricks.v1+output": {
       "addedWidgets": {},
       "aggData": [],
       "aggError": "",
       "aggOverflow": false,
       "aggSchema": [],
       "aggSeriesLimitReached": false,
       "aggType": "",
       "arguments": {},
       "columnCustomDisplayInfos": {},
       "data": [
        [
         6,
         6
        ]
       ],
       "datasetInfos": [
        {
         "name": "_sqldf",
         "schema": {
          "fields": [
           {
            "metadata": {},
            "name": "num_affected_rows",
            "nullable": true,
            "type": "long"
           },
           {
            "metadata": {},
            "name": "num_inserted_rows",
            "nullable": true,
            "type": "long"
           }
          ],
          "type": "struct"
         },
         "tableIdentifier": null,
         "typeStr": "pyspark.sql.connect.dataframe.DataFrame"
        }
       ],
       "dbfsResultPath": null,
       "isJsonSchema": true,
       "metadata": {
        "createTempViewForImplicitDf": true,
        "dataframeName": "_sqldf",
        "executionCount": 3
       },
       "overflow": false,
       "plotOptions": {
        "customPlotOptions": {},
        "displayType": "table",
        "pivotAggregation": null,
        "pivotColumns": null,
        "xColumns": null,
        "yColumns": null
       },
       "removedWidgets": [],
       "schema": [
        {
         "metadata": "{}",
         "name": "num_affected_rows",
         "type": "\"long\""
        },
        {
         "metadata": "{}",
         "name": "num_inserted_rows",
         "type": "\"long\""
        }
       ],
       "type": "table"
      }
     },
     "output_type": "display_data"
    }
   ],
   "source": [
    "\n",
    "drop table if exists spending;\n",
    "create table spending \n",
    "(\n",
    "user_id int,\n",
    "spend_date date,\n",
    "platform varchar(10),\n",
    "amount int\n",
    ");\n",
    "\n",
    "insert into spending values(1,'2019-07-01','mobile',100),(1,'2019-07-01','desktop',100),(2,'2019-07-01','mobile',100)\n",
    ",(2,'2019-07-02','mobile',100),(3,'2019-07-01','desktop',100),(3,'2019-07-02','desktop',100);\n"
   ]
  },
  {
   "cell_type": "code",
   "execution_count": 0,
   "metadata": {
    "application/vnd.databricks.v1+cell": {
     "cellMetadata": {
      "byteLimit": 2048000,
      "rowLimit": 10000
     },
     "inputWidgets": {},
     "nuid": "1121c989-0bba-48b6-ba97-72480446470c",
     "showTitle": false,
     "tableResultSettingsMap": {},
     "title": ""
    }
   },
   "outputs": [
    {
     "output_type": "display_data",
     "data": {
      "text/html": [
       "<style scoped>\n",
       "  .table-result-container {\n",
       "    max-height: 300px;\n",
       "    overflow: auto;\n",
       "  }\n",
       "  table, th, td {\n",
       "    border: 1px solid black;\n",
       "    border-collapse: collapse;\n",
       "  }\n",
       "  th, td {\n",
       "    padding: 5px;\n",
       "  }\n",
       "  th {\n",
       "    text-align: left;\n",
       "  }\n",
       "</style><div class='table-result-container'><table class='table-result'><thead style='background-color: white'><tr><th>user_id</th><th>spend_date</th><th>platform</th><th>amount</th></tr></thead><tbody><tr><td>1</td><td>2019-07-01</td><td>mobile</td><td>100</td></tr><tr><td>1</td><td>2019-07-01</td><td>desktop</td><td>100</td></tr><tr><td>2</td><td>2019-07-01</td><td>mobile</td><td>100</td></tr><tr><td>2</td><td>2019-07-02</td><td>mobile</td><td>100</td></tr><tr><td>3</td><td>2019-07-01</td><td>desktop</td><td>100</td></tr><tr><td>3</td><td>2019-07-02</td><td>desktop</td><td>100</td></tr></tbody></table></div>"
      ]
     },
     "metadata": {
      "application/vnd.databricks.v1+output": {
       "addedWidgets": {},
       "aggData": [],
       "aggError": "",
       "aggOverflow": false,
       "aggSchema": [],
       "aggSeriesLimitReached": false,
       "aggType": "",
       "arguments": {},
       "columnCustomDisplayInfos": {},
       "data": [
        [
         1,
         "2019-07-01",
         "mobile",
         100
        ],
        [
         1,
         "2019-07-01",
         "desktop",
         100
        ],
        [
         2,
         "2019-07-01",
         "mobile",
         100
        ],
        [
         2,
         "2019-07-02",
         "mobile",
         100
        ],
        [
         3,
         "2019-07-01",
         "desktop",
         100
        ],
        [
         3,
         "2019-07-02",
         "desktop",
         100
        ]
       ],
       "datasetInfos": [
        {
         "name": "_sqldf",
         "schema": {
          "fields": [
           {
            "metadata": {},
            "name": "user_id",
            "nullable": true,
            "type": "integer"
           },
           {
            "metadata": {},
            "name": "spend_date",
            "nullable": true,
            "type": "date"
           },
           {
            "metadata": {
             "__CHAR_VARCHAR_TYPE_STRING": "varchar(10)"
            },
            "name": "platform",
            "nullable": true,
            "type": "string"
           },
           {
            "metadata": {},
            "name": "amount",
            "nullable": true,
            "type": "integer"
           }
          ],
          "type": "struct"
         },
         "tableIdentifier": null,
         "typeStr": "pyspark.sql.connect.dataframe.DataFrame"
        }
       ],
       "dbfsResultPath": null,
       "isJsonSchema": true,
       "metadata": {
        "createTempViewForImplicitDf": true,
        "dataframeName": "_sqldf",
        "executionCount": 4
       },
       "overflow": false,
       "plotOptions": {
        "customPlotOptions": {},
        "displayType": "table",
        "pivotAggregation": null,
        "pivotColumns": null,
        "xColumns": null,
        "yColumns": null
       },
       "removedWidgets": [],
       "schema": [
        {
         "metadata": "{}",
         "name": "user_id",
         "type": "\"integer\""
        },
        {
         "metadata": "{}",
         "name": "spend_date",
         "type": "\"date\""
        },
        {
         "metadata": "{\"__CHAR_VARCHAR_TYPE_STRING\": \"varchar(10)\"}",
         "name": "platform",
         "type": "\"string\""
        },
        {
         "metadata": "{}",
         "name": "amount",
         "type": "\"integer\""
        }
       ],
       "type": "table"
      }
     },
     "output_type": "display_data"
    }
   ],
   "source": [
    "select * from spending;"
   ]
  },
  {
   "cell_type": "code",
   "execution_count": 0,
   "metadata": {
    "application/vnd.databricks.v1+cell": {
     "cellMetadata": {
      "byteLimit": 2048000,
      "rowLimit": 10000
     },
     "inputWidgets": {},
     "nuid": "e81c065e-dbc8-45b7-b38f-1d619f5302be",
     "showTitle": false,
     "tableResultSettingsMap": {},
     "title": ""
    }
   },
   "outputs": [
    {
     "output_type": "display_data",
     "data": {
      "text/html": [
       "<style scoped>\n",
       "  .table-result-container {\n",
       "    max-height: 300px;\n",
       "    overflow: auto;\n",
       "  }\n",
       "  table, th, td {\n",
       "    border: 1px solid black;\n",
       "    border-collapse: collapse;\n",
       "  }\n",
       "  th, td {\n",
       "    padding: 5px;\n",
       "  }\n",
       "  th {\n",
       "    text-align: left;\n",
       "  }\n",
       "</style><div class='table-result-container'><table class='table-result'><thead style='background-color: white'><tr><th>user_id</th><th>spend_date</th><th>total_amount</th></tr></thead><tbody><tr><td>1</td><td>2019-07-01</td><td>200</td></tr><tr><td>2</td><td>2019-07-01</td><td>100</td></tr><tr><td>2</td><td>2019-07-02</td><td>100</td></tr><tr><td>3</td><td>2019-07-01</td><td>100</td></tr><tr><td>3</td><td>2019-07-02</td><td>100</td></tr></tbody></table></div>"
      ]
     },
     "metadata": {
      "application/vnd.databricks.v1+output": {
       "addedWidgets": {},
       "aggData": [],
       "aggError": "",
       "aggOverflow": false,
       "aggSchema": [],
       "aggSeriesLimitReached": false,
       "aggType": "",
       "arguments": {},
       "columnCustomDisplayInfos": {},
       "data": [
        [
         1,
         "2019-07-01",
         200
        ],
        [
         2,
         "2019-07-01",
         100
        ],
        [
         2,
         "2019-07-02",
         100
        ],
        [
         3,
         "2019-07-01",
         100
        ],
        [
         3,
         "2019-07-02",
         100
        ]
       ],
       "datasetInfos": [
        {
         "name": "_sqldf",
         "schema": {
          "fields": [
           {
            "metadata": {},
            "name": "user_id",
            "nullable": true,
            "type": "integer"
           },
           {
            "metadata": {},
            "name": "spend_date",
            "nullable": true,
            "type": "date"
           },
           {
            "metadata": {},
            "name": "total_amount",
            "nullable": true,
            "type": "long"
           }
          ],
          "type": "struct"
         },
         "tableIdentifier": null,
         "typeStr": "pyspark.sql.connect.dataframe.DataFrame"
        }
       ],
       "dbfsResultPath": null,
       "isJsonSchema": true,
       "metadata": {
        "createTempViewForImplicitDf": true,
        "dataframeName": "_sqldf",
        "executionCount": 9
       },
       "overflow": false,
       "plotOptions": {
        "customPlotOptions": {},
        "displayType": "table",
        "pivotAggregation": null,
        "pivotColumns": null,
        "xColumns": null,
        "yColumns": null
       },
       "removedWidgets": [],
       "schema": [
        {
         "metadata": "{}",
         "name": "user_id",
         "type": "\"integer\""
        },
        {
         "metadata": "{}",
         "name": "spend_date",
         "type": "\"date\""
        },
        {
         "metadata": "{}",
         "name": "total_amount",
         "type": "\"long\""
        }
       ],
       "type": "table"
      }
     },
     "output_type": "display_data"
    }
   ],
   "source": [
    "with total_user_purchase as\n",
    "(select \n",
    "user_id,\n",
    "spend_date,\n",
    "sum(amount) as total_amount,\n",
    "case when \n",
    "from\n",
    "spending\n",
    "group by user_id,spend_date\n",
    ")\n",
    "\n",
    "select * from total_user_purchase;"
   ]
  },
  {
   "cell_type": "code",
   "execution_count": 0,
   "metadata": {
    "application/vnd.databricks.v1+cell": {
     "cellMetadata": {
      "byteLimit": 2048000,
      "rowLimit": 10000
     },
     "inputWidgets": {},
     "nuid": "ae126090-a52f-4ee8-9723-780cb5eac631",
     "showTitle": false,
     "tableResultSettingsMap": {
      "0": {
       "dataGridStateBlob": "{\"version\":1,\"tableState\":{\"columnPinning\":{\"left\":[\"#row_number#\"],\"right\":[]},\"columnSizing\":{},\"columnVisibility\":{}},\"settings\":{\"columns\":{}},\"syncTimestamp\":1760572091223}",
       "filterBlob": null,
       "queryPlanFiltersBlob": null,
       "tableResultIndex": 0
      }
     },
     "title": ""
    }
   },
   "outputs": [
    {
     "output_type": "display_data",
     "data": {
      "text/html": [
       "<style scoped>\n",
       "  .table-result-container {\n",
       "    max-height: 300px;\n",
       "    overflow: auto;\n",
       "  }\n",
       "  table, th, td {\n",
       "    border: 1px solid black;\n",
       "    border-collapse: collapse;\n",
       "  }\n",
       "  th, td {\n",
       "    padding: 5px;\n",
       "  }\n",
       "  th {\n",
       "    text-align: left;\n",
       "  }\n",
       "</style><div class='table-result-container'><table class='table-result'><thead style='background-color: white'><tr><th>user_id</th><th>spend_date</th><th>platform</th><th>total_amount</th><th>total_users</th></tr></thead><tbody><tr><td>3</td><td>2019-07-01</td><td>desktop</td><td>100</td><td>1</td></tr><tr><td>1</td><td>2019-07-01</td><td>desktop</td><td>100</td><td>1</td></tr><tr><td>1</td><td>2019-07-01</td><td>mobile</td><td>100</td><td>1</td></tr><tr><td>2</td><td>2019-07-01</td><td>mobile</td><td>100</td><td>1</td></tr><tr><td>2</td><td>2019-07-02</td><td>mobile</td><td>100</td><td>1</td></tr><tr><td>3</td><td>2019-07-02</td><td>desktop</td><td>100</td><td>1</td></tr></tbody></table></div>"
      ]
     },
     "metadata": {
      "application/vnd.databricks.v1+output": {
       "addedWidgets": {},
       "aggData": [],
       "aggError": "",
       "aggOverflow": false,
       "aggSchema": [],
       "aggSeriesLimitReached": false,
       "aggType": "",
       "arguments": {},
       "columnCustomDisplayInfos": {},
       "data": [
        [
         3,
         "2019-07-01",
         "desktop",
         100,
         1
        ],
        [
         1,
         "2019-07-01",
         "desktop",
         100,
         1
        ],
        [
         1,
         "2019-07-01",
         "mobile",
         100,
         1
        ],
        [
         2,
         "2019-07-01",
         "mobile",
         100,
         1
        ],
        [
         2,
         "2019-07-02",
         "mobile",
         100,
         1
        ],
        [
         3,
         "2019-07-02",
         "desktop",
         100,
         1
        ]
       ],
       "datasetInfos": [
        {
         "name": "_sqldf",
         "schema": {
          "fields": [
           {
            "metadata": {},
            "name": "user_id",
            "nullable": true,
            "type": "integer"
           },
           {
            "metadata": {},
            "name": "spend_date",
            "nullable": true,
            "type": "date"
           },
           {
            "metadata": {
             "__CHAR_VARCHAR_TYPE_STRING": "varchar(10)"
            },
            "name": "platform",
            "nullable": true,
            "type": "string"
           },
           {
            "metadata": {},
            "name": "total_amount",
            "nullable": true,
            "type": "long"
           },
           {
            "metadata": {},
            "name": "total_users",
            "nullable": false,
            "type": "long"
           }
          ],
          "type": "struct"
         },
         "tableIdentifier": null,
         "typeStr": "pyspark.sql.connect.dataframe.DataFrame"
        }
       ],
       "dbfsResultPath": null,
       "isJsonSchema": true,
       "metadata": {
        "createTempViewForImplicitDf": true,
        "dataframeName": "_sqldf",
        "executionCount": 22
       },
       "overflow": false,
       "plotOptions": {
        "customPlotOptions": {},
        "displayType": "table",
        "pivotAggregation": null,
        "pivotColumns": null,
        "xColumns": null,
        "yColumns": null
       },
       "removedWidgets": [],
       "schema": [
        {
         "metadata": "{}",
         "name": "user_id",
         "type": "\"integer\""
        },
        {
         "metadata": "{}",
         "name": "spend_date",
         "type": "\"date\""
        },
        {
         "metadata": "{\"__CHAR_VARCHAR_TYPE_STRING\": \"varchar(10)\"}",
         "name": "platform",
         "type": "\"string\""
        },
        {
         "metadata": "{}",
         "name": "total_amount",
         "type": "\"long\""
        },
        {
         "metadata": "{}",
         "name": "total_users",
         "type": "\"long\""
        }
       ],
       "type": "table"
      }
     },
     "output_type": "display_data"
    }
   ],
   "source": [
    "--select * from spending;\n",
    "\n",
    "with cte_users as\n",
    "(select \n",
    "user_id,\n",
    "spend_date,\n",
    "platform,\n",
    "sum(amount) as total_amount,\n",
    "--case when platform='mobile' then 1\n",
    "--when platform='desktop' then 'desktop'\n",
    "--else 'both'\n",
    "count(user_id) as total_users\n",
    "from\n",
    "spending\n",
    "group by \n",
    "user_id,\n",
    "spend_date,\n",
    "platform order by spend_date)\n",
    "\n",
    "select * from cte_users;\n"
   ]
  },
  {
   "cell_type": "code",
   "execution_count": 0,
   "metadata": {
    "application/vnd.databricks.v1+cell": {
     "cellMetadata": {},
     "inputWidgets": {},
     "nuid": "b0e96109-ff55-4ca8-b4fa-36b80bb9e32b",
     "showTitle": false,
     "tableResultSettingsMap": {},
     "title": ""
    }
   },
   "outputs": [],
   "source": []
  },
  {
   "cell_type": "code",
   "execution_count": 0,
   "metadata": {
    "application/vnd.databricks.v1+cell": {
     "cellMetadata": {
      "byteLimit": 2048000,
      "rowLimit": 10000
     },
     "inputWidgets": {},
     "nuid": "bb6f2fb8-ab6e-41df-8949-1b0f8ad9a283",
     "showTitle": false,
     "tableResultSettingsMap": {},
     "title": ""
    }
   },
   "outputs": [
    {
     "output_type": "display_data",
     "data": {
      "text/html": [
       "<style scoped>\n",
       "  .table-result-container {\n",
       "    max-height: 300px;\n",
       "    overflow: auto;\n",
       "  }\n",
       "  table, th, td {\n",
       "    border: 1px solid black;\n",
       "    border-collapse: collapse;\n",
       "  }\n",
       "  th, td {\n",
       "    padding: 5px;\n",
       "  }\n",
       "  th {\n",
       "    text-align: left;\n",
       "  }\n",
       "</style><div class='table-result-container'><table class='table-result'><thead style='background-color: white'><tr><th>user_id</th><th>spend_date</th><th>count(DISTINCTplatform)</th><th>amount</th><th>platform</th></tr></thead><tbody><tr><td>2</td><td>2019-07-01</td><td>1</td><td>100</td><td>mobile</td></tr><tr><td>2</td><td>2019-07-02</td><td>1</td><td>100</td><td>mobile</td></tr><tr><td>3</td><td>2019-07-01</td><td>1</td><td>100</td><td>desktop</td></tr><tr><td>3</td><td>2019-07-02</td><td>1</td><td>100</td><td>desktop</td></tr></tbody></table></div>"
      ]
     },
     "metadata": {
      "application/vnd.databricks.v1+output": {
       "addedWidgets": {},
       "aggData": [],
       "aggError": "",
       "aggOverflow": false,
       "aggSchema": [],
       "aggSeriesLimitReached": false,
       "aggType": "",
       "arguments": {},
       "columnCustomDisplayInfos": {},
       "data": [
        [
         2,
         "2019-07-01",
         1,
         100,
         "mobile"
        ],
        [
         2,
         "2019-07-02",
         1,
         100,
         "mobile"
        ],
        [
         3,
         "2019-07-01",
         1,
         100,
         "desktop"
        ],
        [
         3,
         "2019-07-02",
         1,
         100,
         "desktop"
        ]
       ],
       "datasetInfos": [
        {
         "name": "_sqldf",
         "schema": {
          "fields": [
           {
            "metadata": {},
            "name": "user_id",
            "nullable": true,
            "type": "integer"
           },
           {
            "metadata": {},
            "name": "spend_date",
            "nullable": true,
            "type": "date"
           },
           {
            "metadata": {},
            "name": "count(DISTINCTplatform)",
            "nullable": false,
            "type": "long"
           },
           {
            "metadata": {},
            "name": "amount",
            "nullable": true,
            "type": "long"
           },
           {
            "metadata": {},
            "name": "platform",
            "nullable": true,
            "type": "string"
           }
          ],
          "type": "struct"
         },
         "tableIdentifier": null,
         "typeStr": "pyspark.sql.connect.dataframe.DataFrame"
        }
       ],
       "dbfsResultPath": null,
       "isJsonSchema": true,
       "metadata": {
        "createTempViewForImplicitDf": true,
        "dataframeName": "_sqldf",
        "executionCount": 10
       },
       "overflow": false,
       "plotOptions": {
        "customPlotOptions": {},
        "displayType": "table",
        "pivotAggregation": null,
        "pivotColumns": null,
        "xColumns": null,
        "yColumns": null
       },
       "removedWidgets": [],
       "schema": [
        {
         "metadata": "{}",
         "name": "user_id",
         "type": "\"integer\""
        },
        {
         "metadata": "{}",
         "name": "spend_date",
         "type": "\"date\""
        },
        {
         "metadata": "{}",
         "name": "count(DISTINCTplatform)",
         "type": "\"long\""
        },
        {
         "metadata": "{}",
         "name": "amount",
         "type": "\"long\""
        },
        {
         "metadata": "{}",
         "name": "platform",
         "type": "\"string\""
        }
       ],
       "type": "table"
      }
     },
     "output_type": "display_data"
    }
   ],
   "source": [
    "select\n",
    "user_id,\n",
    "spend_date,\n",
    "count(Distinct platform),\n",
    "sum(amount) as amount,\n",
    "max(platform) as platform\n",
    "from \n",
    "spending\n",
    "group by user_id,spend_date\n",
    "having count(distinct platform)=1\n",
    "\n",
    "\n",
    "--count(distinct platform)=1 :: Give those users who has purchased on only one platform either mobile or desktop"
   ]
  },
  {
   "cell_type": "code",
   "execution_count": 0,
   "metadata": {
    "application/vnd.databricks.v1+cell": {
     "cellMetadata": {
      "byteLimit": 2048000,
      "rowLimit": 10000
     },
     "inputWidgets": {},
     "nuid": "30b3a5f9-517e-464d-b8e0-b1d7110e0cd0",
     "showTitle": false,
     "tableResultSettingsMap": {},
     "title": ""
    }
   },
   "outputs": [
    {
     "output_type": "display_data",
     "data": {
      "text/html": [
       "<style scoped>\n",
       "  .table-result-container {\n",
       "    max-height: 300px;\n",
       "    overflow: auto;\n",
       "  }\n",
       "  table, th, td {\n",
       "    border: 1px solid black;\n",
       "    border-collapse: collapse;\n",
       "  }\n",
       "  th, td {\n",
       "    padding: 5px;\n",
       "  }\n",
       "  th {\n",
       "    text-align: left;\n",
       "  }\n",
       "</style><div class='table-result-container'><table class='table-result'><thead style='background-color: white'><tr><th>spend_date</th><th>platform</th><th>total_users</th><th>total_amount</th></tr></thead><tbody><tr><td>2019-07-01</td><td>mobile</td><td>1</td><td>100</td></tr><tr><td>2019-07-01</td><td>desktop</td><td>1</td><td>100</td></tr><tr><td>2019-07-01</td><td>both</td><td>2</td><td>200</td></tr><tr><td>2019-07-02</td><td>mobile</td><td>1</td><td>100</td></tr><tr><td>2019-07-02</td><td>desktop</td><td>1</td><td>100</td></tr></tbody></table></div>"
      ]
     },
     "metadata": {
      "application/vnd.databricks.v1+output": {
       "addedWidgets": {},
       "aggData": [],
       "aggError": "",
       "aggOverflow": false,
       "aggSchema": [],
       "aggSeriesLimitReached": false,
       "aggType": "",
       "arguments": {},
       "columnCustomDisplayInfos": {},
       "data": [
        [
         "2019-07-01",
         "mobile",
         1,
         100
        ],
        [
         "2019-07-01",
         "desktop",
         1,
         100
        ],
        [
         "2019-07-01",
         "both",
         2,
         200
        ],
        [
         "2019-07-02",
         "mobile",
         1,
         100
        ],
        [
         "2019-07-02",
         "desktop",
         1,
         100
        ]
       ],
       "datasetInfos": [
        {
         "name": "_sqldf",
         "schema": {
          "fields": [
           {
            "metadata": {},
            "name": "spend_date",
            "nullable": true,
            "type": "date"
           },
           {
            "metadata": {},
            "name": "platform",
            "nullable": true,
            "type": "string"
           },
           {
            "metadata": {},
            "name": "total_users",
            "nullable": false,
            "type": "long"
           },
           {
            "metadata": {},
            "name": "total_amount",
            "nullable": true,
            "type": "long"
           }
          ],
          "type": "struct"
         },
         "tableIdentifier": null,
         "typeStr": "pyspark.sql.connect.dataframe.DataFrame"
        }
       ],
       "dbfsResultPath": null,
       "isJsonSchema": true,
       "metadata": {
        "createTempViewForImplicitDf": true,
        "dataframeName": "_sqldf",
        "executionCount": 24
       },
       "overflow": false,
       "plotOptions": {
        "customPlotOptions": {},
        "displayType": "table",
        "pivotAggregation": null,
        "pivotColumns": null,
        "xColumns": null,
        "yColumns": null
       },
       "removedWidgets": [],
       "schema": [
        {
         "metadata": "{}",
         "name": "spend_date",
         "type": "\"date\""
        },
        {
         "metadata": "{}",
         "name": "platform",
         "type": "\"string\""
        },
        {
         "metadata": "{}",
         "name": "total_users",
         "type": "\"long\""
        },
        {
         "metadata": "{}",
         "name": "total_amount",
         "type": "\"long\""
        }
       ],
       "type": "table"
      }
     },
     "output_type": "display_data"
    }
   ],
   "source": [
    "with cte as(\n",
    "select\n",
    "user_id,\n",
    "spend_date,\n",
    "sum(amount) as amount,\n",
    "max(platform) as platform\n",
    "from \n",
    "spending\n",
    "group by user_id,spend_date\n",
    "having count(distinct platform)=1\n",
    "union all\n",
    "select\n",
    "user_id,\n",
    "spend_date,\n",
    "sum(amount) as amount,\n",
    "\"both\" as platform\n",
    "from \n",
    "spending\n",
    "group by user_id,spend_date\n",
    "having count(distinct platform)=2\n",
    "union all\n",
    "select\n",
    "distinct user_id,\n",
    " spend_date,\n",
    "0 as amount,\n",
    "\"both\" as platform\n",
    "from \n",
    "spending\n",
    "group by user_id,spend_date\n",
    "having count(distinct platform)=2\n",
    ")\n",
    "\n",
    "select\n",
    "spend_date,\n",
    "platform,\n",
    "count(user_id) as total_users,\n",
    "sum(amount) as total_amount\n",
    "from cte\n",
    "group by spend_date,platform\n",
    "order by spend_date"
   ]
  },
  {
   "cell_type": "code",
   "execution_count": 0,
   "metadata": {
    "application/vnd.databricks.v1+cell": {
     "cellMetadata": {
      "byteLimit": 2048000,
      "rowLimit": 10000
     },
     "inputWidgets": {},
     "nuid": "c84afd6b-4a21-41ad-898e-d6514a4f29b2",
     "showTitle": false,
     "tableResultSettingsMap": {},
     "title": ""
    }
   },
   "outputs": [
    {
     "output_type": "display_data",
     "data": {
      "text/html": [
       "<style scoped>\n",
       "  .table-result-container {\n",
       "    max-height: 300px;\n",
       "    overflow: auto;\n",
       "  }\n",
       "  table, th, td {\n",
       "    border: 1px solid black;\n",
       "    border-collapse: collapse;\n",
       "  }\n",
       "  th, td {\n",
       "    padding: 5px;\n",
       "  }\n",
       "  th {\n",
       "    text-align: left;\n",
       "  }\n",
       "</style><div class='table-result-container'><table class='table-result'><thead style='background-color: white'><tr><th>user_id</th><th>spend_date</th><th>amount</th><th>platform</th></tr></thead><tbody><tr><td>2</td><td>2019-07-01</td><td>100</td><td>mobile</td></tr><tr><td>3</td><td>2019-07-01</td><td>100</td><td>desktop</td></tr><tr><td>2</td><td>2019-07-02</td><td>100</td><td>mobile</td></tr><tr><td>3</td><td>2019-07-02</td><td>100</td><td>desktop</td></tr><tr><td>null</td><td>2019-07-01</td><td>200</td><td>both</td></tr><tr><td>1</td><td>2019-07-01</td><td>0</td><td>both</td></tr><tr><td>2</td><td>2019-07-01</td><td>0</td><td>both</td></tr><tr><td>3</td><td>2019-07-01</td><td>0</td><td>both</td></tr><tr><td>2</td><td>2019-07-02</td><td>0</td><td>both</td></tr><tr><td>3</td><td>2019-07-02</td><td>0</td><td>both</td></tr></tbody></table></div>"
      ]
     },
     "metadata": {
      "application/vnd.databricks.v1+output": {
       "addedWidgets": {},
       "aggData": [],
       "aggError": "",
       "aggOverflow": false,
       "aggSchema": [],
       "aggSeriesLimitReached": false,
       "aggType": "",
       "arguments": {},
       "columnCustomDisplayInfos": {},
       "data": [
        [
         2,
         "2019-07-01",
         100,
         "mobile"
        ],
        [
         3,
         "2019-07-01",
         100,
         "desktop"
        ],
        [
         2,
         "2019-07-02",
         100,
         "mobile"
        ],
        [
         3,
         "2019-07-02",
         100,
         "desktop"
        ],
        [
         null,
         "2019-07-01",
         200,
         "both"
        ],
        [
         1,
         "2019-07-01",
         0,
         "both"
        ],
        [
         2,
         "2019-07-01",
         0,
         "both"
        ],
        [
         3,
         "2019-07-01",
         0,
         "both"
        ],
        [
         2,
         "2019-07-02",
         0,
         "both"
        ],
        [
         3,
         "2019-07-02",
         0,
         "both"
        ]
       ],
       "datasetInfos": [
        {
         "name": "_sqldf",
         "schema": {
          "fields": [
           {
            "metadata": {},
            "name": "user_id",
            "nullable": true,
            "type": "integer"
           },
           {
            "metadata": {},
            "name": "spend_date",
            "nullable": true,
            "type": "date"
           },
           {
            "metadata": {},
            "name": "amount",
            "nullable": true,
            "type": "long"
           },
           {
            "metadata": {},
            "name": "platform",
            "nullable": true,
            "type": "string"
           }
          ],
          "type": "struct"
         },
         "tableIdentifier": null,
         "typeStr": "pyspark.sql.connect.dataframe.DataFrame"
        }
       ],
       "dbfsResultPath": null,
       "isJsonSchema": true,
       "metadata": {
        "createTempViewForImplicitDf": true,
        "dataframeName": "_sqldf",
        "executionCount": 31
       },
       "overflow": false,
       "plotOptions": {
        "customPlotOptions": {},
        "displayType": "table",
        "pivotAggregation": null,
        "pivotColumns": null,
        "xColumns": null,
        "yColumns": null
       },
       "removedWidgets": [],
       "schema": [
        {
         "metadata": "{}",
         "name": "user_id",
         "type": "\"integer\""
        },
        {
         "metadata": "{}",
         "name": "spend_date",
         "type": "\"date\""
        },
        {
         "metadata": "{}",
         "name": "amount",
         "type": "\"long\""
        },
        {
         "metadata": "{}",
         "name": "platform",
         "type": "\"string\""
        }
       ],
       "type": "table"
      }
     },
     "output_type": "display_data"
    }
   ],
   "source": [
    "\n",
    "select\n",
    "user_id,\n",
    "spend_date,\n",
    "sum(amount) as amount,\n",
    "max(platform) as platform\n",
    "from \n",
    "spending\n",
    "group by user_id,spend_date\n",
    "having count(distinct platform)=1\n",
    "union all\n",
    "select\n",
    "null as user_id,\n",
    "spend_date,\n",
    "sum(amount) as amount,\n",
    "\"both\" as platform\n",
    "from \n",
    "spending\n",
    "group by user_id,spend_date\n",
    "having count(distinct platform)=2\n",
    "union all\n",
    "select\n",
    "distinct user_id,\n",
    " spend_date,\n",
    "0 as amount,\n",
    "\"both\" as platform\n",
    "from \n",
    "spending\n",
    "group by user_id,spend_date\n"
   ]
  },
  {
   "cell_type": "code",
   "execution_count": 0,
   "metadata": {
    "application/vnd.databricks.v1+cell": {
     "cellMetadata": {},
     "inputWidgets": {},
     "nuid": "7e56f882-ddb6-4af8-8ed3-3413cd385f67",
     "showTitle": false,
     "tableResultSettingsMap": {},
     "title": ""
    }
   },
   "outputs": [],
   "source": []
  },
  {
   "cell_type": "code",
   "execution_count": 0,
   "metadata": {
    "application/vnd.databricks.v1+cell": {
     "cellMetadata": {
      "byteLimit": 2048000,
      "rowLimit": 10000
     },
     "inputWidgets": {},
     "nuid": "57f0cb6b-7f53-4e18-9a63-3b0d6bb7a9d6",
     "showTitle": false,
     "tableResultSettingsMap": {},
     "title": ""
    }
   },
   "outputs": [
    {
     "output_type": "display_data",
     "data": {
      "text/html": [
       "<style scoped>\n",
       "  .table-result-container {\n",
       "    max-height: 300px;\n",
       "    overflow: auto;\n",
       "  }\n",
       "  table, th, td {\n",
       "    border: 1px solid black;\n",
       "    border-collapse: collapse;\n",
       "  }\n",
       "  th, td {\n",
       "    padding: 5px;\n",
       "  }\n",
       "  th {\n",
       "    text-align: left;\n",
       "  }\n",
       "</style><div class='table-result-container'><table class='table-result'><thead style='background-color: white'><tr><th>spend_date</th><th>platform</th><th>total_amount</th><th>total_users</th></tr></thead><tbody><tr><td>2019-07-01</td><td>mobile</td><td>100</td><td>1</td></tr><tr><td>2019-07-01</td><td>desktop</td><td>100</td><td>1</td></tr><tr><td>2019-07-01</td><td>both</td><td>200</td><td>1</td></tr><tr><td>2019-07-02</td><td>mobile</td><td>100</td><td>1</td></tr><tr><td>2019-07-02</td><td>desktop</td><td>100</td><td>1</td></tr><tr><td>2019-07-02</td><td>both</td><td>0</td><td>0</td></tr></tbody></table></div>"
      ]
     },
     "metadata": {
      "application/vnd.databricks.v1+output": {
       "addedWidgets": {},
       "aggData": [],
       "aggError": "",
       "aggOverflow": false,
       "aggSchema": [],
       "aggSeriesLimitReached": false,
       "aggType": "",
       "arguments": {},
       "columnCustomDisplayInfos": {},
       "data": [
        [
         "2019-07-01",
         "mobile",
         100,
         1
        ],
        [
         "2019-07-01",
         "desktop",
         100,
         1
        ],
        [
         "2019-07-01",
         "both",
         200,
         1
        ],
        [
         "2019-07-02",
         "mobile",
         100,
         1
        ],
        [
         "2019-07-02",
         "desktop",
         100,
         1
        ],
        [
         "2019-07-02",
         "both",
         0,
         0
        ]
       ],
       "datasetInfos": [
        {
         "name": "_sqldf",
         "schema": {
          "fields": [
           {
            "metadata": {},
            "name": "spend_date",
            "nullable": true,
            "type": "date"
           },
           {
            "metadata": {},
            "name": "platform",
            "nullable": true,
            "type": "string"
           },
           {
            "metadata": {},
            "name": "total_amount",
            "nullable": true,
            "type": "long"
           },
           {
            "metadata": {},
            "name": "total_users",
            "nullable": false,
            "type": "long"
           }
          ],
          "type": "struct"
         },
         "tableIdentifier": null,
         "typeStr": "pyspark.sql.connect.dataframe.DataFrame"
        }
       ],
       "dbfsResultPath": null,
       "isJsonSchema": true,
       "metadata": {
        "createTempViewForImplicitDf": true,
        "dataframeName": "_sqldf",
        "executionCount": 27
       },
       "overflow": false,
       "plotOptions": {
        "customPlotOptions": {},
        "displayType": "table",
        "pivotAggregation": null,
        "pivotColumns": null,
        "xColumns": null,
        "yColumns": null
       },
       "removedWidgets": [],
       "schema": [
        {
         "metadata": "{}",
         "name": "spend_date",
         "type": "\"date\""
        },
        {
         "metadata": "{}",
         "name": "platform",
         "type": "\"string\""
        },
        {
         "metadata": "{}",
         "name": "total_amount",
         "type": "\"long\""
        },
        {
         "metadata": "{}",
         "name": "total_users",
         "type": "\"long\""
        }
       ],
       "type": "table"
      }
     },
     "output_type": "display_data"
    }
   ],
   "source": [
    "\n",
    "with all_spend as (\n",
    "    select spend_date, user_id, max(platform) as platform, sum(amount) as amount from spending\n",
    "    group by spend_date, user_id having count(distinct platform) = 1\n",
    "    union all\n",
    "    select spend_date, user_id, 'both' as platform, sum(amount) as amount from spending\n",
    "    group by spend_date, user_id having count(distinct platform) = 2\n",
    "    union all\n",
    "    select distinct spend_date, null as user_id, 'both' as platform, 0 as amount from spending\n",
    ")\n",
    "select spend_date, platform, sum(amount) as total_amount, count(distinct user_id) as total_users\n",
    "from all_spend\n",
    "group by spend_date, platform\n",
    "order by spend_date, platform desc\n"
   ]
  },
  {
   "cell_type": "code",
   "execution_count": 0,
   "metadata": {
    "application/vnd.databricks.v1+cell": {
     "cellMetadata": {
      "byteLimit": 2048000,
      "rowLimit": 10000
     },
     "inputWidgets": {},
     "nuid": "13ca2cf5-d0aa-4ce3-ad75-06aa483707c5",
     "showTitle": false,
     "tableResultSettingsMap": {},
     "title": ""
    }
   },
   "outputs": [
    {
     "output_type": "display_data",
     "data": {
      "text/html": [
       "<style scoped>\n",
       "  .table-result-container {\n",
       "    max-height: 300px;\n",
       "    overflow: auto;\n",
       "  }\n",
       "  table, th, td {\n",
       "    border: 1px solid black;\n",
       "    border-collapse: collapse;\n",
       "  }\n",
       "  th, td {\n",
       "    padding: 5px;\n",
       "  }\n",
       "  th {\n",
       "    text-align: left;\n",
       "  }\n",
       "</style><div class='table-result-container'><table class='table-result'><thead style='background-color: white'><tr><th>spend_date</th><th>platform</th><th>total_amount</th><th>total_users</th></tr></thead><tbody><tr><td>2019-07-01</td><td>mobile</td><td>300</td><td>2</td></tr><tr><td>2019-07-01</td><td>desktop</td><td>100</td><td>1</td></tr><tr><td>2019-07-01</td><td>both</td><td>0</td><td>0</td></tr><tr><td>2019-07-02</td><td>mobile</td><td>100</td><td>1</td></tr><tr><td>2019-07-02</td><td>desktop</td><td>100</td><td>1</td></tr><tr><td>2019-07-02</td><td>both</td><td>0</td><td>0</td></tr></tbody></table></div>"
      ]
     },
     "metadata": {
      "application/vnd.databricks.v1+output": {
       "addedWidgets": {},
       "aggData": [],
       "aggError": "",
       "aggOverflow": false,
       "aggSchema": [],
       "aggSeriesLimitReached": false,
       "aggType": "",
       "arguments": {},
       "columnCustomDisplayInfos": {},
       "data": [
        [
         "2019-07-01",
         "mobile",
         300,
         2
        ],
        [
         "2019-07-01",
         "desktop",
         100,
         1
        ],
        [
         "2019-07-01",
         "both",
         0,
         0
        ],
        [
         "2019-07-02",
         "mobile",
         100,
         1
        ],
        [
         "2019-07-02",
         "desktop",
         100,
         1
        ],
        [
         "2019-07-02",
         "both",
         0,
         0
        ]
       ],
       "datasetInfos": [
        {
         "name": "_sqldf",
         "schema": {
          "fields": [
           {
            "metadata": {},
            "name": "spend_date",
            "nullable": true,
            "type": "date"
           },
           {
            "metadata": {},
            "name": "platform",
            "nullable": true,
            "type": "string"
           },
           {
            "metadata": {},
            "name": "total_amount",
            "nullable": true,
            "type": "long"
           },
           {
            "metadata": {},
            "name": "total_users",
            "nullable": false,
            "type": "long"
           }
          ],
          "type": "struct"
         },
         "tableIdentifier": null,
         "typeStr": "pyspark.sql.connect.dataframe.DataFrame"
        }
       ],
       "dbfsResultPath": null,
       "isJsonSchema": true,
       "metadata": {
        "createTempViewForImplicitDf": true,
        "dataframeName": "_sqldf",
        "executionCount": 33
       },
       "overflow": false,
       "plotOptions": {
        "customPlotOptions": {},
        "displayType": "table",
        "pivotAggregation": null,
        "pivotColumns": null,
        "xColumns": null,
        "yColumns": null
       },
       "removedWidgets": [],
       "schema": [
        {
         "metadata": "{}",
         "name": "spend_date",
         "type": "\"date\""
        },
        {
         "metadata": "{}",
         "name": "platform",
         "type": "\"string\""
        },
        {
         "metadata": "{}",
         "name": "total_amount",
         "type": "\"long\""
        },
        {
         "metadata": "{}",
         "name": "total_users",
         "type": "\"long\""
        }
       ],
       "type": "table"
      }
     },
     "output_type": "display_data"
    }
   ],
   "source": [
    "with cte as (\n",
    "select spend_date, user_id, max(platform) as platform, sum(amount) as amount from spending\n",
    "    group by spend_date, user_id having count(distinct platform) = 1\n",
    "    union all\n",
    "  select spend_date, user_id, max(platform) as platform, sum(amount) as amount from spending\n",
    "    group by spend_date, user_id having count(distinct platform) = 2\n",
    "    union all\n",
    "  select distinct spend_date, null as user_id, 'both' as platform, 0 as amount from spending\n",
    ")\n",
    "select spend_date, platform, sum(amount) as total_amount, count(distinct user_id) as total_users\n",
    "from cte\n",
    "group by spend_date, platform\n",
    "order by spend_date, platform desc;\n",
    "\n"
   ]
  },
  {
   "cell_type": "code",
   "execution_count": 0,
   "metadata": {
    "application/vnd.databricks.v1+cell": {
     "cellMetadata": {
      "byteLimit": 2048000,
      "rowLimit": 10000
     },
     "inputWidgets": {},
     "nuid": "917f4f37-b03d-4b20-9e54-2bb7c2a7c4c9",
     "showTitle": false,
     "tableResultSettingsMap": {},
     "title": ""
    }
   },
   "outputs": [
    {
     "output_type": "display_data",
     "data": {
      "text/html": [
       "<style scoped>\n",
       "  .table-result-container {\n",
       "    max-height: 300px;\n",
       "    overflow: auto;\n",
       "  }\n",
       "  table, th, td {\n",
       "    border: 1px solid black;\n",
       "    border-collapse: collapse;\n",
       "  }\n",
       "  th, td {\n",
       "    padding: 5px;\n",
       "  }\n",
       "  th {\n",
       "    text-align: left;\n",
       "  }\n",
       "</style><div class='table-result-container'><table class='table-result'><thead style='background-color: white'><tr><th>num_affected_rows</th><th>num_inserted_rows</th></tr></thead><tbody><tr><td>6</td><td>6</td></tr></tbody></table></div>"
      ]
     },
     "metadata": {
      "application/vnd.databricks.v1+output": {
       "addedWidgets": {},
       "aggData": [],
       "aggError": "",
       "aggOverflow": false,
       "aggSchema": [],
       "aggSeriesLimitReached": false,
       "aggType": "",
       "arguments": {},
       "columnCustomDisplayInfos": {},
       "data": [
        [
         6,
         6
        ]
       ],
       "datasetInfos": [
        {
         "name": "_sqldf",
         "schema": {
          "fields": [
           {
            "metadata": {},
            "name": "num_affected_rows",
            "nullable": true,
            "type": "long"
           },
           {
            "metadata": {},
            "name": "num_inserted_rows",
            "nullable": true,
            "type": "long"
           }
          ],
          "type": "struct"
         },
         "tableIdentifier": null,
         "typeStr": "pyspark.sql.connect.dataframe.DataFrame"
        }
       ],
       "dbfsResultPath": null,
       "isJsonSchema": true,
       "metadata": {
        "createTempViewForImplicitDf": true,
        "dataframeName": "_sqldf",
        "executionCount": 1
       },
       "overflow": false,
       "plotOptions": {
        "customPlotOptions": {},
        "displayType": "table",
        "pivotAggregation": null,
        "pivotColumns": null,
        "xColumns": null,
        "yColumns": null
       },
       "removedWidgets": [],
       "schema": [
        {
         "metadata": "{}",
         "name": "num_affected_rows",
         "type": "\"long\""
        },
        {
         "metadata": "{}",
         "name": "num_inserted_rows",
         "type": "\"long\""
        }
       ],
       "type": "table"
      }
     },
     "output_type": "display_data"
    }
   ],
   "source": [
    "\n",
    "drop table if exists spending;\n",
    "create table spending \n",
    "(\n",
    "user_id int,\n",
    "spend_date date,\n",
    "platform varchar(10),\n",
    "amount int\n",
    ");\n",
    "\n",
    "insert into spending values(1,'2019-07-01','mobile',100),(1,'2019-07-01','desktop',100),(2,'2019-07-01','mobile',100)\n",
    ",(2,'2019-07-02','mobile',100),(3,'2019-07-01','desktop',100),(3,'2019-07-02','desktop',100);\n"
   ]
  },
  {
   "cell_type": "code",
   "execution_count": 0,
   "metadata": {
    "application/vnd.databricks.v1+cell": {
     "cellMetadata": {
      "byteLimit": 2048000,
      "rowLimit": 10000
     },
     "inputWidgets": {},
     "nuid": "d0dad427-a964-4e86-9d16-452008407ba3",
     "showTitle": false,
     "tableResultSettingsMap": {},
     "title": ""
    }
   },
   "outputs": [
    {
     "output_type": "display_data",
     "data": {
      "text/html": [
       "<style scoped>\n",
       "  .table-result-container {\n",
       "    max-height: 300px;\n",
       "    overflow: auto;\n",
       "  }\n",
       "  table, th, td {\n",
       "    border: 1px solid black;\n",
       "    border-collapse: collapse;\n",
       "  }\n",
       "  th, td {\n",
       "    padding: 5px;\n",
       "  }\n",
       "  th {\n",
       "    text-align: left;\n",
       "  }\n",
       "</style><div class='table-result-container'><table class='table-result'><thead style='background-color: white'><tr><th>user_id</th><th>spend_date</th><th>platform</th><th>amount</th></tr></thead><tbody><tr><td>1</td><td>2019-07-01</td><td>mobile</td><td>100</td></tr><tr><td>1</td><td>2019-07-01</td><td>desktop</td><td>100</td></tr><tr><td>2</td><td>2019-07-01</td><td>mobile</td><td>100</td></tr><tr><td>2</td><td>2019-07-02</td><td>mobile</td><td>100</td></tr><tr><td>3</td><td>2019-07-01</td><td>desktop</td><td>100</td></tr><tr><td>3</td><td>2019-07-02</td><td>desktop</td><td>100</td></tr></tbody></table></div>"
      ]
     },
     "metadata": {
      "application/vnd.databricks.v1+output": {
       "addedWidgets": {},
       "aggData": [],
       "aggError": "",
       "aggOverflow": false,
       "aggSchema": [],
       "aggSeriesLimitReached": false,
       "aggType": "",
       "arguments": {},
       "columnCustomDisplayInfos": {},
       "data": [
        [
         1,
         "2019-07-01",
         "mobile",
         100
        ],
        [
         1,
         "2019-07-01",
         "desktop",
         100
        ],
        [
         2,
         "2019-07-01",
         "mobile",
         100
        ],
        [
         2,
         "2019-07-02",
         "mobile",
         100
        ],
        [
         3,
         "2019-07-01",
         "desktop",
         100
        ],
        [
         3,
         "2019-07-02",
         "desktop",
         100
        ]
       ],
       "datasetInfos": [
        {
         "name": "_sqldf",
         "schema": {
          "fields": [
           {
            "metadata": {},
            "name": "user_id",
            "nullable": true,
            "type": "integer"
           },
           {
            "metadata": {},
            "name": "spend_date",
            "nullable": true,
            "type": "date"
           },
           {
            "metadata": {
             "__CHAR_VARCHAR_TYPE_STRING": "varchar(10)"
            },
            "name": "platform",
            "nullable": true,
            "type": "string"
           },
           {
            "metadata": {},
            "name": "amount",
            "nullable": true,
            "type": "integer"
           }
          ],
          "type": "struct"
         },
         "tableIdentifier": null,
         "typeStr": "pyspark.sql.connect.dataframe.DataFrame"
        }
       ],
       "dbfsResultPath": null,
       "isJsonSchema": true,
       "metadata": {
        "createTempViewForImplicitDf": true,
        "dataframeName": "_sqldf",
        "executionCount": 3
       },
       "overflow": false,
       "plotOptions": {
        "customPlotOptions": {},
        "displayType": "table",
        "pivotAggregation": null,
        "pivotColumns": null,
        "xColumns": null,
        "yColumns": null
       },
       "removedWidgets": [],
       "schema": [
        {
         "metadata": "{}",
         "name": "user_id",
         "type": "\"integer\""
        },
        {
         "metadata": "{}",
         "name": "spend_date",
         "type": "\"date\""
        },
        {
         "metadata": "{\"__CHAR_VARCHAR_TYPE_STRING\": \"varchar(10)\"}",
         "name": "platform",
         "type": "\"string\""
        },
        {
         "metadata": "{}",
         "name": "amount",
         "type": "\"integer\""
        }
       ],
       "type": "table"
      }
     },
     "output_type": "display_data"
    }
   ],
   "source": [
    "select * from spending;"
   ]
  },
  {
   "cell_type": "code",
   "execution_count": 0,
   "metadata": {
    "application/vnd.databricks.v1+cell": {
     "cellMetadata": {
      "byteLimit": 2048000,
      "rowLimit": 10000
     },
     "inputWidgets": {},
     "nuid": "dec2b843-abb2-49e3-8a5f-d8672fcf1471",
     "showTitle": false,
     "tableResultSettingsMap": {
      "0": {
       "dataGridStateBlob": "{\"version\":1,\"tableState\":{\"columnPinning\":{\"left\":[\"#row_number#\"],\"right\":[]},\"columnSizing\":{},\"columnVisibility\":{}},\"settings\":{\"columns\":{}},\"syncTimestamp\":1760637958421}",
       "filterBlob": null,
       "queryPlanFiltersBlob": null,
       "tableResultIndex": 0
      }
     },
     "title": ""
    }
   },
   "outputs": [
    {
     "output_type": "display_data",
     "data": {
      "text/html": [
       "<style scoped>\n",
       "  .table-result-container {\n",
       "    max-height: 300px;\n",
       "    overflow: auto;\n",
       "  }\n",
       "  table, th, td {\n",
       "    border: 1px solid black;\n",
       "    border-collapse: collapse;\n",
       "  }\n",
       "  th, td {\n",
       "    padding: 5px;\n",
       "  }\n",
       "  th {\n",
       "    text-align: left;\n",
       "  }\n",
       "</style><div class='table-result-container'><table class='table-result'><thead style='background-color: white'><tr><th>spend_date</th><th>user_id</th><th>total_amount</th><th>max(platform)</th></tr></thead><tbody><tr><td>2019-07-02</td><td>2</td><td>100</td><td>mobile</td></tr><tr><td>2019-07-01</td><td>2</td><td>100</td><td>mobile</td></tr><tr><td>2019-07-01</td><td>3</td><td>100</td><td>desktop</td></tr><tr><td>2019-07-02</td><td>3</td><td>100</td><td>desktop</td></tr><tr><td>2019-07-01</td><td>1</td><td>200</td><td>both</td></tr><tr><td>2019-07-01</td><td>null</td><td>0</td><td>both</td></tr><tr><td>2019-07-01</td><td>null</td><td>0</td><td>both</td></tr><tr><td>2019-07-01</td><td>null</td><td>0</td><td>both</td></tr><tr><td>2019-07-02</td><td>null</td><td>0</td><td>both</td></tr><tr><td>2019-07-01</td><td>null</td><td>0</td><td>both</td></tr><tr><td>2019-07-02</td><td>null</td><td>0</td><td>both</td></tr></tbody></table></div>"
      ]
     },
     "metadata": {
      "application/vnd.databricks.v1+output": {
       "addedWidgets": {},
       "aggData": [],
       "aggError": "",
       "aggOverflow": false,
       "aggSchema": [],
       "aggSeriesLimitReached": false,
       "aggType": "",
       "arguments": {},
       "columnCustomDisplayInfos": {},
       "data": [
        [
         "2019-07-02",
         2,
         100,
         "mobile"
        ],
        [
         "2019-07-01",
         2,
         100,
         "mobile"
        ],
        [
         "2019-07-01",
         3,
         100,
         "desktop"
        ],
        [
         "2019-07-02",
         3,
         100,
         "desktop"
        ],
        [
         "2019-07-01",
         1,
         200,
         "both"
        ],
        [
         "2019-07-01",
         null,
         0,
         "both"
        ],
        [
         "2019-07-01",
         null,
         0,
         "both"
        ],
        [
         "2019-07-01",
         null,
         0,
         "both"
        ],
        [
         "2019-07-02",
         null,
         0,
         "both"
        ],
        [
         "2019-07-01",
         null,
         0,
         "both"
        ],
        [
         "2019-07-02",
         null,
         0,
         "both"
        ]
       ],
       "datasetInfos": [
        {
         "name": "_sqldf",
         "schema": {
          "fields": [
           {
            "metadata": {},
            "name": "spend_date",
            "nullable": true,
            "type": "date"
           },
           {
            "metadata": {},
            "name": "user_id",
            "nullable": true,
            "type": "integer"
           },
           {
            "metadata": {},
            "name": "total_amount",
            "nullable": true,
            "type": "long"
           },
           {
            "metadata": {},
            "name": "max(platform)",
            "nullable": true,
            "type": "string"
           }
          ],
          "type": "struct"
         },
         "tableIdentifier": null,
         "typeStr": "pyspark.sql.connect.dataframe.DataFrame"
        }
       ],
       "dbfsResultPath": null,
       "isJsonSchema": true,
       "metadata": {
        "createTempViewForImplicitDf": true,
        "dataframeName": "_sqldf",
        "executionCount": 11
       },
       "overflow": false,
       "plotOptions": {
        "customPlotOptions": {},
        "displayType": "table",
        "pivotAggregation": null,
        "pivotColumns": null,
        "xColumns": null,
        "yColumns": null
       },
       "removedWidgets": [],
       "schema": [
        {
         "metadata": "{}",
         "name": "spend_date",
         "type": "\"date\""
        },
        {
         "metadata": "{}",
         "name": "user_id",
         "type": "\"integer\""
        },
        {
         "metadata": "{}",
         "name": "total_amount",
         "type": "\"long\""
        },
        {
         "metadata": "{}",
         "name": "max(platform)",
         "type": "\"string\""
        }
       ],
       "type": "table"
      }
     },
     "output_type": "display_data"
    }
   ],
   "source": [
    "select spend_date, user_id,sum(amount) as total_amount,max(platform) from spending group by spend_date,user_id\n",
    " having count(distinct platform)=1\n",
    " union all\n",
    "select spend_date,user_id,sum(amount) as total_amount,'both' as platform from spending group by spend_date,user_id\n",
    " having count(distinct platform)=2\n",
    " union all\n",
    " select spend_date,null as user_id,0 as total_amount,'both' as platform from spending"
   ]
  },
  {
   "cell_type": "code",
   "execution_count": 0,
   "metadata": {
    "application/vnd.databricks.v1+cell": {
     "cellMetadata": {
      "byteLimit": 2048000,
      "rowLimit": 10000
     },
     "inputWidgets": {},
     "nuid": "2bc0d375-0d2f-45a2-a1ac-455509f353da",
     "showTitle": false,
     "tableResultSettingsMap": {},
     "title": ""
    }
   },
   "outputs": [
    {
     "output_type": "display_data",
     "data": {
      "text/html": [
       "<style scoped>\n",
       "  .table-result-container {\n",
       "    max-height: 300px;\n",
       "    overflow: auto;\n",
       "  }\n",
       "  table, th, td {\n",
       "    border: 1px solid black;\n",
       "    border-collapse: collapse;\n",
       "  }\n",
       "  th, td {\n",
       "    padding: 5px;\n",
       "  }\n",
       "  th {\n",
       "    text-align: left;\n",
       "  }\n",
       "</style><div class='table-result-container'><table class='table-result'><thead style='background-color: white'><tr><th>spend_date</th><th>total_users</th><th>platform</th><th>total_amount</th></tr></thead><tbody><tr><td>2019-07-01</td><td>1</td><td>mobile</td><td>100</td></tr><tr><td>2019-07-01</td><td>1</td><td>desktop</td><td>100</td></tr><tr><td>2019-07-01</td><td>1</td><td>both</td><td>200</td></tr><tr><td>2019-07-02</td><td>0</td><td>both</td><td>0</td></tr><tr><td>2019-07-02</td><td>1</td><td>mobile</td><td>100</td></tr><tr><td>2019-07-02</td><td>1</td><td>desktop</td><td>100</td></tr></tbody></table></div>"
      ]
     },
     "metadata": {
      "application/vnd.databricks.v1+output": {
       "addedWidgets": {},
       "aggData": [],
       "aggError": "",
       "aggOverflow": false,
       "aggSchema": [],
       "aggSeriesLimitReached": false,
       "aggType": "",
       "arguments": {},
       "columnCustomDisplayInfos": {},
       "data": [
        [
         "2019-07-01",
         1,
         "mobile",
         100
        ],
        [
         "2019-07-01",
         1,
         "desktop",
         100
        ],
        [
         "2019-07-01",
         1,
         "both",
         200
        ],
        [
         "2019-07-02",
         0,
         "both",
         0
        ],
        [
         "2019-07-02",
         1,
         "mobile",
         100
        ],
        [
         "2019-07-02",
         1,
         "desktop",
         100
        ]
       ],
       "datasetInfos": [
        {
         "name": "_sqldf",
         "schema": {
          "fields": [
           {
            "metadata": {},
            "name": "spend_date",
            "nullable": true,
            "type": "date"
           },
           {
            "metadata": {},
            "name": "total_users",
            "nullable": false,
            "type": "long"
           },
           {
            "metadata": {},
            "name": "platform",
            "nullable": true,
            "type": "string"
           },
           {
            "metadata": {},
            "name": "total_amount",
            "nullable": true,
            "type": "long"
           }
          ],
          "type": "struct"
         },
         "tableIdentifier": null,
         "typeStr": "pyspark.sql.connect.dataframe.DataFrame"
        }
       ],
       "dbfsResultPath": null,
       "isJsonSchema": true,
       "metadata": {
        "createTempViewForImplicitDf": true,
        "dataframeName": "_sqldf",
        "executionCount": 28
       },
       "overflow": false,
       "plotOptions": {
        "customPlotOptions": {},
        "displayType": "table",
        "pivotAggregation": null,
        "pivotColumns": null,
        "xColumns": null,
        "yColumns": null
       },
       "removedWidgets": [],
       "schema": [
        {
         "metadata": "{}",
         "name": "spend_date",
         "type": "\"date\""
        },
        {
         "metadata": "{}",
         "name": "total_users",
         "type": "\"long\""
        },
        {
         "metadata": "{}",
         "name": "platform",
         "type": "\"string\""
        },
        {
         "metadata": "{}",
         "name": "total_amount",
         "type": "\"long\""
        }
       ],
       "type": "table"
      }
     },
     "output_type": "display_data"
    }
   ],
   "source": [
    "with cte as\n",
    "(\n",
    "select spend_date, user_id,sum(amount) as total_amount,max(platform) as platform from spending group by spend_date,user_id\n",
    " having count(distinct platform)=1\n",
    " union all\n",
    "select spend_date,user_id,sum(amount) as total_amount,'both' as platform from spending group by spend_date,user_id\n",
    " having count(distinct platform)=2\n",
    " union all\n",
    " select spend_date,null as user_id,0 as total_amount,'both' as platform from spending)\n",
    "\n",
    " select \n",
    " spend_date,\n",
    " count(distinct user_id ) as total_users,\n",
    " platform,\n",
    " sum(total_amount)as total_amount\n",
    " from cte\n",
    " group by spend_date,platform\n",
    " order by spend_date"
   ]
  },
  {
   "cell_type": "code",
   "execution_count": 0,
   "metadata": {
    "application/vnd.databricks.v1+cell": {
     "cellMetadata": {},
     "inputWidgets": {},
     "nuid": "fb034091-4f4b-4849-8469-bf2d0563be91",
     "showTitle": false,
     "tableResultSettingsMap": {},
     "title": ""
    }
   },
   "outputs": [],
   "source": []
  }
 ],
 "metadata": {
  "application/vnd.databricks.v1+notebook": {
   "computePreferences": {
    "hardware": {
     "accelerator": null,
     "gpuPoolId": null,
     "memory": null
    }
   },
   "dashboards": [],
   "environmentMetadata": {
    "base_environment": "",
    "environment_version": "4"
   },
   "inputWidgetPreferences": null,
   "language": "sql",
   "notebookMetadata": {
    "pythonIndentUnit": 4
   },
   "notebookName": "UserPurchasePlatform",
   "widgets": {}
  },
  "language_info": {
   "name": "sql"
  }
 },
 "nbformat": 4,
 "nbformat_minor": 0
}