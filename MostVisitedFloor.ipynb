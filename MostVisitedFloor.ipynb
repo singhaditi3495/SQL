{
 "cells": [
  {
   "cell_type": "markdown",
   "metadata": {
    "application/vnd.databricks.v1+cell": {
     "cellMetadata": {},
     "inputWidgets": {},
     "nuid": "d0078557-16da-4e4a-8b78-b5d8f91b0e03",
     "showTitle": false,
     "tableResultSettingsMap": {},
     "title": ""
    }
   },
   "source": [
    "# Find the Most Visited Floor"
   ]
  },
  {
   "cell_type": "code",
   "execution_count": 0,
   "metadata": {
    "application/vnd.databricks.v1+cell": {
     "cellMetadata": {
      "byteLimit": 2048000,
      "implicitDf": true,
      "rowLimit": 10000
     },
     "inputWidgets": {},
     "nuid": "e9ecd298-84f3-4e1b-bc17-6c0b3938d3b0",
     "showTitle": false,
     "tableResultSettingsMap": {},
     "title": ""
    }
   },
   "outputs": [
    {
     "output_type": "display_data",
     "data": {
      "text/html": [
       "<style scoped>\n",
       "  .table-result-container {\n",
       "    max-height: 300px;\n",
       "    overflow: auto;\n",
       "  }\n",
       "  table, th, td {\n",
       "    border: 1px solid black;\n",
       "    border-collapse: collapse;\n",
       "  }\n",
       "  th, td {\n",
       "    padding: 5px;\n",
       "  }\n",
       "  th {\n",
       "    text-align: left;\n",
       "  }\n",
       "</style><div class='table-result-container'><table class='table-result'><thead style='background-color: white'><tr><th>name</th><th>address</th><th>email</th><th>floor</th><th>resources</th></tr></thead><tbody><tr><td>A</td><td>Bangalore</td><td>A@gmail.com</td><td>1</td><td>CPU</td></tr><tr><td>A</td><td>Bangalore</td><td>A1@gmail.com</td><td>1</td><td>CPU</td></tr><tr><td>A</td><td>Bangalore</td><td>A2@gmail.com</td><td>2</td><td>DESKTOP</td></tr><tr><td>B</td><td>Bangalore</td><td>B@gmail.com</td><td>2</td><td>DESKTOP</td></tr><tr><td>B</td><td>Bangalore</td><td>B1@gmail.com</td><td>2</td><td>DESKTOP</td></tr><tr><td>B</td><td>Bangalore</td><td>B2@gmail.com</td><td>1</td><td>MONITOR</td></tr></tbody></table></div>"
      ]
     },
     "metadata": {
      "application/vnd.databricks.v1+output": {
       "addedWidgets": {},
       "aggData": [],
       "aggError": "",
       "aggOverflow": false,
       "aggSchema": [],
       "aggSeriesLimitReached": false,
       "aggType": "",
       "arguments": {},
       "columnCustomDisplayInfos": {},
       "data": [
        [
         "A",
         "Bangalore",
         "A@gmail.com",
         1,
         "CPU"
        ],
        [
         "A",
         "Bangalore",
         "A1@gmail.com",
         1,
         "CPU"
        ],
        [
         "A",
         "Bangalore",
         "A2@gmail.com",
         2,
         "DESKTOP"
        ],
        [
         "B",
         "Bangalore",
         "B@gmail.com",
         2,
         "DESKTOP"
        ],
        [
         "B",
         "Bangalore",
         "B1@gmail.com",
         2,
         "DESKTOP"
        ],
        [
         "B",
         "Bangalore",
         "B2@gmail.com",
         1,
         "MONITOR"
        ]
       ],
       "datasetInfos": [
        {
         "name": "_sqldf",
         "schema": {
          "fields": [
           {
            "metadata": {
             "__CHAR_VARCHAR_TYPE_STRING": "varchar(20)"
            },
            "name": "name",
            "nullable": true,
            "type": "string"
           },
           {
            "metadata": {
             "__CHAR_VARCHAR_TYPE_STRING": "varchar(20)"
            },
            "name": "address",
            "nullable": true,
            "type": "string"
           },
           {
            "metadata": {
             "__CHAR_VARCHAR_TYPE_STRING": "varchar(20)"
            },
            "name": "email",
            "nullable": true,
            "type": "string"
           },
           {
            "metadata": {},
            "name": "floor",
            "nullable": true,
            "type": "integer"
           },
           {
            "metadata": {
             "__CHAR_VARCHAR_TYPE_STRING": "varchar(10)"
            },
            "name": "resources",
            "nullable": true,
            "type": "string"
           }
          ],
          "type": "struct"
         },
         "tableIdentifier": null,
         "typeStr": "pyspark.sql.connect.dataframe.DataFrame"
        }
       ],
       "dbfsResultPath": null,
       "isJsonSchema": true,
       "metadata": {
        "createTempViewForImplicitDf": true,
        "dataframeName": "_sqldf",
        "executionCount": 2
       },
       "overflow": false,
       "plotOptions": {
        "customPlotOptions": {},
        "displayType": "table",
        "pivotAggregation": null,
        "pivotColumns": null,
        "xColumns": null,
        "yColumns": null
       },
       "removedWidgets": [],
       "schema": [
        {
         "metadata": "{\"__CHAR_VARCHAR_TYPE_STRING\": \"varchar(20)\"}",
         "name": "name",
         "type": "\"string\""
        },
        {
         "metadata": "{\"__CHAR_VARCHAR_TYPE_STRING\": \"varchar(20)\"}",
         "name": "address",
         "type": "\"string\""
        },
        {
         "metadata": "{\"__CHAR_VARCHAR_TYPE_STRING\": \"varchar(20)\"}",
         "name": "email",
         "type": "\"string\""
        },
        {
         "metadata": "{}",
         "name": "floor",
         "type": "\"integer\""
        },
        {
         "metadata": "{\"__CHAR_VARCHAR_TYPE_STRING\": \"varchar(10)\"}",
         "name": "resources",
         "type": "\"string\""
        }
       ],
       "type": "table"
      }
     },
     "output_type": "display_data"
    }
   ],
   "source": [
    "%sql\n",
    "create table entries ( \n",
    "name varchar(20),\n",
    "address varchar(20),\n",
    "email varchar(20),\n",
    "floor int,\n",
    "resources varchar(10));\n",
    "\n",
    "insert into entries \n",
    "values ('A','Bangalore','A@gmail.com',1,'CPU'),('A','Bangalore','A1@gmail.com',1,'CPU'),('A','Bangalore','A2@gmail.com',2,'DESKTOP')\n",
    ",('B','Bangalore','B@gmail.com',2,'DESKTOP'),('B','Bangalore','B1@gmail.com',2,'DESKTOP'),('B','Bangalore','B2@gmail.com',1,'MONITOR');\n",
    "\n",
    "select * from entries;"
   ]
  },
  {
   "cell_type": "code",
   "execution_count": 0,
   "metadata": {
    "application/vnd.databricks.v1+cell": {
     "cellMetadata": {
      "byteLimit": 2048000,
      "implicitDf": true,
      "rowLimit": 10000
     },
     "inputWidgets": {},
     "nuid": "4122f1fd-4fbc-4c31-bd16-834b53a45555",
     "showTitle": false,
     "tableResultSettingsMap": {},
     "title": ""
    }
   },
   "outputs": [
    {
     "output_type": "display_data",
     "data": {
      "text/html": [
       "<style scoped>\n",
       "  .table-result-container {\n",
       "    max-height: 300px;\n",
       "    overflow: auto;\n",
       "  }\n",
       "  table, th, td {\n",
       "    border: 1px solid black;\n",
       "    border-collapse: collapse;\n",
       "  }\n",
       "  th, td {\n",
       "    padding: 5px;\n",
       "  }\n",
       "  th {\n",
       "    text-align: left;\n",
       "  }\n",
       "</style><div class='table-result-container'><table class='table-result'><thead style='background-color: white'><tr><th>name</th><th>floor</th><th>total_visits</th><th>rn</th></tr></thead><tbody><tr><td>A</td><td>1</td><td>2</td><td>1</td></tr><tr><td>A</td><td>2</td><td>1</td><td>2</td></tr><tr><td>B</td><td>2</td><td>2</td><td>1</td></tr><tr><td>B</td><td>1</td><td>1</td><td>2</td></tr></tbody></table></div>"
      ]
     },
     "metadata": {
      "application/vnd.databricks.v1+output": {
       "addedWidgets": {},
       "aggData": [],
       "aggError": "",
       "aggOverflow": false,
       "aggSchema": [],
       "aggSeriesLimitReached": false,
       "aggType": "",
       "arguments": {},
       "columnCustomDisplayInfos": {},
       "data": [
        [
         "A",
         1,
         2,
         1
        ],
        [
         "A",
         2,
         1,
         2
        ],
        [
         "B",
         2,
         2,
         1
        ],
        [
         "B",
         1,
         1,
         2
        ]
       ],
       "datasetInfos": [
        {
         "name": "_sqldf",
         "schema": {
          "fields": [
           {
            "metadata": {
             "__CHAR_VARCHAR_TYPE_STRING": "varchar(20)"
            },
            "name": "name",
            "nullable": true,
            "type": "string"
           },
           {
            "metadata": {},
            "name": "floor",
            "nullable": true,
            "type": "integer"
           },
           {
            "metadata": {},
            "name": "total_visits",
            "nullable": false,
            "type": "long"
           },
           {
            "metadata": {},
            "name": "rn",
            "nullable": false,
            "type": "integer"
           }
          ],
          "type": "struct"
         },
         "tableIdentifier": null,
         "typeStr": "pyspark.sql.connect.dataframe.DataFrame"
        }
       ],
       "dbfsResultPath": null,
       "isJsonSchema": true,
       "metadata": {
        "createTempViewForImplicitDf": true,
        "dataframeName": "_sqldf",
        "executionCount": 11
       },
       "overflow": false,
       "plotOptions": {
        "customPlotOptions": {},
        "displayType": "table",
        "pivotAggregation": null,
        "pivotColumns": null,
        "xColumns": null,
        "yColumns": null
       },
       "removedWidgets": [],
       "schema": [
        {
         "metadata": "{\"__CHAR_VARCHAR_TYPE_STRING\": \"varchar(20)\"}",
         "name": "name",
         "type": "\"string\""
        },
        {
         "metadata": "{}",
         "name": "floor",
         "type": "\"integer\""
        },
        {
         "metadata": "{}",
         "name": "total_visits",
         "type": "\"long\""
        },
        {
         "metadata": "{}",
         "name": "rn",
         "type": "\"integer\""
        }
       ],
       "type": "table"
      }
     },
     "output_type": "display_data"
    }
   ],
   "source": [
    "%sql\n",
    "\n",
    "\n",
    "select\n",
    "name,\n",
    "floor,\n",
    "count(1) as total_visits,\n",
    "rank() over(partition by name order by count(1) desc) as rn\n",
    "from entries\n",
    "group by name,floor;"
   ]
  },
  {
   "cell_type": "code",
   "execution_count": 0,
   "metadata": {
    "application/vnd.databricks.v1+cell": {
     "cellMetadata": {
      "byteLimit": 2048000,
      "implicitDf": true,
      "rowLimit": 10000
     },
     "inputWidgets": {},
     "nuid": "a529c9be-5321-4ea0-ad77-e90b85f1dce0",
     "showTitle": false,
     "tableResultSettingsMap": {},
     "title": ""
    }
   },
   "outputs": [
    {
     "output_type": "display_data",
     "data": {
      "text/html": [
       "<style scoped>\n",
       "  .table-result-container {\n",
       "    max-height: 300px;\n",
       "    overflow: auto;\n",
       "  }\n",
       "  table, th, td {\n",
       "    border: 1px solid black;\n",
       "    border-collapse: collapse;\n",
       "  }\n",
       "  th, td {\n",
       "    padding: 5px;\n",
       "  }\n",
       "  th {\n",
       "    text-align: left;\n",
       "  }\n",
       "</style><div class='table-result-container'><table class='table-result'><thead style='background-color: white'><tr><th>name</th><th>total_visits</th><th>resources_used</th></tr></thead><tbody><tr><td>A</td><td>3</td><td>CPU,CPU,DESKTOP</td></tr><tr><td>B</td><td>3</td><td>DESKTOP,DESKTOP,MONITOR</td></tr></tbody></table></div>"
      ]
     },
     "metadata": {
      "application/vnd.databricks.v1+output": {
       "addedWidgets": {},
       "aggData": [],
       "aggError": "",
       "aggOverflow": false,
       "aggSchema": [],
       "aggSeriesLimitReached": false,
       "aggType": "",
       "arguments": {},
       "columnCustomDisplayInfos": {},
       "data": [
        [
         "A",
         3,
         "CPU,CPU,DESKTOP"
        ],
        [
         "B",
         3,
         "DESKTOP,DESKTOP,MONITOR"
        ]
       ],
       "datasetInfos": [
        {
         "name": "_sqldf",
         "schema": {
          "fields": [
           {
            "metadata": {
             "__CHAR_VARCHAR_TYPE_STRING": "varchar(20)"
            },
            "name": "name",
            "nullable": true,
            "type": "string"
           },
           {
            "metadata": {},
            "name": "total_visits",
            "nullable": false,
            "type": "long"
           },
           {
            "metadata": {},
            "name": "resources_used",
            "nullable": true,
            "type": "string"
           }
          ],
          "type": "struct"
         },
         "tableIdentifier": null,
         "typeStr": "pyspark.sql.connect.dataframe.DataFrame"
        }
       ],
       "dbfsResultPath": null,
       "isJsonSchema": true,
       "metadata": {
        "createTempViewForImplicitDf": true,
        "dataframeName": "_sqldf",
        "executionCount": 18
       },
       "overflow": false,
       "plotOptions": {
        "customPlotOptions": {},
        "displayType": "table",
        "pivotAggregation": null,
        "pivotColumns": null,
        "xColumns": null,
        "yColumns": null
       },
       "removedWidgets": [],
       "schema": [
        {
         "metadata": "{\"__CHAR_VARCHAR_TYPE_STRING\": \"varchar(20)\"}",
         "name": "name",
         "type": "\"string\""
        },
        {
         "metadata": "{}",
         "name": "total_visits",
         "type": "\"long\""
        },
        {
         "metadata": "{}",
         "name": "resources_used",
         "type": "\"string\""
        }
       ],
       "type": "table"
      }
     },
     "output_type": "display_data"
    }
   ],
   "source": [
    "%sql\n",
    "select\n",
    "name,\n",
    "count(1) as total_visits,\n",
    "string_agg(resources,',') as resources_used\n",
    "from entries\n",
    "group by name"
   ]
  },
  {
   "cell_type": "code",
   "execution_count": 0,
   "metadata": {
    "application/vnd.databricks.v1+cell": {
     "cellMetadata": {
      "byteLimit": 2048000,
      "implicitDf": true,
      "rowLimit": 10000
     },
     "inputWidgets": {},
     "nuid": "c3b38e8b-190f-4b1d-824e-9673595aa784",
     "showTitle": false,
     "tableResultSettingsMap": {},
     "title": ""
    }
   },
   "outputs": [
    {
     "output_type": "display_data",
     "data": {
      "text/html": [
       "<style scoped>\n",
       "  .table-result-container {\n",
       "    max-height: 300px;\n",
       "    overflow: auto;\n",
       "  }\n",
       "  table, th, td {\n",
       "    border: 1px solid black;\n",
       "    border-collapse: collapse;\n",
       "  }\n",
       "  th, td {\n",
       "    padding: 5px;\n",
       "  }\n",
       "  th {\n",
       "    text-align: left;\n",
       "  }\n",
       "</style><div class='table-result-container'><table class='table-result'><thead style='background-color: white'><tr><th>name</th><th>used_resources</th></tr></thead><tbody><tr><td>A</td><td>CPU,DESKTOP</td></tr><tr><td>B</td><td>DESKTOP,MONITOR</td></tr></tbody></table></div>"
      ]
     },
     "metadata": {
      "application/vnd.databricks.v1+output": {
       "addedWidgets": {},
       "aggData": [],
       "aggError": "",
       "aggOverflow": false,
       "aggSchema": [],
       "aggSeriesLimitReached": false,
       "aggType": "",
       "arguments": {},
       "columnCustomDisplayInfos": {},
       "data": [
        [
         "A",
         "CPU,DESKTOP"
        ],
        [
         "B",
         "DESKTOP,MONITOR"
        ]
       ],
       "datasetInfos": [
        {
         "name": "_sqldf",
         "schema": {
          "fields": [
           {
            "metadata": {
             "__CHAR_VARCHAR_TYPE_STRING": "varchar(20)"
            },
            "name": "name",
            "nullable": true,
            "type": "string"
           },
           {
            "metadata": {},
            "name": "used_resources",
            "nullable": true,
            "type": "string"
           }
          ],
          "type": "struct"
         },
         "tableIdentifier": null,
         "typeStr": "pyspark.sql.connect.dataframe.DataFrame"
        }
       ],
       "dbfsResultPath": null,
       "isJsonSchema": true,
       "metadata": {
        "createTempViewForImplicitDf": true,
        "dataframeName": "_sqldf",
        "executionCount": 78
       },
       "overflow": false,
       "plotOptions": {
        "customPlotOptions": {},
        "displayType": "table",
        "pivotAggregation": null,
        "pivotColumns": null,
        "xColumns": null,
        "yColumns": null
       },
       "removedWidgets": [],
       "schema": [
        {
         "metadata": "{\"__CHAR_VARCHAR_TYPE_STRING\": \"varchar(20)\"}",
         "name": "name",
         "type": "\"string\""
        },
        {
         "metadata": "{}",
         "name": "used_resources",
         "type": "\"string\""
        }
       ],
       "type": "table"
      }
     },
     "output_type": "display_data"
    }
   ],
   "source": [
    "%sql\n",
    "with distinct_records as (\n",
    "  select distinct name, resources from entries\n",
    "),\n",
    "agg_resources as (\n",
    "  select\n",
    "    name,\n",
    "    string_agg(resources, ',') as used_resources\n",
    "  from distinct_records\n",
    "  group by name\n",
    ")\n",
    "select * from agg_resources;"
   ]
  },
  {
   "cell_type": "code",
   "execution_count": 0,
   "metadata": {
    "application/vnd.databricks.v1+cell": {
     "cellMetadata": {
      "byteLimit": 2048000,
      "implicitDf": true,
      "rowLimit": 10000
     },
     "inputWidgets": {},
     "nuid": "0754960b-c475-446d-b37d-2e858f3d1f0c",
     "showTitle": false,
     "tableResultSettingsMap": {},
     "title": ""
    }
   },
   "outputs": [
    {
     "output_type": "display_data",
     "data": {
      "text/html": [
       "<style scoped>\n",
       "  .table-result-container {\n",
       "    max-height: 300px;\n",
       "    overflow: auto;\n",
       "  }\n",
       "  table, th, td {\n",
       "    border: 1px solid black;\n",
       "    border-collapse: collapse;\n",
       "  }\n",
       "  th, td {\n",
       "    padding: 5px;\n",
       "  }\n",
       "  th {\n",
       "    text-align: left;\n",
       "  }\n",
       "</style><div class='table-result-container'><table class='table-result'><thead style='background-color: white'><tr><th>name</th><th>total_visits</th><th>most_visited_floor</th><th>floor_visits</th><th>used_resources</th></tr></thead><tbody><tr><td>A</td><td>3</td><td>1</td><td>2</td><td>DESKTOP,CPU</td></tr><tr><td>B</td><td>3</td><td>2</td><td>2</td><td>MONITOR,DESKTOP</td></tr></tbody></table></div>"
      ]
     },
     "metadata": {
      "application/vnd.databricks.v1+output": {
       "addedWidgets": {},
       "aggData": [],
       "aggError": "",
       "aggOverflow": false,
       "aggSchema": [],
       "aggSeriesLimitReached": false,
       "aggType": "",
       "arguments": {},
       "columnCustomDisplayInfos": {},
       "data": [
        [
         "A",
         3,
         1,
         2,
         "DESKTOP,CPU"
        ],
        [
         "B",
         3,
         2,
         2,
         "MONITOR,DESKTOP"
        ]
       ],
       "datasetInfos": [
        {
         "name": "_sqldf",
         "schema": {
          "fields": [
           {
            "metadata": {
             "__CHAR_VARCHAR_TYPE_STRING": "varchar(20)"
            },
            "name": "name",
            "nullable": true,
            "type": "string"
           },
           {
            "metadata": {},
            "name": "total_visits",
            "nullable": false,
            "type": "long"
           },
           {
            "metadata": {},
            "name": "most_visited_floor",
            "nullable": true,
            "type": "integer"
           },
           {
            "metadata": {},
            "name": "floor_visits",
            "nullable": false,
            "type": "long"
           },
           {
            "metadata": {},
            "name": "used_resources",
            "nullable": true,
            "type": "string"
           }
          ],
          "type": "struct"
         },
         "tableIdentifier": null,
         "typeStr": "pyspark.sql.connect.dataframe.DataFrame"
        }
       ],
       "dbfsResultPath": null,
       "isJsonSchema": true,
       "metadata": {
        "createTempViewForImplicitDf": true,
        "dataframeName": "_sqldf",
        "executionCount": 71
       },
       "overflow": false,
       "plotOptions": {
        "customPlotOptions": {},
        "displayType": "table",
        "pivotAggregation": null,
        "pivotColumns": null,
        "xColumns": null,
        "yColumns": null
       },
       "removedWidgets": [],
       "schema": [
        {
         "metadata": "{\"__CHAR_VARCHAR_TYPE_STRING\": \"varchar(20)\"}",
         "name": "name",
         "type": "\"string\""
        },
        {
         "metadata": "{}",
         "name": "total_visits",
         "type": "\"long\""
        },
        {
         "metadata": "{}",
         "name": "most_visited_floor",
         "type": "\"integer\""
        },
        {
         "metadata": "{}",
         "name": "floor_visits",
         "type": "\"long\""
        },
        {
         "metadata": "{}",
         "name": "used_resources",
         "type": "\"string\""
        }
       ],
       "type": "table"
      }
     },
     "output_type": "display_data"
    }
   ],
   "source": [
    "%sql\n",
    "with distinct_records as (\n",
    "  select distinct name, resources from entries\n",
    "),\n",
    "agg_resources as (\n",
    "  select\n",
    "    name,\n",
    "    string_agg(resources, ',') as used_resources\n",
    "  from distinct_records\n",
    "  group by name\n",
    "),\n",
    "total_visits as (\n",
    "  select\n",
    "    name,\n",
    "    count(1) as total_visits,\n",
    "    string_agg(resources, ',') as resources_used\n",
    "  from entries\n",
    "  group by name\n",
    "),\n",
    "floor_visits as (\n",
    "  select\n",
    "    name,\n",
    "    floor,\n",
    "    count(1) as total_visits,\n",
    "    rank() over(partition by name order by count(1) desc) as rn\n",
    "  from entries\n",
    "  group by name, floor\n",
    ")\n",
    "select \n",
    "  tv.name as name,\n",
    "  tv.total_visits as total_visits,\n",
    "  fv.floor as most_visited_floor,\n",
    "  ar.used_resources as used_resources\n",
    "from total_visits tv\n",
    "join floor_visits fv on tv.name = fv.name\n",
    "join agg_resources ar on tv.name = ar.name\n",
    "where fv.rn = 1;"
   ]
  }
 ],
 "metadata": {
  "application/vnd.databricks.v1+notebook": {
   "computePreferences": {
    "hardware": {
     "accelerator": null,
     "gpuPoolId": null,
     "memory": null
    }
   },
   "dashboards": [],
   "environmentMetadata": {
    "base_environment": "",
    "environment_version": "3"
   },
   "inputWidgetPreferences": null,
   "language": "python",
   "notebookMetadata": {
    "mostRecentlyExecutedCommandWithImplicitDF": {
     "commandId": 5097356841455428,
     "dataframes": [
      "_sqldf"
     ]
    },
    "pythonIndentUnit": 4
   },
   "notebookName": "MostVisitedFloor",
   "widgets": {}
  },
  "language_info": {
   "name": "python"
  }
 },
 "nbformat": 4,
 "nbformat_minor": 0
}